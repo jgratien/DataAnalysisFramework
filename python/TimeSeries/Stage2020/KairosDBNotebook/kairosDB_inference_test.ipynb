{
 "cells": [
  {
   "cell_type": "markdown",
   "metadata": {},
   "source": [
    "# KairosDB Test Functions"
   ]
  },
  {
   "cell_type": "code",
   "execution_count": null,
   "metadata": {
    "scrolled": true
   },
   "outputs": [],
   "source": [
    "%run ../TimeSeriesTools/kairosdb_test --function \"find_all_data\" --metric \"test_eolienne\""
   ]
  },
  {
   "cell_type": "code",
   "execution_count": null,
   "metadata": {},
   "outputs": [],
   "source": [
    "%run ../TimeSeriesTools/kairosdb_test --function \"delete_all_data\" --metric \"test_eolienne\""
   ]
  },
  {
   "cell_type": "code",
   "execution_count": null,
   "metadata": {
    "scrolled": true
   },
   "outputs": [],
   "source": [
    "#test insert bulk for structure 1, data source eolienne\n",
    "%run ../TimeSeriesTools/kairosdb_test --function \"test_insert_bulk\" --source \"eolienne\" --topic \"eolienne_DT\" --metric \"test_eolienne\""
   ]
  },
  {
   "cell_type": "code",
   "execution_count": null,
   "metadata": {},
   "outputs": [],
   "source": [
    "#test insert bulk for structure 1, data source smartGrid>\n",
    "%run ../TimeSeriesTools/kairosdb_test --function \"test_insert_bulk\" --source \"smartGrid\" --topic \"smartGrid\" --metric \"test_smartGrid\""
   ]
  },
  {
   "cell_type": "code",
   "execution_count": null,
   "metadata": {
    "scrolled": true
   },
   "outputs": [],
   "source": [
    "%run ../TimeSeriesTools/kairosdb_test --function \"test_insert_batch\" --source \"eolienne\" --topic \"eolienne_DT\" --metric \"test_eolienne\" --batch 20"
   ]
  },
  {
   "cell_type": "code",
   "execution_count": null,
   "metadata": {},
   "outputs": [],
   "source": [
    "#test insert bulk for structure 2, data source eolienne\n",
    "#27 metrics = 27 colomns \n",
    "%run ../TimeSeriesTools/kairosdb_test --function \"test\" --source \"eolienne\" --topic \"eolienne_DT\" --metric \"test_eolienne\" "
   ]
  },
  {
   "cell_type": "code",
   "execution_count": null,
   "metadata": {},
   "outputs": [],
   "source": [
    "#test insert bulk for structure 2, data source eolienne\n",
    "#3 metrics = 3 colomns \n",
    "%run ../TimeSeriesTools/kairosdb_test --function \"test\" --source \"smartGrid\" --topic \"smartGrid\" --metric \"test_smartGrid\" "
   ]
  },
  {
   "cell_type": "code",
   "execution_count": null,
   "metadata": {},
   "outputs": [],
   "source": [
    "%run ../TimeSeriesTools/kairosdb_test --function \"find_some_data\" --query  '{\"start_absolute\":1,\"metrics\": [{\"name\": \"test_eolienne\",\"tags\": {\"column\" : [\"Temps écoulé\",\"Latitude\"]}}]}'"
   ]
  }
 ],
 "metadata": {
  "kernelspec": {
   "display_name": "Python 3",
   "language": "python",
   "name": "python3"
  },
  "language_info": {
   "codemirror_mode": {
    "name": "ipython",
    "version": 3
   },
   "file_extension": ".py",
   "mimetype": "text/x-python",
   "name": "python",
   "nbconvert_exporter": "python",
   "pygments_lexer": "ipython3",
   "version": "3.7.6"
  }
 },
 "nbformat": 4,
 "nbformat_minor": 4
}
