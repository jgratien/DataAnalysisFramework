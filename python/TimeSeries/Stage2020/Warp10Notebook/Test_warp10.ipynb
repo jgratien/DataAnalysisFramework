{
 "cells": [
  {
   "cell_type": "code",
   "execution_count": 1,
   "metadata": {},
   "outputs": [],
   "source": [
    "import requests\n",
    "import pandas as pd\n",
    "import os\n",
    "from datetime import datetime"
   ]
  },
  {
   "cell_type": "code",
   "execution_count": 2,
   "metadata": {},
   "outputs": [],
   "source": [
    "def readCsv(file,folder):\n",
    "    data_file=os.path.join(folder,file)\n",
    "    data_df=pd.read_csv(data_file,header=0)\n",
    "    return data_df"
   ]
  },
  {
   "cell_type": "code",
   "execution_count": 3,
   "metadata": {},
   "outputs": [],
   "source": [
    "def str_to_unix(date):\n",
    "    dt = datetime.strptime(date, '%d/%m/%Y %H:%M:%S')\n",
    "    epoch = datetime.utcfromtimestamp(0)\n",
    "    return int((dt - epoch).total_seconds())*100000"
   ]
  },
  {
   "cell_type": "code",
   "execution_count": 4,
   "metadata": {},
   "outputs": [],
   "source": [
    "def convertGts(df):\n",
    "    #154633411200000// smartGrid{tag=xxx} 0.000 \n",
    "    series_name = 'smartGrid'\n",
    "    list_trunk=[]\n",
    "    col = ['tagname','value','quality']\n",
    "    for item in df.values : \n",
    "        info = item[0].split(';')\n",
    "        #trunk = str(str_to_unix(info[0]))+'// '+series_name+'{tag='+\"\\\\'\"+info[1]+\"\\\\'\"+'}'+' '+info[2]+\"\\\\n\"+str(str_to_unix(info[0]))+'// '+series_name+'{tag='+\"\\\\'\"+info[1]+\"\\\\'\"+'}'+' '+info[3]\n",
    "        trunk = str(str_to_unix(info[0]))+'// '+series_name+'{col='+col[0]+'}'+' '+\"\\\\'\"+info[1]+\"\\\\'\"+\"\\\\n\"+str(str_to_unix(info[0]))+'// '+series_name+'{col='+col[1]+'}'+' '+info[2]+\"\\\\n\"+str(str_to_unix(info[0]))+'// '+series_name+'{col='+col[2]+'}'+' '+info[3]\n",
    "        print(trunk)\n",
    "        list_trunk.append(trunk)            \n",
    "    return list_trunk"
   ]
  },
  {
   "cell_type": "code",
   "execution_count": 12,
   "metadata": {},
   "outputs": [],
   "source": [
    "def fetch_all(url):\n",
    "    data = '[ \\'Vori8lnlUKnmwYThCEE4UDsoXE92bNavuvMWRuTb75xLGlvhf6UwSHdn1EellRADvocKCgmXQOPLGCRDkoi30iM3b4DJcN1DdgbI2PDQIGhr2v.VJ_5o6DUmRCOJTYBCq0_M8n50x4yNVT8GuqwLdIaaiDCtbz1jt_u2TuCyHtRYPadaKQbPt.\\' \\'~.*\\' {} NOW -1 ] FETCH'\n",
    "    r = requests.post(url, data=data)\n",
    "    return r.json()"
   ]
  },
  {
   "cell_type": "code",
   "execution_count": 5,
   "metadata": {},
   "outputs": [],
   "source": [
    "def push_trunks(data,headers,url):\n",
    "    for item in data:\n",
    "        r = requests.post(url, headers=headers, data=item)\n",
    "        print(\" warp10 server answer \" + str(r.status_code))\n",
    "        print(r.text)"
   ]
  },
  {
   "cell_type": "code",
   "execution_count": 13,
   "metadata": {},
   "outputs": [],
   "source": [
    "def deleteSeries(headers,url,selector):\n",
    "    query = url + '?deleteall&'+ selector\n",
    "    #response = requests.get('http://127.0.0.1:9090/api/v0/delete?deleteall&selector=smartGrid{}', headers=headers)\n",
    "    response = requests.get(query,headers=headers)\n",
    "    print(query)\n",
    "    return response.text"
   ]
  },
  {
   "cell_type": "code",
   "execution_count": 19,
   "metadata": {},
   "outputs": [
    {
     "data": {
      "text/html": [
       "<div>\n",
       "<style scoped>\n",
       "    .dataframe tbody tr th:only-of-type {\n",
       "        vertical-align: middle;\n",
       "    }\n",
       "\n",
       "    .dataframe tbody tr th {\n",
       "        vertical-align: top;\n",
       "    }\n",
       "\n",
       "    .dataframe thead th {\n",
       "        text-align: right;\n",
       "    }\n",
       "</style>\n",
       "<table border=\"1\" class=\"dataframe\">\n",
       "  <thead>\n",
       "    <tr style=\"text-align: right;\">\n",
       "      <th></th>\n",
       "      <th>timestamp;tagname;value;quality</th>\n",
       "    </tr>\n",
       "  </thead>\n",
       "  <tbody>\n",
       "    <tr>\n",
       "      <th>0</th>\n",
       "      <td>01/01/2019 09:15:12;CRY.CENTRALE_SOLAIRE.CRY_a...</td>\n",
       "    </tr>\n",
       "    <tr>\n",
       "      <th>1</th>\n",
       "      <td>01/01/2019 09:15:18;CRY.CENTRALE_SOLAIRE.CRY_a...</td>\n",
       "    </tr>\n",
       "    <tr>\n",
       "      <th>2</th>\n",
       "      <td>01/01/2019 09:15:37;CRY.CENTRALE_SOLAIRE.CRY_a...</td>\n",
       "    </tr>\n",
       "    <tr>\n",
       "      <th>3</th>\n",
       "      <td>01/01/2019 09:15:43;CRY.CENTRALE_SOLAIRE.CRY_a...</td>\n",
       "    </tr>\n",
       "    <tr>\n",
       "      <th>4</th>\n",
       "      <td>01/01/2019 09:15:53;CRY.CENTRALE_SOLAIRE.CRY_a...</td>\n",
       "    </tr>\n",
       "    <tr>\n",
       "      <th>...</th>\n",
       "      <td>...</td>\n",
       "    </tr>\n",
       "    <tr>\n",
       "      <th>20727</th>\n",
       "      <td>01/01/2019 23:58:32;CRY.TGBT_NORMAL.CRY_rea_co...</td>\n",
       "    </tr>\n",
       "    <tr>\n",
       "      <th>20728</th>\n",
       "      <td>01/01/2019 23:58:37;CRY.TGBT_NORMAL.CRY_rea_co...</td>\n",
       "    </tr>\n",
       "    <tr>\n",
       "      <th>20729</th>\n",
       "      <td>01/01/2019 23:59:28;CRY.TGBT_NORMAL.CRY_rea_co...</td>\n",
       "    </tr>\n",
       "    <tr>\n",
       "      <th>20730</th>\n",
       "      <td>01/01/2019 23:59:32;CRY.TGBT_NORMAL.CRY_rea_co...</td>\n",
       "    </tr>\n",
       "    <tr>\n",
       "      <th>20731</th>\n",
       "      <td>01/01/2019 23:59:57;CRY.TGBT_NORMAL.CRY_rea_co...</td>\n",
       "    </tr>\n",
       "  </tbody>\n",
       "</table>\n",
       "<p>20732 rows × 1 columns</p>\n",
       "</div>"
      ],
      "text/plain": [
       "                         timestamp;tagname;value;quality\n",
       "0      01/01/2019 09:15:12;CRY.CENTRALE_SOLAIRE.CRY_a...\n",
       "1      01/01/2019 09:15:18;CRY.CENTRALE_SOLAIRE.CRY_a...\n",
       "2      01/01/2019 09:15:37;CRY.CENTRALE_SOLAIRE.CRY_a...\n",
       "3      01/01/2019 09:15:43;CRY.CENTRALE_SOLAIRE.CRY_a...\n",
       "4      01/01/2019 09:15:53;CRY.CENTRALE_SOLAIRE.CRY_a...\n",
       "...                                                  ...\n",
       "20727  01/01/2019 23:58:32;CRY.TGBT_NORMAL.CRY_rea_co...\n",
       "20728  01/01/2019 23:58:37;CRY.TGBT_NORMAL.CRY_rea_co...\n",
       "20729  01/01/2019 23:59:28;CRY.TGBT_NORMAL.CRY_rea_co...\n",
       "20730  01/01/2019 23:59:32;CRY.TGBT_NORMAL.CRY_rea_co...\n",
       "20731  01/01/2019 23:59:57;CRY.TGBT_NORMAL.CRY_rea_co...\n",
       "\n",
       "[20732 rows x 1 columns]"
      ]
     },
     "execution_count": 19,
     "metadata": {},
     "output_type": "execute_result"
    }
   ],
   "source": [
    "data_folder= r'/home/ymo/local/work-ref/data/TimeSeries'\n",
    "test='dataHistorian-Cryolite-20190101-OneDay.csv'    \n",
    "df = readCsv(test,data_folder)\n",
    "df"
   ]
  },
  {
   "cell_type": "code",
   "execution_count": 8,
   "metadata": {
    "scrolled": true
   },
   "outputs": [
    {
     "data": {
      "text/html": [
       "<div>\n",
       "<style scoped>\n",
       "    .dataframe tbody tr th:only-of-type {\n",
       "        vertical-align: middle;\n",
       "    }\n",
       "\n",
       "    .dataframe tbody tr th {\n",
       "        vertical-align: top;\n",
       "    }\n",
       "\n",
       "    .dataframe thead th {\n",
       "        text-align: right;\n",
       "    }\n",
       "</style>\n",
       "<table border=\"1\" class=\"dataframe\">\n",
       "  <thead>\n",
       "    <tr style=\"text-align: right;\">\n",
       "      <th></th>\n",
       "      <th>timestamp;tagname;value;quality</th>\n",
       "    </tr>\n",
       "  </thead>\n",
       "  <tbody>\n",
       "    <tr>\n",
       "      <th>0</th>\n",
       "      <td>01/01/2019 09:15:12;CRY.CENTRALE_SOLAIRE.CRY_a...</td>\n",
       "    </tr>\n",
       "    <tr>\n",
       "      <th>1</th>\n",
       "      <td>01/01/2019 09:15:18;CRY.CENTRALE_SOLAIRE.CRY_a...</td>\n",
       "    </tr>\n",
       "    <tr>\n",
       "      <th>2</th>\n",
       "      <td>01/01/2019 09:15:37;CRY.CENTRALE_SOLAIRE.CRY_a...</td>\n",
       "    </tr>\n",
       "    <tr>\n",
       "      <th>3</th>\n",
       "      <td>01/01/2019 09:15:43;CRY.CENTRALE_SOLAIRE.CRY_a...</td>\n",
       "    </tr>\n",
       "    <tr>\n",
       "      <th>4</th>\n",
       "      <td>01/01/2019 09:15:53;CRY.CENTRALE_SOLAIRE.CRY_a...</td>\n",
       "    </tr>\n",
       "    <tr>\n",
       "      <th>5</th>\n",
       "      <td>01/01/2019 09:15:58;CRY.CENTRALE_SOLAIRE.CRY_a...</td>\n",
       "    </tr>\n",
       "    <tr>\n",
       "      <th>6</th>\n",
       "      <td>01/01/2019 09:16:13;CRY.CENTRALE_SOLAIRE.CRY_a...</td>\n",
       "    </tr>\n",
       "    <tr>\n",
       "      <th>7</th>\n",
       "      <td>01/01/2019 09:16:23;CRY.CENTRALE_SOLAIRE.CRY_a...</td>\n",
       "    </tr>\n",
       "    <tr>\n",
       "      <th>8</th>\n",
       "      <td>01/01/2019 09:16:53;CRY.CENTRALE_SOLAIRE.CRY_a...</td>\n",
       "    </tr>\n",
       "    <tr>\n",
       "      <th>9</th>\n",
       "      <td>01/01/2019 09:16:59;CRY.CENTRALE_SOLAIRE.CRY_a...</td>\n",
       "    </tr>\n",
       "  </tbody>\n",
       "</table>\n",
       "</div>"
      ],
      "text/plain": [
       "                     timestamp;tagname;value;quality\n",
       "0  01/01/2019 09:15:12;CRY.CENTRALE_SOLAIRE.CRY_a...\n",
       "1  01/01/2019 09:15:18;CRY.CENTRALE_SOLAIRE.CRY_a...\n",
       "2  01/01/2019 09:15:37;CRY.CENTRALE_SOLAIRE.CRY_a...\n",
       "3  01/01/2019 09:15:43;CRY.CENTRALE_SOLAIRE.CRY_a...\n",
       "4  01/01/2019 09:15:53;CRY.CENTRALE_SOLAIRE.CRY_a...\n",
       "5  01/01/2019 09:15:58;CRY.CENTRALE_SOLAIRE.CRY_a...\n",
       "6  01/01/2019 09:16:13;CRY.CENTRALE_SOLAIRE.CRY_a...\n",
       "7  01/01/2019 09:16:23;CRY.CENTRALE_SOLAIRE.CRY_a...\n",
       "8  01/01/2019 09:16:53;CRY.CENTRALE_SOLAIRE.CRY_a...\n",
       "9  01/01/2019 09:16:59;CRY.CENTRALE_SOLAIRE.CRY_a..."
      ]
     },
     "execution_count": 8,
     "metadata": {},
     "output_type": "execute_result"
    }
   ],
   "source": [
    "df_test = df[0:10]\n",
    "df_test"
   ]
  },
  {
   "cell_type": "code",
   "execution_count": 14,
   "metadata": {},
   "outputs": [
    {
     "name": "stdout",
     "output_type": "stream",
     "text": [
      "154633411200000// smartGrid{col=tagname} \\'CRY.CENTRALE_SOLAIRE.CRY_act_prod_pow\\'\\n154633411200000// smartGrid{col=value} 1.000000000\\n154633411200000// smartGrid{col=quality} 100.0\n",
      "154633411800000// smartGrid{col=tagname} \\'CRY.CENTRALE_SOLAIRE.CRY_act_prod_pow\\'\\n154633411800000// smartGrid{col=value} 0.000000000\\n154633411800000// smartGrid{col=quality} 100.0\n",
      "154633413700000// smartGrid{col=tagname} \\'CRY.CENTRALE_SOLAIRE.CRY_act_prod_pow\\'\\n154633413700000// smartGrid{col=value} 1.000000000\\n154633413700000// smartGrid{col=quality} 100.0\n",
      "154633414300000// smartGrid{col=tagname} \\'CRY.CENTRALE_SOLAIRE.CRY_act_prod_pow\\'\\n154633414300000// smartGrid{col=value} 0.000000000\\n154633414300000// smartGrid{col=quality} 100.0\n",
      "154633415300000// smartGrid{col=tagname} \\'CRY.CENTRALE_SOLAIRE.CRY_act_prod_pow\\'\\n154633415300000// smartGrid{col=value} 1.000000000\\n154633415300000// smartGrid{col=quality} 100.0\n",
      "154633415800000// smartGrid{col=tagname} \\'CRY.CENTRALE_SOLAIRE.CRY_act_prod_pow\\'\\n154633415800000// smartGrid{col=value} 0.000000000\\n154633415800000// smartGrid{col=quality} 100.0\n",
      "154633417300000// smartGrid{col=tagname} \\'CRY.CENTRALE_SOLAIRE.CRY_act_prod_pow\\'\\n154633417300000// smartGrid{col=value} 1.000000000\\n154633417300000// smartGrid{col=quality} 100.0\n",
      "154633418300000// smartGrid{col=tagname} \\'CRY.CENTRALE_SOLAIRE.CRY_act_prod_pow\\'\\n154633418300000// smartGrid{col=value} 0.000000000\\n154633418300000// smartGrid{col=quality} 100.0\n",
      "154633421300000// smartGrid{col=tagname} \\'CRY.CENTRALE_SOLAIRE.CRY_act_prod_pow\\'\\n154633421300000// smartGrid{col=value} 1.000000000\\n154633421300000// smartGrid{col=quality} 100.0\n",
      "154633421900000// smartGrid{col=tagname} \\'CRY.CENTRALE_SOLAIRE.CRY_act_prod_pow\\'\\n154633421900000// smartGrid{col=value} 0.000000000\\n154633421900000// smartGrid{col=quality} 100.0\n"
     ]
    },
    {
     "data": {
      "text/plain": [
       "\"154633411200000// smartGrid{col=tagname} \\\\'CRY.CENTRALE_SOLAIRE.CRY_act_prod_pow\\\\'\\\\n154633411200000// smartGrid{col=value} 1.000000000\\\\n154633411200000// smartGrid{col=quality} 100.0\""
      ]
     },
     "execution_count": 14,
     "metadata": {},
     "output_type": "execute_result"
    }
   ],
   "source": [
    "data = convertGts(df_test)\n",
    "data[0]"
   ]
  },
  {
   "cell_type": "code",
   "execution_count": 10,
   "metadata": {},
   "outputs": [
    {
     "name": "stdout",
     "output_type": "stream",
     "text": [
      " warp10 server answer 500\n",
      "<html>\n",
      "<head>\n",
      "<meta http-equiv=\"Content-Type\" content=\"text/html;charset=utf-8\"/>\n",
      "<title>Error 500 Error when updating data: Parse error at &apos;154633411200000// smartGrid{col=tagname} \\&apos;CRY.CENTRALE_SOLAIRE.CRY_act_prod_pow\\&apos;\\n154633411200000// smartGrid{col=value} 1.000000000\\n154633411200000// smartGrid{col=quality} 100.0&apos; (\\&apos;CRY.CENTRALE_SOLAIRE.CRY_act_prod_pow\\&apos;\\n154633411200000// smartGrid{col=value} 1.000000000\\n154633411200000// smartGrid{col=quality} 100.0 (For input string: &quot;\\&apos;CRY.CENTRALE_SOLAIRE.CRY_act_prod_pow\\&apos;\\n154633411200000// smartGrid{col=value} 1.000000000\\n154633411200000// smartGrid{col=quality} 100.0&quot;))</title>\n",
      "</head>\n",
      "<body><h2>HTTP ERROR 500</h2>\n",
      "<p>Problem accessing /api/v0/update. Reason:\n",
      "<pre>    Error when updating data: Parse error at &apos;154633411200000// smartGrid{col=tagname} \\&apos;CRY.CENTRALE_SOLAIRE.CRY_act_prod_pow\\&apos;\\n154633411200000// smartGrid{col=value} 1.000000000\\n154633411200000// smartGrid{col=quality} 100.0&apos; (\\&apos;CRY.CENTRALE_SOLAIRE.CRY_act_prod_pow\\&apos;\\n154633411200000// smartGrid{col=value} 1.000000000\\n154633411200000// smartGrid{col=quality} 100.0 (For input string: &quot;\\&apos;CRY.CENTRALE_SOLAIRE.CRY_act_prod_pow\\&apos;\\n154633411200000// smartGrid{col=value} 1.000000000\\n154633411200000// smartGrid{col=quality} 100.0&quot;))</pre></p>\n",
      "</body>\n",
      "</html>\n",
      "\n",
      " warp10 server answer 500\n",
      "<html>\n",
      "<head>\n",
      "<meta http-equiv=\"Content-Type\" content=\"text/html;charset=utf-8\"/>\n",
      "<title>Error 500 Error when updating data: Parse error at &apos;154633411800000// smartGrid{col=tagname} \\&apos;CRY.CENTRALE_SOLAIRE.CRY_act_prod_pow\\&apos;\\n154633411800000// smartGrid{col=value} 0.000000000\\n154633411800000// smartGrid{col=quality} 100.0&apos; (\\&apos;CRY.CENTRALE_SOLAIRE.CRY_act_prod_pow\\&apos;\\n154633411800000// smartGrid{col=value} 0.000000000\\n154633411800000// smartGrid{col=quality} 100.0 (For input string: &quot;\\&apos;CRY.CENTRALE_SOLAIRE.CRY_act_prod_pow\\&apos;\\n154633411800000// smartGrid{col=value} 0.000000000\\n154633411800000// smartGrid{col=quality} 100.0&quot;))</title>\n",
      "</head>\n",
      "<body><h2>HTTP ERROR 500</h2>\n",
      "<p>Problem accessing /api/v0/update. Reason:\n",
      "<pre>    Error when updating data: Parse error at &apos;154633411800000// smartGrid{col=tagname} \\&apos;CRY.CENTRALE_SOLAIRE.CRY_act_prod_pow\\&apos;\\n154633411800000// smartGrid{col=value} 0.000000000\\n154633411800000// smartGrid{col=quality} 100.0&apos; (\\&apos;CRY.CENTRALE_SOLAIRE.CRY_act_prod_pow\\&apos;\\n154633411800000// smartGrid{col=value} 0.000000000\\n154633411800000// smartGrid{col=quality} 100.0 (For input string: &quot;\\&apos;CRY.CENTRALE_SOLAIRE.CRY_act_prod_pow\\&apos;\\n154633411800000// smartGrid{col=value} 0.000000000\\n154633411800000// smartGrid{col=quality} 100.0&quot;))</pre></p>\n",
      "</body>\n",
      "</html>\n",
      "\n",
      " warp10 server answer 500\n",
      "<html>\n",
      "<head>\n",
      "<meta http-equiv=\"Content-Type\" content=\"text/html;charset=utf-8\"/>\n",
      "<title>Error 500 Error when updating data: Parse error at &apos;154633413700000// smartGrid{col=tagname} \\&apos;CRY.CENTRALE_SOLAIRE.CRY_act_prod_pow\\&apos;\\n154633413700000// smartGrid{col=value} 1.000000000\\n154633413700000// smartGrid{col=quality} 100.0&apos; (\\&apos;CRY.CENTRALE_SOLAIRE.CRY_act_prod_pow\\&apos;\\n154633413700000// smartGrid{col=value} 1.000000000\\n154633413700000// smartGrid{col=quality} 100.0 (For input string: &quot;\\&apos;CRY.CENTRALE_SOLAIRE.CRY_act_prod_pow\\&apos;\\n154633413700000// smartGrid{col=value} 1.000000000\\n154633413700000// smartGrid{col=quality} 100.0&quot;))</title>\n",
      "</head>\n",
      "<body><h2>HTTP ERROR 500</h2>\n",
      "<p>Problem accessing /api/v0/update. Reason:\n",
      "<pre>    Error when updating data: Parse error at &apos;154633413700000// smartGrid{col=tagname} \\&apos;CRY.CENTRALE_SOLAIRE.CRY_act_prod_pow\\&apos;\\n154633413700000// smartGrid{col=value} 1.000000000\\n154633413700000// smartGrid{col=quality} 100.0&apos; (\\&apos;CRY.CENTRALE_SOLAIRE.CRY_act_prod_pow\\&apos;\\n154633413700000// smartGrid{col=value} 1.000000000\\n154633413700000// smartGrid{col=quality} 100.0 (For input string: &quot;\\&apos;CRY.CENTRALE_SOLAIRE.CRY_act_prod_pow\\&apos;\\n154633413700000// smartGrid{col=value} 1.000000000\\n154633413700000// smartGrid{col=quality} 100.0&quot;))</pre></p>\n",
      "</body>\n",
      "</html>\n",
      "\n",
      " warp10 server answer 500\n",
      "<html>\n",
      "<head>\n",
      "<meta http-equiv=\"Content-Type\" content=\"text/html;charset=utf-8\"/>\n",
      "<title>Error 500 Error when updating data: Parse error at &apos;154633414300000// smartGrid{col=tagname} \\&apos;CRY.CENTRALE_SOLAIRE.CRY_act_prod_pow\\&apos;\\n154633414300000// smartGrid{col=value} 0.000000000\\n154633414300000// smartGrid{col=quality} 100.0&apos; (\\&apos;CRY.CENTRALE_SOLAIRE.CRY_act_prod_pow\\&apos;\\n154633414300000// smartGrid{col=value} 0.000000000\\n154633414300000// smartGrid{col=quality} 100.0 (For input string: &quot;\\&apos;CRY.CENTRALE_SOLAIRE.CRY_act_prod_pow\\&apos;\\n154633414300000// smartGrid{col=value} 0.000000000\\n154633414300000// smartGrid{col=quality} 100.0&quot;))</title>\n",
      "</head>\n",
      "<body><h2>HTTP ERROR 500</h2>\n",
      "<p>Problem accessing /api/v0/update. Reason:\n",
      "<pre>    Error when updating data: Parse error at &apos;154633414300000// smartGrid{col=tagname} \\&apos;CRY.CENTRALE_SOLAIRE.CRY_act_prod_pow\\&apos;\\n154633414300000// smartGrid{col=value} 0.000000000\\n154633414300000// smartGrid{col=quality} 100.0&apos; (\\&apos;CRY.CENTRALE_SOLAIRE.CRY_act_prod_pow\\&apos;\\n154633414300000// smartGrid{col=value} 0.000000000\\n154633414300000// smartGrid{col=quality} 100.0 (For input string: &quot;\\&apos;CRY.CENTRALE_SOLAIRE.CRY_act_prod_pow\\&apos;\\n154633414300000// smartGrid{col=value} 0.000000000\\n154633414300000// smartGrid{col=quality} 100.0&quot;))</pre></p>\n",
      "</body>\n",
      "</html>\n",
      "\n",
      " warp10 server answer 500\n",
      "<html>\n",
      "<head>\n",
      "<meta http-equiv=\"Content-Type\" content=\"text/html;charset=utf-8\"/>\n",
      "<title>Error 500 Error when updating data: Parse error at &apos;154633415300000// smartGrid{col=tagname} \\&apos;CRY.CENTRALE_SOLAIRE.CRY_act_prod_pow\\&apos;\\n154633415300000// smartGrid{col=value} 1.000000000\\n154633415300000// smartGrid{col=quality} 100.0&apos; (\\&apos;CRY.CENTRALE_SOLAIRE.CRY_act_prod_pow\\&apos;\\n154633415300000// smartGrid{col=value} 1.000000000\\n154633415300000// smartGrid{col=quality} 100.0 (For input string: &quot;\\&apos;CRY.CENTRALE_SOLAIRE.CRY_act_prod_pow\\&apos;\\n154633415300000// smartGrid{col=value} 1.000000000\\n154633415300000// smartGrid{col=quality} 100.0&quot;))</title>\n",
      "</head>\n",
      "<body><h2>HTTP ERROR 500</h2>\n",
      "<p>Problem accessing /api/v0/update. Reason:\n",
      "<pre>    Error when updating data: Parse error at &apos;154633415300000// smartGrid{col=tagname} \\&apos;CRY.CENTRALE_SOLAIRE.CRY_act_prod_pow\\&apos;\\n154633415300000// smartGrid{col=value} 1.000000000\\n154633415300000// smartGrid{col=quality} 100.0&apos; (\\&apos;CRY.CENTRALE_SOLAIRE.CRY_act_prod_pow\\&apos;\\n154633415300000// smartGrid{col=value} 1.000000000\\n154633415300000// smartGrid{col=quality} 100.0 (For input string: &quot;\\&apos;CRY.CENTRALE_SOLAIRE.CRY_act_prod_pow\\&apos;\\n154633415300000// smartGrid{col=value} 1.000000000\\n154633415300000// smartGrid{col=quality} 100.0&quot;))</pre></p>\n",
      "</body>\n",
      "</html>\n",
      "\n",
      " warp10 server answer 500\n",
      "<html>\n",
      "<head>\n",
      "<meta http-equiv=\"Content-Type\" content=\"text/html;charset=utf-8\"/>\n",
      "<title>Error 500 Error when updating data: Parse error at &apos;154633415800000// smartGrid{col=tagname} \\&apos;CRY.CENTRALE_SOLAIRE.CRY_act_prod_pow\\&apos;\\n154633415800000// smartGrid{col=value} 0.000000000\\n154633415800000// smartGrid{col=quality} 100.0&apos; (\\&apos;CRY.CENTRALE_SOLAIRE.CRY_act_prod_pow\\&apos;\\n154633415800000// smartGrid{col=value} 0.000000000\\n154633415800000// smartGrid{col=quality} 100.0 (For input string: &quot;\\&apos;CRY.CENTRALE_SOLAIRE.CRY_act_prod_pow\\&apos;\\n154633415800000// smartGrid{col=value} 0.000000000\\n154633415800000// smartGrid{col=quality} 100.0&quot;))</title>\n",
      "</head>\n",
      "<body><h2>HTTP ERROR 500</h2>\n",
      "<p>Problem accessing /api/v0/update. Reason:\n",
      "<pre>    Error when updating data: Parse error at &apos;154633415800000// smartGrid{col=tagname} \\&apos;CRY.CENTRALE_SOLAIRE.CRY_act_prod_pow\\&apos;\\n154633415800000// smartGrid{col=value} 0.000000000\\n154633415800000// smartGrid{col=quality} 100.0&apos; (\\&apos;CRY.CENTRALE_SOLAIRE.CRY_act_prod_pow\\&apos;\\n154633415800000// smartGrid{col=value} 0.000000000\\n154633415800000// smartGrid{col=quality} 100.0 (For input string: &quot;\\&apos;CRY.CENTRALE_SOLAIRE.CRY_act_prod_pow\\&apos;\\n154633415800000// smartGrid{col=value} 0.000000000\\n154633415800000// smartGrid{col=quality} 100.0&quot;))</pre></p>\n",
      "</body>\n",
      "</html>\n",
      "\n",
      " warp10 server answer 500\n",
      "<html>\n",
      "<head>\n",
      "<meta http-equiv=\"Content-Type\" content=\"text/html;charset=utf-8\"/>\n",
      "<title>Error 500 Error when updating data: Parse error at &apos;154633417300000// smartGrid{col=tagname} \\&apos;CRY.CENTRALE_SOLAIRE.CRY_act_prod_pow\\&apos;\\n154633417300000// smartGrid{col=value} 1.000000000\\n154633417300000// smartGrid{col=quality} 100.0&apos; (\\&apos;CRY.CENTRALE_SOLAIRE.CRY_act_prod_pow\\&apos;\\n154633417300000// smartGrid{col=value} 1.000000000\\n154633417300000// smartGrid{col=quality} 100.0 (For input string: &quot;\\&apos;CRY.CENTRALE_SOLAIRE.CRY_act_prod_pow\\&apos;\\n154633417300000// smartGrid{col=value} 1.000000000\\n154633417300000// smartGrid{col=quality} 100.0&quot;))</title>\n",
      "</head>\n",
      "<body><h2>HTTP ERROR 500</h2>\n",
      "<p>Problem accessing /api/v0/update. Reason:\n",
      "<pre>    Error when updating data: Parse error at &apos;154633417300000// smartGrid{col=tagname} \\&apos;CRY.CENTRALE_SOLAIRE.CRY_act_prod_pow\\&apos;\\n154633417300000// smartGrid{col=value} 1.000000000\\n154633417300000// smartGrid{col=quality} 100.0&apos; (\\&apos;CRY.CENTRALE_SOLAIRE.CRY_act_prod_pow\\&apos;\\n154633417300000// smartGrid{col=value} 1.000000000\\n154633417300000// smartGrid{col=quality} 100.0 (For input string: &quot;\\&apos;CRY.CENTRALE_SOLAIRE.CRY_act_prod_pow\\&apos;\\n154633417300000// smartGrid{col=value} 1.000000000\\n154633417300000// smartGrid{col=quality} 100.0&quot;))</pre></p>\n",
      "</body>\n",
      "</html>\n",
      "\n",
      " warp10 server answer 500\n",
      "<html>\n",
      "<head>\n",
      "<meta http-equiv=\"Content-Type\" content=\"text/html;charset=utf-8\"/>\n",
      "<title>Error 500 Error when updating data: Parse error at &apos;154633418300000// smartGrid{col=tagname} \\&apos;CRY.CENTRALE_SOLAIRE.CRY_act_prod_pow\\&apos;\\n154633418300000// smartGrid{col=value} 0.000000000\\n154633418300000// smartGrid{col=quality} 100.0&apos; (\\&apos;CRY.CENTRALE_SOLAIRE.CRY_act_prod_pow\\&apos;\\n154633418300000// smartGrid{col=value} 0.000000000\\n154633418300000// smartGrid{col=quality} 100.0 (For input string: &quot;\\&apos;CRY.CENTRALE_SOLAIRE.CRY_act_prod_pow\\&apos;\\n154633418300000// smartGrid{col=value} 0.000000000\\n154633418300000// smartGrid{col=quality} 100.0&quot;))</title>\n",
      "</head>\n",
      "<body><h2>HTTP ERROR 500</h2>\n",
      "<p>Problem accessing /api/v0/update. Reason:\n",
      "<pre>    Error when updating data: Parse error at &apos;154633418300000// smartGrid{col=tagname} \\&apos;CRY.CENTRALE_SOLAIRE.CRY_act_prod_pow\\&apos;\\n154633418300000// smartGrid{col=value} 0.000000000\\n154633418300000// smartGrid{col=quality} 100.0&apos; (\\&apos;CRY.CENTRALE_SOLAIRE.CRY_act_prod_pow\\&apos;\\n154633418300000// smartGrid{col=value} 0.000000000\\n154633418300000// smartGrid{col=quality} 100.0 (For input string: &quot;\\&apos;CRY.CENTRALE_SOLAIRE.CRY_act_prod_pow\\&apos;\\n154633418300000// smartGrid{col=value} 0.000000000\\n154633418300000// smartGrid{col=quality} 100.0&quot;))</pre></p>\n",
      "</body>\n",
      "</html>\n",
      "\n",
      " warp10 server answer 500\n",
      "<html>\n",
      "<head>\n",
      "<meta http-equiv=\"Content-Type\" content=\"text/html;charset=utf-8\"/>\n",
      "<title>Error 500 Error when updating data: Parse error at &apos;154633421300000// smartGrid{col=tagname} \\&apos;CRY.CENTRALE_SOLAIRE.CRY_act_prod_pow\\&apos;\\n154633421300000// smartGrid{col=value} 1.000000000\\n154633421300000// smartGrid{col=quality} 100.0&apos; (\\&apos;CRY.CENTRALE_SOLAIRE.CRY_act_prod_pow\\&apos;\\n154633421300000// smartGrid{col=value} 1.000000000\\n154633421300000// smartGrid{col=quality} 100.0 (For input string: &quot;\\&apos;CRY.CENTRALE_SOLAIRE.CRY_act_prod_pow\\&apos;\\n154633421300000// smartGrid{col=value} 1.000000000\\n154633421300000// smartGrid{col=quality} 100.0&quot;))</title>\n",
      "</head>\n",
      "<body><h2>HTTP ERROR 500</h2>\n",
      "<p>Problem accessing /api/v0/update. Reason:\n",
      "<pre>    Error when updating data: Parse error at &apos;154633421300000// smartGrid{col=tagname} \\&apos;CRY.CENTRALE_SOLAIRE.CRY_act_prod_pow\\&apos;\\n154633421300000// smartGrid{col=value} 1.000000000\\n154633421300000// smartGrid{col=quality} 100.0&apos; (\\&apos;CRY.CENTRALE_SOLAIRE.CRY_act_prod_pow\\&apos;\\n154633421300000// smartGrid{col=value} 1.000000000\\n154633421300000// smartGrid{col=quality} 100.0 (For input string: &quot;\\&apos;CRY.CENTRALE_SOLAIRE.CRY_act_prod_pow\\&apos;\\n154633421300000// smartGrid{col=value} 1.000000000\\n154633421300000// smartGrid{col=quality} 100.0&quot;))</pre></p>\n",
      "</body>\n",
      "</html>\n",
      "\n",
      " warp10 server answer 500\n",
      "<html>\n",
      "<head>\n",
      "<meta http-equiv=\"Content-Type\" content=\"text/html;charset=utf-8\"/>\n",
      "<title>Error 500 Error when updating data: Parse error at &apos;154633421900000// smartGrid{col=tagname} \\&apos;CRY.CENTRALE_SOLAIRE.CRY_act_prod_pow\\&apos;\\n154633421900000// smartGrid{col=value} 0.000000000\\n154633421900000// smartGrid{col=quality} 100.0&apos; (\\&apos;CRY.CENTRALE_SOLAIRE.CRY_act_prod_pow\\&apos;\\n154633421900000// smartGrid{col=value} 0.000000000\\n154633421900000// smartGrid{col=quality} 100.0 (For input string: &quot;\\&apos;CRY.CENTRALE_SOLAIRE.CRY_act_prod_pow\\&apos;\\n154633421900000// smartGrid{col=value} 0.000000000\\n154633421900000// smartGrid{col=quality} 100.0&quot;))</title>\n",
      "</head>\n",
      "<body><h2>HTTP ERROR 500</h2>\n",
      "<p>Problem accessing /api/v0/update. Reason:\n",
      "<pre>    Error when updating data: Parse error at &apos;154633421900000// smartGrid{col=tagname} \\&apos;CRY.CENTRALE_SOLAIRE.CRY_act_prod_pow\\&apos;\\n154633421900000// smartGrid{col=value} 0.000000000\\n154633421900000// smartGrid{col=quality} 100.0&apos; (\\&apos;CRY.CENTRALE_SOLAIRE.CRY_act_prod_pow\\&apos;\\n154633421900000// smartGrid{col=value} 0.000000000\\n154633421900000// smartGrid{col=quality} 100.0 (For input string: &quot;\\&apos;CRY.CENTRALE_SOLAIRE.CRY_act_prod_pow\\&apos;\\n154633421900000// smartGrid{col=value} 0.000000000\\n154633421900000// smartGrid{col=quality} 100.0&quot;))</pre></p>\n",
      "</body>\n",
      "</html>\n",
      "\n"
     ]
    }
   ],
   "source": [
    "#push\n",
    "headers_write = {\n",
    "    'X-Warp10-Token': 'cz7.51xyPcRvOUr3KH6UPFDUNdPIshpREsi0rBEWITDEG6BsGKpHZT4qFsOwvXmzyQxJXZ_VBPv5bwSEIRsV4Plu9ocCNgzG61KP23aSYceKUZLunmw69tqQy9sLzSfb',\n",
    "}\n",
    "url = \"http://127.0.0.1:9090/api/v0/update\"\n",
    "push_trunks(data,headers_write,url)"
   ]
  },
  {
   "cell_type": "code",
   "execution_count": 18,
   "metadata": {},
   "outputs": [
    {
     "data": {
      "text/plain": [
       "[[{'c': 'smartGrid',\n",
       "   'l': {'col': 'value', '.app': 'io.warp10.bootstrap'},\n",
       "   'a': {},\n",
       "   'la': 0,\n",
       "   'v': [[154633411200000, 1.0]]},\n",
       "  {'c': 'smartGrid',\n",
       "   'l': {'col': 'quality', '.app': 'io.warp10.bootstrap'},\n",
       "   'a': {},\n",
       "   'la': 0,\n",
       "   'v': [[154633411200000, 100.0]]},\n",
       "  {'c': 'smartGrid',\n",
       "   'l': {'col': 'tagname', '.app': 'io.warp10.bootstrap'},\n",
       "   'a': {},\n",
       "   'la': 0,\n",
       "   'v': [[154633411200000, 'CRY.CENTRALE_SOLAIRE.CRY_act_prod_pow']]}]]"
      ]
     },
     "execution_count": 18,
     "metadata": {},
     "output_type": "execute_result"
    }
   ],
   "source": [
    "#fetch\n",
    "url='http://127.0.0.1:9090/api/v0/exec'\n",
    "fetch_all(url)"
   ]
  },
  {
   "cell_type": "code",
   "execution_count": 16,
   "metadata": {},
   "outputs": [
    {
     "name": "stdout",
     "output_type": "stream",
     "text": [
      "http://127.0.0.1:9090/api/v0/delete?deleteall&selector=VehicleSpeed{}\n"
     ]
    },
    {
     "data": {
      "text/plain": [
       "''"
      ]
     },
     "execution_count": 16,
     "metadata": {},
     "output_type": "execute_result"
    }
   ],
   "source": [
    "#delete\n",
    "url = 'http://127.0.0.1:9090/api/v0/delete'\n",
    "selector = 'selector=VehicleSpeed{}'\n",
    "deleteSeries(headers_write,url,selector)"
   ]
  },
  {
   "cell_type": "markdown",
   "metadata": {},
   "source": [
    "TS/LAT:LON/ELEV NAME{LABELS}{ATTRIBUTES} VALUE<br>\n",
    "TS// NAME{} VALUE<br>\n",
    "https://www.warp10.io/content/03_Documentation/03_Interacting_with_Warp_10/03_Ingesting_data/02_GTS_input_format  "
   ]
  },
  {
   "cell_type": "code",
   "execution_count": 17,
   "metadata": {},
   "outputs": [
    {
     "name": "stdout",
     "output_type": "stream",
     "text": [
      " warp10 server answer 200\n",
      "\n"
     ]
    }
   ],
   "source": [
    "#test -- push\n",
    "import requests\n",
    "\n",
    "headers = {\n",
    "    'X-Warp10-Token': 'cz7.51xyPcRvOUr3KH6UPFDUNdPIshpREsi0rBEWITDEG6BsGKpHZT4qFsOwvXmzyQxJXZ_VBPv5bwSEIRsV4Plu9ocCNgzG61KP23aSYceKUZLunmw69tqQy9sLzSfb',\n",
    "}\n",
    "url = \"http://127.0.0.1:9090/api/v0/update\"\n",
    "data=\"154633411200000// smartGrid{col=tagname} \\'CRY.CENTRALE_SOLAIRE.CRY_act_prod_pow\\'\\n154633411200000// smartGrid{col=value} 1.000000000\\n154633411200000// smartGrid{col=quality} 100.0\"\n",
    "r = requests.post(url, headers=headers, data=data)\n",
    "print(\" warp10 server answer \" + str(r.status_code))\n",
    "print(r.text)"
   ]
  },
  {
   "cell_type": "code",
   "execution_count": null,
   "metadata": {},
   "outputs": [],
   "source": []
  }
 ],
 "metadata": {
  "kernelspec": {
   "display_name": "Python 3",
   "language": "python",
   "name": "python3"
  },
  "language_info": {
   "codemirror_mode": {
    "name": "ipython",
    "version": 3
   },
   "file_extension": ".py",
   "mimetype": "text/x-python",
   "name": "python",
   "nbconvert_exporter": "python",
   "pygments_lexer": "ipython3",
   "version": "3.7.6"
  }
 },
 "nbformat": 4,
 "nbformat_minor": 4
}
