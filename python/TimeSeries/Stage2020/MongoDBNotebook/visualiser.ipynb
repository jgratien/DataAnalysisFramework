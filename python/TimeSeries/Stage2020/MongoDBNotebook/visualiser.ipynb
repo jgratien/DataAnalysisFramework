{
 "cells": [
  {
   "cell_type": "code",
   "execution_count": null,
   "metadata": {},
   "outputs": [],
   "source": [
    "import visdom\n",
    "import numpy as np\n",
    "import sys\n",
    "sys.path.append(\"../TimeSeriesTools\")\n",
    "import utils\n",
    "from cerberus import Validator\n",
    "import chart_studio.plotly as py\n",
    "import plotly.graph_objs as go\n",
    "import plotly.express as px\n",
    "import plotly.tools as tls\n",
    "\n",
    "import pandas as pd\n",
    "from datetime import datetime\n",
    "\n",
    "\n",
    "def find_all_data(col):\n",
    "    data_list=[]\n",
    "    for d in collection.find():\n",
    "        data_list.append(d)\n",
    "    print(len(data_list), \" documents found\")\n",
    "    return data_list  "
   ]
  },
  {
   "cell_type": "code",
   "execution_count": null,
   "metadata": {},
   "outputs": [],
   "source": [
    "def to_unix_time(dt):\n",
    "    epoch =  datetime.utcfromtimestamp(7200)\n",
    "    return (dt - epoch).total_seconds() * 1000"
   ]
  },
  {
   "cell_type": "code",
   "execution_count": null,
   "metadata": {},
   "outputs": [],
   "source": [
    "def clean_data(data):\n",
    "    schema =  {\n",
    "    \"_id\":{'required': True},\n",
    "    \"Heure\":{'type': 'string','required': True,'empty': False},\n",
    "    \"Temps écoulé\":{'type': 'string','required': True,'empty': False},\n",
    "    \"Latitude\":{'type': 'string','required': True,'empty': False},\n",
    "    \"Longitude\":{'type': 'string','required': True,'empty': False},\n",
    "    \"Altitude\":{'type': 'string','required': True,'empty': False},\n",
    "    \"Head_Rel_True North\":{'type': 'string','required': True,'empty': False},\n",
    "    \"Pressure\":{'type': 'string','required': True,'empty': False},\n",
    "    \"Temperature\":{'type': 'string','required': True,'empty': False},\n",
    "    \"Humidity\":{'type': 'string','required': True,'empty': False},\n",
    "    \"MDA Wnd Dir\":{'type': 'string','required': True,'empty': False},\n",
    "    \"MDA Wnd Speed\":{'type': 'string','required': True,'empty': False},\n",
    "    \"MWD Wind Dir\":{'type': 'string','required': True,'empty': False},\n",
    "    \"MWD Wind Speed\":{'type': 'string','required': True,'empty': False},\n",
    "    \"CavityPressure\":{'type': 'string','required': True,'empty': False},    \n",
    "    \"CavityTemp\":{'type': 'string','required': True,'empty': False},\n",
    "    \"CH4\":{'type': 'string','required': True,'empty': False},\n",
    "    \"CH4_dry\":{'type': 'string','required': True,'empty': False},\n",
    "    \"C2H6\":{'type': 'string','required': True,'empty': False},\n",
    "    \"C2H6_dry\":{'type': 'string','required': True,'empty': False},\n",
    "    \"13CH4\":{'type': 'string','required': True,'empty': False},\n",
    "    \"H2O\":{'type': 'string','required': True,'empty': False},\n",
    "    \"CO2\":{'type': 'string','required': True,'empty': False},\n",
    "    \"C2C1Ratio\":{'type': 'string','required': True,'empty': False},\n",
    "    \"Delta_iCH4_Raw\":{'type': 'string','required': True,'empty': False},\n",
    "    \"HP_Delta_iCH4_30s\":{'type': 'string','required': True,'empty': False},\n",
    "    \"HP_Delta_iCH4_2min\":{'type': 'string','required': True,'empty': False},\n",
    "    \"HP_Delta_iCH4_5min\":{'type': 'string','required': True,'empty': False}\n",
    "    }\n",
    "    v = Validator(schema)\n",
    "    for index,item in enumerate(data,start=0):\n",
    "        res = v.validate(item)\n",
    "        if (res == False):\n",
    "            print(\"corrupt data in line :\",index,\", error : \",v.errors)\n",
    "            del data[index]"
   ]
  },
  {
   "cell_type": "code",
   "execution_count": null,
   "metadata": {},
   "outputs": [],
   "source": [
    "domain = \"localhost\"\n",
    "port=27017\n",
    "client = utils.mongodb_connect(domain, port)\n",
    "collection = client.test['eolienne_DT']\n",
    "data = find_all_data(collection)"
   ]
  },
  {
   "cell_type": "code",
   "execution_count": null,
   "metadata": {},
   "outputs": [],
   "source": [
    "clean_data(data)"
   ]
  },
  {
   "cell_type": "code",
   "execution_count": null,
   "metadata": {
    "scrolled": false
   },
   "outputs": [],
   "source": [
    "df = pd.DataFrame(data)\n",
    "df"
   ]
  },
  {
   "cell_type": "code",
   "execution_count": null,
   "metadata": {},
   "outputs": [],
   "source": [
    "dates_list = [datetime.strptime(date, '%d/%m/%Y %H:%M:%S') for date in df['Heure']]\n",
    "dates_list"
   ]
  },
  {
   "cell_type": "code",
   "execution_count": null,
   "metadata": {},
   "outputs": [],
   "source": [
    "x_ref = dates_list[0:5000]\n",
    "x=[str(xx) for xx in x_ref]\n",
    "fig = go.Figure()\n",
    "fig.add_trace(go.Scatter(\n",
    "                x=x,\n",
    "                y=[float(item.replace(',', '.')) for item in df[\"CH4\"][0:5000]],\n",
    "                name=\"CH4\",\n",
    "                line_color='deepskyblue',\n",
    "                opacity=0.8))\n",
    "\n",
    "fig.add_trace(go.Scatter(\n",
    "                x=x,\n",
    "                y=[float(item.replace(',', '.')) for item in df[\"Humidity\"][0:5000]],\n",
    "                name=\"Humidity\",\n",
    "                line_color='dimgray',\n",
    "                opacity=0.8))\n",
    "\n",
    "# Use date string to set xaxis range\n",
    "fig.update_layout(xaxis_range=[to_unix_time(x_ref[0]),\n",
    "                               to_unix_time(x_ref[-1])],\n",
    "                  title_text=\"Manually Set Date Range\")\n",
    "fig.show()"
   ]
  },
  {
   "cell_type": "code",
   "execution_count": null,
   "metadata": {},
   "outputs": [],
   "source": [
    "vis = visdom.Visdom()\n",
    "vis.plotlyplot(fig)"
   ]
  }
 ],
 "metadata": {
  "kernelspec": {
   "display_name": "Python 3",
   "language": "python",
   "name": "python3"
  },
  "language_info": {
   "codemirror_mode": {
    "name": "ipython",
    "version": 3
   },
   "file_extension": ".py",
   "mimetype": "text/x-python",
   "name": "python",
   "nbconvert_exporter": "python",
   "pygments_lexer": "ipython3",
   "version": "3.7.6"
  }
 },
 "nbformat": 4,
 "nbformat_minor": 4
}
