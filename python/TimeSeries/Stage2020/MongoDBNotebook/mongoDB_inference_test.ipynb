{
 "cells": [
  {
   "cell_type": "markdown",
   "metadata": {},
   "source": [
    "# MongoDB basic test functions\n",
    "## Function list : \n",
    "        test_insert_bulk, \n",
    "        test_insert_one, \n",
    "        find_some_data, \n",
    "        find_all_data, \n",
    "        update_some_data, \n",
    "        update_all_data"
   ]
  },
  {
   "cell_type": "markdown",
   "metadata": {},
   "source": [
    "### Dependence : service kafka, kafka zookeeper, service mongoDB, jaeger-all-in-one, utils.py, mongodb_test.py\n",
    "### Parameter list : \n",
    "        choose test function (required) : --function,\n",
    "        pass query string : --query,\n",
    "        pass new value for update operation : --value,\n",
    "        choose topic : --topic,\n",
    "        choose mongodb collection : --collection,\n",
    "        pass name of jaeger tarcer : --tracer"
   ]
  },
  {
   "cell_type": "markdown",
   "metadata": {},
   "source": [
    "## Insertion test :\n",
    "### Insert data from a topic line by line. Optional parameters : --topic, --collection, --tracer"
   ]
  },
  {
   "cell_type": "code",
   "execution_count": null,
   "metadata": {},
   "outputs": [],
   "source": [
    "%run ../TimeSeriesTools/mongodb_test.py --function test_insert_one"
   ]
  },
  {
   "cell_type": "markdown",
   "metadata": {},
   "source": [
    "### Insert data from a topic in bulk. Optional parameters : --topic, --collection, --tracer"
   ]
  },
  {
   "cell_type": "code",
   "execution_count": null,
   "metadata": {},
   "outputs": [],
   "source": [
    "%run ../TimeSeriesTools/mongodb_test.py --function test_insert_bulk"
   ]
  },
  {
   "cell_type": "markdown",
   "metadata": {},
   "source": [
    "## Read test : \n",
    "### Read all data from a mongodb collection. Optional parameters : --collection, --tracer"
   ]
  },
  {
   "cell_type": "code",
   "execution_count": null,
   "metadata": {},
   "outputs": [],
   "source": [
    "%run ../TimeSeriesTools/mongodb_test.py --function find_all_data"
   ]
  },
  {
   "cell_type": "markdown",
   "metadata": {},
   "source": [
    "### Select some data from a mongodb collection by a query. Optional parameters : --collection, --query, --tracer"
   ]
  },
  {
   "cell_type": "code",
   "execution_count": null,
   "metadata": {
    "scrolled": true
   },
   "outputs": [],
   "source": [
    "%run ../TimeSeriesTools/mongodb_test.py --function find_some_data --query '{\"Heure\":{\"$regex\":\"11:\"}}'"
   ]
  },
  {
   "cell_type": "markdown",
   "metadata": {},
   "source": [
    "## Update test :\n",
    "### Update all documents in a mongodb collection. Optional parameters : --value, --collection, --tracer"
   ]
  },
  {
   "cell_type": "code",
   "execution_count": null,
   "metadata": {
    "scrolled": true
   },
   "outputs": [],
   "source": [
    "%run ../TimeSeriesTools/mongodb_test.py --function update_all_data --value '{\"$set\":{\"C2H6\":\"0\"}}'"
   ]
  },
  {
   "cell_type": "markdown",
   "metadata": {},
   "source": [
    "### Update selected documents in a mongodb collection. Optional parameters : --collection, --query, --value, --tracer"
   ]
  },
  {
   "cell_type": "code",
   "execution_count": null,
   "metadata": {},
   "outputs": [],
   "source": [
    "%run ../TimeSeriesTools/mongodb_test.py --function update_some_data --query '{\"Heure\":{\"$regex\":\"02/10\"}}' --value '{\"$set\":{\"C2H6\":\"1\"}}'"
   ]
  }
 ],
 "metadata": {
  "kernelspec": {
   "display_name": "Python 3",
   "language": "python",
   "name": "python3"
  },
  "language_info": {
   "codemirror_mode": {
    "name": "ipython",
    "version": 3
   },
   "file_extension": ".py",
   "mimetype": "text/x-python",
   "name": "python",
   "nbconvert_exporter": "python",
   "pygments_lexer": "ipython3",
   "version": "3.7.4"
  }
 },
 "nbformat": 4,
 "nbformat_minor": 2
}
