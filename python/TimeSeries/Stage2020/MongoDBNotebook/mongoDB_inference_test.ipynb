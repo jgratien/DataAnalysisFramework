{
 "cells": [
  {
   "cell_type": "markdown",
   "metadata": {},
   "source": [
    "# MongoDB basic test functions\n",
    "Tous les fonctions de tests sont écrits dans le fichier `../TimeSeriesTools/mongodb_test.py`. \n",
    "<br>Pour exécuter la fonction à tester, il faut utiliser les lignes commandes dans un terminal ou exécuter les cellules avec les paramètres d'entrée dans le fichier `../MongoDBNotebook/mongoDB_inference_test.ipynb` avec jupyter-notebook. \n",
    "\n",
    "#### Liste des paramètres d'entrée : \n",
    " - `--query`: le string de la requête\n",
    "   - valeur par défaut : '{\"timestamp\":{\"$regex\":\"10:\"}}'\n",
    " - `--value`: la requête des modifications des données sélectionnées\n",
    "    - valeur par défaut : '{\"$set\":{\"timestamp\":\"00/00/0000 00:00\"}}\n",
    " - `--topic`: indiquer le nom du topic désiré\n",
    "    - valeur par défaut : \"eolienne_DT\"\n",
    " - `--collection`: indiquer le nom de la collection désirée\n",
    "    - valeur par défaut : \"eolienne_DT\"\n",
    " - `--tracer`: indiquer le nom du tracer à initialiser\n",
    "    - valeur par défaut : \"mongodb_test_eolienne_1_jour\"\n",
    " - `--domain`: indiquer l'address du domaine pour connecter à la base de mongodb\n",
    "    - valeur par défaut : \"localhost\"\n",
    " - `--port`: indiquer la porte pour connecter à la base de mongodb\n",
    "    - valeur par défaut : \"27017\"\n",
    " - `--function`: indiquer le nom de la fonction à tester, il n'a pas de valeur par défaut donc cet paramètre est **obligatoire**. \n",
    "\n",
    "**Remarque** : \n",
    "- Sauf que le numéro de la porte est int, toutes les types des paramètres d'entrée sont string.\n",
    "- Les paramètres suivantes sont optionnels pour toutes les functions : \n",
    "    - <--tracer>\n",
    "    - <--collection>\n",
    "    - <--domain>\n",
    "    - <--port>\n",
    "\n",
    "Dans le script python il y a 6 fonctions de test à choisir :\n",
    "- `test_insert_bulk` : Mesurer le temps pour insérer toutes les données collectées dans la base de donnée à la fois.\n",
    "  - paramètres optionnels: <--topic>  \n",
    "\n",
    "- `test_insert_one` : Mesurer le temps pour insérer toutes les données collectées dans la base de donnée ligne par ligne.\n",
    "  - paramètres optionnels: <--topic>\n",
    " \n",
    "- `find_some_data` : Mesurer le temps pour trouver les données correspondantes à la requête dans la base de donnée.\n",
    "  - paramètres optionnels: <--query>\n",
    " \n",
    "- `find_all_data` : Mesurer le temps pour lire toutes les données dans la base de donnée.\n",
    "\n",
    "- `update_some_data` : Mesurer le temps pour modifier les données correspondantes à la requête dans la base de donnée.\n",
    "  - paramètres optionnels: <--query>,<--value>\n",
    "\n",
    "- `update_all_data`: Mesurer le temps pour modifier toutes les données dans la base de donnée.\n",
    "  - paramètres optionnels: <--query>,<--value>\n",
    "  "
   ]
  },
  {
   "cell_type": "markdown",
   "metadata": {},
   "source": [
    "### Dependence : service kafka, kafka zookeeper, service mongoDB, jaeger-all-in-one, utils.py, mongodb_test.py"
   ]
  },
  {
   "cell_type": "markdown",
   "metadata": {},
   "source": [
    "Après l'exécution du script, un tracer qui contient des sous-span (chaque span précise une étape d'opération) est signalé. Les informations et les barres intéractives sont ensuite disponibles sur wen UI de jeager (http://localhost:16686 par défaut)."
   ]
  },
  {
   "cell_type": "markdown",
   "metadata": {},
   "source": [
    "## Insertion test :\n",
    "Avant les tests d'insertion, il est obligatoire d'avoire les données dans un topic parce que les codes utilisent un kafka consumer comme la ressource de données. Si les données sont pas encore été envoyées, utiliser le script ../MongoDBNotebook/producer_jour_1_DT.ipynb pour envoyer les données d'éolienne (utiliser les fichiers corrigés comme ressource) pour tester.\n",
    "\n",
    "### Insert data from a topic line by line. \n",
    "Cette fonction contient deux sous-span : l'un pour la collection des données venant d'un topic de kafka, et l'autre pour l'insertion des données collectées ligne par ligne.<br>Dans la prémière étape, le script lit les données avec un kafka consumer, restructure au format de dictionnaire et enregistre les dictionnaires dans une liste. Une ligne de donnée incorrecte est insérée dans la liste pour vérifier la validation de données.<br>Dans la deuxième étape la liste de données est insérée dans la base de mongodb ligne par ligne en utilisant une boucle pour tester la délai d'insertion. \n",
    "\n",
    "#### Code exemple : "
   ]
  },
  {
   "cell_type": "code",
   "execution_count": null,
   "metadata": {
    "scrolled": true
   },
   "outputs": [],
   "source": [
    "%run ../TimeSeriesTools/mongodb_test.py --function test_insert_one --topic \"eolienne_DT\" --collection \"eolienne_DT\" --domain \"localhost\" --port 27017 --tracer \"test_insert_lines\""
   ]
  },
  {
   "cell_type": "markdown",
   "metadata": {},
   "source": [
    "### Insert data from a topic in bulk. \n",
    "Cette fonction contient deux sous-span : l'un pour la collection des données comme ci-dessus et l'autre pour l'insertion des données collectées à la fois.<br>Dans la deuxième étape la liste de données est insérée dans la base de mongodb à la fois en utilisant tester la délai d'insertion. "
   ]
  },
  {
   "cell_type": "code",
   "execution_count": null,
   "metadata": {},
   "outputs": [],
   "source": [
    "%run ../TimeSeriesTools/mongodb_test.py --function test_insert_bulk"
   ]
  },
  {
   "cell_type": "markdown",
   "metadata": {},
   "source": [
    "## Read test : \n",
    "### Read all data from a mongodb collection.\n",
    "\n",
    "Cette fonction contient un seul span pour la lecture de toutes les données dans une collection. Après l'exécution du code, le nombre total des données retrouvées est retourné et écrit dans le log de span.\n",
    "\n",
    "Code exemple :"
   ]
  },
  {
   "cell_type": "code",
   "execution_count": null,
   "metadata": {},
   "outputs": [],
   "source": [
    "%run ../TimeSeriesTools/mongodb_test.py --function find_all_data --port 27017 --collection \"eolienne_DT\""
   ]
  },
  {
   "cell_type": "markdown",
   "metadata": {},
   "source": [
    "### Select some data from a mongodb collection by a query. \n",
    "\n",
    "Cette fonction contient un seul span pour la lecture des données désirées dans une collectionen utilisant un filtrage (un requête). Après l'exécution du code, le nombre total des données retrouvées est retourné et écrit dans le log de span."
   ]
  },
  {
   "cell_type": "code",
   "execution_count": null,
   "metadata": {
    "scrolled": true
   },
   "outputs": [],
   "source": [
    "%run ../TimeSeriesTools/mongodb_test.py --function find_some_data --query '{\"Heure\":{\"$regex\":\"11:\"}}' --collection \"eolienne_DT\""
   ]
  },
  {
   "cell_type": "markdown",
   "metadata": {},
   "source": [
    "## Update test :\n",
    "### Update all documents in a mongodb collection.\n",
    "\n",
    "Cette fonction contient un seul span pour la modification pour toutes les données retrouvées dans une collectionen. Après l'exécution du code, le nombre total des données modifiées est retourné et écrit dans le log de span.<br> \n",
    "Utiliser le paramètre --value pour préciser le requête afin de changer les valeurs des champs désirés."
   ]
  },
  {
   "cell_type": "code",
   "execution_count": null,
   "metadata": {
    "scrolled": true
   },
   "outputs": [],
   "source": [
    "%run ../TimeSeriesTools/mongodb_test.py --function update_all_data --value '{\"$set\":{\"C2H6\":\"0\"}}'"
   ]
  },
  {
   "cell_type": "markdown",
   "metadata": {},
   "source": [
    "### Update selected documents in a mongodb collection. \n",
    "\n",
    "Cette fonction contient un seul span pour la modification des données retrouvées dans une collectionen utilisant un filtrage (un requête). Après l'exécution du code, le nombre total des données modifiées est retourné et écrit dans le log de span.<br>\n",
    "Utiliser le paramètre --query pour sélectionner les données à modifier et le paramètre --value pour préciser le requête afin de changer les valeurs des champs désirés."
   ]
  },
  {
   "cell_type": "code",
   "execution_count": null,
   "metadata": {},
   "outputs": [],
   "source": [
    "%run ../TimeSeriesTools/mongodb_test.py --function update_some_data --query '{\"Heure\":{\"$regex\":\"02/10\"}}' --value '{\"$set\":{\"C2H6\":\"1\"}}'"
   ]
  }
 ],
 "metadata": {
  "kernelspec": {
   "display_name": "Python 3",
   "language": "python",
   "name": "python3"
  },
  "language_info": {
   "codemirror_mode": {
    "name": "ipython",
    "version": 3
   },
   "file_extension": ".py",
   "mimetype": "text/x-python",
   "name": "python",
   "nbconvert_exporter": "python",
   "pygments_lexer": "ipython3",
   "version": "3.7.6"
  }
 },
 "nbformat": 4,
 "nbformat_minor": 2
}
