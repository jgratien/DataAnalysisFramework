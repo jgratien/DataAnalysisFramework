{
 "cells": [
  {
   "cell_type": "code",
   "execution_count": 12,
   "metadata": {},
   "outputs": [],
   "source": [
    "from py4j.java_gateway import *\n",
    "port = launch_gateway()\n",
    "gateway = JavaGateway(\n",
    "gateway_parameters=GatewayParameters(port=port),\n",
    "callback_server_parameters=CallbackServerParameters(port=0))\n",
    "random = gateway.jvm.java.util.Random()"
   ]
  },
  {
   "cell_type": "code",
   "execution_count": 2,
   "metadata": {},
   "outputs": [
    {
     "name": "stdout",
     "output_type": "stream",
     "text": [
      "The warpscript extension is already loaded. To reload it, use:\n",
      "  %reload_ext warpscript\n"
     ]
    }
   ],
   "source": [
    "%load_ext warpscript"
   ]
  },
  {
   "cell_type": "code",
   "execution_count": 16,
   "metadata": {
    "scrolled": true
   },
   "outputs": [
    {
     "name": "stdout",
     "output_type": "stream",
     "text": [
      "Establish connection with a gateway at 127.0.0.1:25333\n"
     ]
    },
    {
     "ename": "Py4JError",
     "evalue": "An error occurred while calling t.__dir__",
     "output_type": "error",
     "traceback": [
      "\u001b[0;31m---------------------------------------------------------------------------\u001b[0m",
      "\u001b[0;31mPy4JError\u001b[0m                                 Traceback (most recent call last)",
      "\u001b[0;32m<ipython-input-16-deeef28d2c2e>\u001b[0m in \u001b[0;36m<module>\u001b[0;34m\u001b[0m\n\u001b[0;32m----> 1\u001b[0;31m \u001b[0mget_ipython\u001b[0m\u001b[0;34m(\u001b[0m\u001b[0;34m)\u001b[0m\u001b[0;34m.\u001b[0m\u001b[0mrun_cell_magic\u001b[0m\u001b[0;34m(\u001b[0m\u001b[0;34m'warpscript'\u001b[0m\u001b[0;34m,\u001b[0m \u001b[0;34m''\u001b[0m\u001b[0;34m,\u001b[0m \u001b[0;34m'[ 3.14 100 ]\\n50\\n'\u001b[0m\u001b[0;34m)\u001b[0m\u001b[0;34m\u001b[0m\u001b[0;34m\u001b[0m\u001b[0m\n\u001b[0m",
      "\u001b[0;32m~/local/anaconda3/lib/python3.7/site-packages/IPython/core/interactiveshell.py\u001b[0m in \u001b[0;36mrun_cell_magic\u001b[0;34m(self, magic_name, line, cell)\u001b[0m\n\u001b[1;32m   2357\u001b[0m             \u001b[0;32mwith\u001b[0m \u001b[0mself\u001b[0m\u001b[0;34m.\u001b[0m\u001b[0mbuiltin_trap\u001b[0m\u001b[0;34m:\u001b[0m\u001b[0;34m\u001b[0m\u001b[0;34m\u001b[0m\u001b[0m\n\u001b[1;32m   2358\u001b[0m                 \u001b[0margs\u001b[0m \u001b[0;34m=\u001b[0m \u001b[0;34m(\u001b[0m\u001b[0mmagic_arg_s\u001b[0m\u001b[0;34m,\u001b[0m \u001b[0mcell\u001b[0m\u001b[0;34m)\u001b[0m\u001b[0;34m\u001b[0m\u001b[0;34m\u001b[0m\u001b[0m\n\u001b[0;32m-> 2359\u001b[0;31m                 \u001b[0mresult\u001b[0m \u001b[0;34m=\u001b[0m \u001b[0mfn\u001b[0m\u001b[0;34m(\u001b[0m\u001b[0;34m*\u001b[0m\u001b[0margs\u001b[0m\u001b[0;34m,\u001b[0m \u001b[0;34m**\u001b[0m\u001b[0mkwargs\u001b[0m\u001b[0;34m)\u001b[0m\u001b[0;34m\u001b[0m\u001b[0;34m\u001b[0m\u001b[0m\n\u001b[0m\u001b[1;32m   2360\u001b[0m             \u001b[0;32mreturn\u001b[0m \u001b[0mresult\u001b[0m\u001b[0;34m\u001b[0m\u001b[0;34m\u001b[0m\u001b[0m\n\u001b[1;32m   2361\u001b[0m \u001b[0;34m\u001b[0m\u001b[0m\n",
      "\u001b[0;32m</work/weiy/local/anaconda3/lib/python3.7/site-packages/decorator.py:decorator-gen-126>\u001b[0m in \u001b[0;36mwarpscript\u001b[0;34m(self, line, cell)\u001b[0m\n",
      "\u001b[0;32m~/local/anaconda3/lib/python3.7/site-packages/IPython/core/magic.py\u001b[0m in \u001b[0;36m<lambda>\u001b[0;34m(f, *a, **k)\u001b[0m\n\u001b[1;32m    185\u001b[0m     \u001b[0;31m# but it's overkill for just that one bit of state.\u001b[0m\u001b[0;34m\u001b[0m\u001b[0;34m\u001b[0m\u001b[0;34m\u001b[0m\u001b[0m\n\u001b[1;32m    186\u001b[0m     \u001b[0;32mdef\u001b[0m \u001b[0mmagic_deco\u001b[0m\u001b[0;34m(\u001b[0m\u001b[0marg\u001b[0m\u001b[0;34m)\u001b[0m\u001b[0;34m:\u001b[0m\u001b[0;34m\u001b[0m\u001b[0;34m\u001b[0m\u001b[0m\n\u001b[0;32m--> 187\u001b[0;31m         \u001b[0mcall\u001b[0m \u001b[0;34m=\u001b[0m \u001b[0;32mlambda\u001b[0m \u001b[0mf\u001b[0m\u001b[0;34m,\u001b[0m \u001b[0;34m*\u001b[0m\u001b[0ma\u001b[0m\u001b[0;34m,\u001b[0m \u001b[0;34m**\u001b[0m\u001b[0mk\u001b[0m\u001b[0;34m:\u001b[0m \u001b[0mf\u001b[0m\u001b[0;34m(\u001b[0m\u001b[0;34m*\u001b[0m\u001b[0ma\u001b[0m\u001b[0;34m,\u001b[0m \u001b[0;34m**\u001b[0m\u001b[0mk\u001b[0m\u001b[0;34m)\u001b[0m\u001b[0;34m\u001b[0m\u001b[0;34m\u001b[0m\u001b[0m\n\u001b[0m\u001b[1;32m    188\u001b[0m \u001b[0;34m\u001b[0m\u001b[0m\n\u001b[1;32m    189\u001b[0m         \u001b[0;32mif\u001b[0m \u001b[0mcallable\u001b[0m\u001b[0;34m(\u001b[0m\u001b[0marg\u001b[0m\u001b[0;34m)\u001b[0m\u001b[0;34m:\u001b[0m\u001b[0;34m\u001b[0m\u001b[0;34m\u001b[0m\u001b[0m\n",
      "\u001b[0;32m~/local/anaconda3/lib/python3.7/site-packages/warpscript/warpscript_magics.py\u001b[0m in \u001b[0;36mwarpscript\u001b[0;34m(self, line, cell)\u001b[0m\n\u001b[1;32m    143\u001b[0m \u001b[0;34m\u001b[0m\u001b[0m\n\u001b[1;32m    144\u001b[0m             \u001b[0;31m# obtain gateway\u001b[0m\u001b[0;34m\u001b[0m\u001b[0;34m\u001b[0m\u001b[0;34m\u001b[0m\u001b[0m\n\u001b[0;32m--> 145\u001b[0;31m             \u001b[0mgateway\u001b[0m \u001b[0;34m=\u001b[0m \u001b[0mself\u001b[0m\u001b[0;34m.\u001b[0m\u001b[0mget_gateway\u001b[0m\u001b[0;34m(\u001b[0m\u001b[0margs\u001b[0m\u001b[0;34m.\u001b[0m\u001b[0maddress\u001b[0m\u001b[0;34m,\u001b[0m \u001b[0margs\u001b[0m\u001b[0;34m.\u001b[0m\u001b[0mport\u001b[0m\u001b[0;34m,\u001b[0m \u001b[0margs\u001b[0m\u001b[0;34m.\u001b[0m\u001b[0mlaunch\u001b[0m\u001b[0;34m,\u001b[0m \u001b[0margs\u001b[0m\u001b[0;34m.\u001b[0m\u001b[0mauthtoken\u001b[0m\u001b[0;34m,\u001b[0m \u001b[0margs\u001b[0m\u001b[0;34m.\u001b[0m\u001b[0mverbose\u001b[0m\u001b[0;34m)\u001b[0m\u001b[0;34m\u001b[0m\u001b[0;34m\u001b[0m\u001b[0m\n\u001b[0m\u001b[1;32m    146\u001b[0m             \u001b[0mvar\u001b[0m \u001b[0;34m=\u001b[0m \u001b[0margs\u001b[0m\u001b[0;34m.\u001b[0m\u001b[0mstack\u001b[0m \u001b[0;32mif\u001b[0m \u001b[0;32mnot\u001b[0m\u001b[0;34m(\u001b[0m\u001b[0margs\u001b[0m\u001b[0;34m.\u001b[0m\u001b[0mstack\u001b[0m \u001b[0;32mis\u001b[0m \u001b[0;32mNone\u001b[0m\u001b[0;34m)\u001b[0m \u001b[0;32melse\u001b[0m \u001b[0mgateway\u001b[0m\u001b[0;34m.\u001b[0m\u001b[0mdefault_stack_var\u001b[0m\u001b[0;34m\u001b[0m\u001b[0;34m\u001b[0m\u001b[0m\n\u001b[1;32m    147\u001b[0m \u001b[0;34m\u001b[0m\u001b[0m\n",
      "\u001b[0;32m~/local/anaconda3/lib/python3.7/site-packages/warpscript/warpscript_magics.py\u001b[0m in \u001b[0;36mget_gateway\u001b[0;34m(self, addr, port, launch, auth_token, verbose)\u001b[0m\n\u001b[1;32m     60\u001b[0m         \u001b[0mkey\u001b[0m \u001b[0;34m=\u001b[0m \u001b[0;34m'local'\u001b[0m \u001b[0;32mif\u001b[0m \u001b[0mlaunch\u001b[0m \u001b[0;32melse\u001b[0m \u001b[0maddr\u001b[0m \u001b[0;34m+\u001b[0m \u001b[0;34m':'\u001b[0m \u001b[0;34m+\u001b[0m \u001b[0mstr\u001b[0m\u001b[0;34m(\u001b[0m\u001b[0mport\u001b[0m\u001b[0;34m)\u001b[0m\u001b[0;34m\u001b[0m\u001b[0;34m\u001b[0m\u001b[0m\n\u001b[1;32m     61\u001b[0m         \u001b[0;32mif\u001b[0m \u001b[0;32mnot\u001b[0m\u001b[0;34m(\u001b[0m\u001b[0mkey\u001b[0m \u001b[0;32min\u001b[0m \u001b[0mself\u001b[0m\u001b[0;34m.\u001b[0m\u001b[0mgateway_dict\u001b[0m\u001b[0;34m.\u001b[0m\u001b[0mkeys\u001b[0m\u001b[0;34m(\u001b[0m\u001b[0;34m)\u001b[0m\u001b[0;34m)\u001b[0m\u001b[0;34m:\u001b[0m\u001b[0;34m\u001b[0m\u001b[0;34m\u001b[0m\u001b[0m\n\u001b[0;32m---> 62\u001b[0;31m             \u001b[0mself\u001b[0m\u001b[0;34m.\u001b[0m\u001b[0mgateway_dict\u001b[0m\u001b[0;34m[\u001b[0m\u001b[0mkey\u001b[0m\u001b[0;34m]\u001b[0m \u001b[0;34m=\u001b[0m \u001b[0mGateway\u001b[0m\u001b[0;34m(\u001b[0m\u001b[0maddr\u001b[0m\u001b[0;34m,\u001b[0m \u001b[0mport\u001b[0m\u001b[0;34m,\u001b[0m \u001b[0mlaunch\u001b[0m\u001b[0;34m,\u001b[0m \u001b[0mauth_token\u001b[0m\u001b[0;34m,\u001b[0m \u001b[0mverbose\u001b[0m\u001b[0;34m)\u001b[0m\u001b[0;34m\u001b[0m\u001b[0;34m\u001b[0m\u001b[0m\n\u001b[0m\u001b[1;32m     63\u001b[0m \u001b[0;34m\u001b[0m\u001b[0m\n\u001b[1;32m     64\u001b[0m         \u001b[0;32mreturn\u001b[0m \u001b[0mself\u001b[0m\u001b[0;34m.\u001b[0m\u001b[0mgateway_dict\u001b[0m\u001b[0;34m[\u001b[0m\u001b[0mkey\u001b[0m\u001b[0;34m]\u001b[0m\u001b[0;34m\u001b[0m\u001b[0;34m\u001b[0m\u001b[0m\n",
      "\u001b[0;32m~/local/anaconda3/lib/python3.7/site-packages/warpscript/warp10_gateway.py\u001b[0m in \u001b[0;36m__init__\u001b[0;34m(self, addr, port, launch, auth_token, verbose, conf)\u001b[0m\n\u001b[1;32m     64\u001b[0m         \u001b[0mself\u001b[0m\u001b[0;34m.\u001b[0m\u001b[0minstance\u001b[0m \u001b[0;34m=\u001b[0m \u001b[0mself\u001b[0m\u001b[0;34m.\u001b[0m\u001b[0mget_instance\u001b[0m\u001b[0;34m(\u001b[0m\u001b[0;34m)\u001b[0m\u001b[0;34m\u001b[0m\u001b[0;34m\u001b[0m\u001b[0m\n\u001b[1;32m     65\u001b[0m         \u001b[0mself\u001b[0m\u001b[0;34m.\u001b[0m\u001b[0mid\u001b[0m \u001b[0;34m=\u001b[0m \u001b[0mnext\u001b[0m\u001b[0;34m(\u001b[0m\u001b[0mself\u001b[0m\u001b[0;34m.\u001b[0m\u001b[0mids\u001b[0m\u001b[0;34m)\u001b[0m \u001b[0;31m# the id of the gateway\u001b[0m\u001b[0;34m\u001b[0m\u001b[0;34m\u001b[0m\u001b[0m\n\u001b[0;32m---> 66\u001b[0;31m         \u001b[0mself\u001b[0m\u001b[0;34m.\u001b[0m\u001b[0mentry_point\u001b[0m \u001b[0;34m=\u001b[0m \u001b[0mself\u001b[0m\u001b[0;34m.\u001b[0m\u001b[0mget_entry_point\u001b[0m\u001b[0;34m(\u001b[0m\u001b[0;34m)\u001b[0m\u001b[0;34m\u001b[0m\u001b[0;34m\u001b[0m\u001b[0m\n\u001b[0m\u001b[1;32m     67\u001b[0m \u001b[0;34m\u001b[0m\u001b[0m\n\u001b[1;32m     68\u001b[0m         \u001b[0;31m# stack\u001b[0m\u001b[0;34m\u001b[0m\u001b[0;34m\u001b[0m\u001b[0;34m\u001b[0m\u001b[0m\n",
      "\u001b[0;32m~/local/anaconda3/lib/python3.7/site-packages/warpscript/warp10_gateway.py\u001b[0m in \u001b[0;36mget_entry_point\u001b[0;34m(self)\u001b[0m\n\u001b[1;32m     93\u001b[0m             \u001b[0;31m# try to use an entry point that was started by a Warp 10 platform\u001b[0m\u001b[0;34m\u001b[0m\u001b[0;34m\u001b[0m\u001b[0;34m\u001b[0m\u001b[0m\n\u001b[1;32m     94\u001b[0m             \u001b[0mentry_point\u001b[0m \u001b[0;34m=\u001b[0m \u001b[0mself\u001b[0m\u001b[0;34m.\u001b[0m\u001b[0mget_instance\u001b[0m\u001b[0;34m(\u001b[0m\u001b[0;34m)\u001b[0m\u001b[0;34m.\u001b[0m\u001b[0mentry_point\u001b[0m\u001b[0;34m\u001b[0m\u001b[0;34m\u001b[0m\u001b[0m\n\u001b[0;32m---> 95\u001b[0;31m             \u001b[0;32mif\u001b[0m \u001b[0;32mnot\u001b[0m\u001b[0;34m(\u001b[0m\u001b[0;34m'newStack'\u001b[0m \u001b[0;32min\u001b[0m \u001b[0mdir\u001b[0m\u001b[0;34m(\u001b[0m\u001b[0mentry_point\u001b[0m\u001b[0;34m)\u001b[0m\u001b[0;34m)\u001b[0m\u001b[0;34m:\u001b[0m \u001b[0;31m# also, dir() raises an error if entry_point does not exist\u001b[0m\u001b[0;34m\u001b[0m\u001b[0;34m\u001b[0m\u001b[0m\n\u001b[0m\u001b[1;32m     96\u001b[0m                 \u001b[0;32mraise\u001b[0m \u001b[0mRuntimeError\u001b[0m\u001b[0;34m(\u001b[0m\u001b[0;34m'Wrong entry point'\u001b[0m\u001b[0;34m)\u001b[0m\u001b[0;34m\u001b[0m\u001b[0;34m\u001b[0m\u001b[0m\n\u001b[1;32m     97\u001b[0m         \u001b[0;32melse\u001b[0m\u001b[0;34m:\u001b[0m\u001b[0;34m\u001b[0m\u001b[0;34m\u001b[0m\u001b[0m\n",
      "\u001b[0;32m~/local/anaconda3/lib/python3.7/site-packages/py4j/java_gateway.py\u001b[0m in \u001b[0;36m__dir__\u001b[0;34m(self)\u001b[0m\n\u001b[1;32m   1378\u001b[0m \u001b[0;34m\u001b[0m\u001b[0m\n\u001b[1;32m   1379\u001b[0m     \u001b[0;32mdef\u001b[0m \u001b[0m__dir__\u001b[0m\u001b[0;34m(\u001b[0m\u001b[0mself\u001b[0m\u001b[0;34m)\u001b[0m\u001b[0;34m:\u001b[0m\u001b[0;34m\u001b[0m\u001b[0;34m\u001b[0m\u001b[0m\n\u001b[0;32m-> 1380\u001b[0;31m         \u001b[0mself\u001b[0m\u001b[0;34m.\u001b[0m\u001b[0m_populate_fields\u001b[0m\u001b[0;34m(\u001b[0m\u001b[0;34m)\u001b[0m\u001b[0;34m\u001b[0m\u001b[0;34m\u001b[0m\u001b[0m\n\u001b[0m\u001b[1;32m   1381\u001b[0m         \u001b[0;32mreturn\u001b[0m \u001b[0mlist\u001b[0m\u001b[0;34m(\u001b[0m\u001b[0mset\u001b[0m\u001b[0;34m(\u001b[0m\u001b[0mself\u001b[0m\u001b[0;34m.\u001b[0m\u001b[0m_methods\u001b[0m\u001b[0;34m.\u001b[0m\u001b[0mkeys\u001b[0m\u001b[0;34m(\u001b[0m\u001b[0;34m)\u001b[0m\u001b[0;34m)\u001b[0m \u001b[0;34m|\u001b[0m \u001b[0mself\u001b[0m\u001b[0;34m.\u001b[0m\u001b[0m_field_names\u001b[0m\u001b[0;34m)\u001b[0m\u001b[0;34m\u001b[0m\u001b[0;34m\u001b[0m\u001b[0m\n\u001b[1;32m   1382\u001b[0m \u001b[0;34m\u001b[0m\u001b[0m\n",
      "\u001b[0;32m~/local/anaconda3/lib/python3.7/site-packages/py4j/java_gateway.py\u001b[0m in \u001b[0;36m_populate_fields\u001b[0;34m(self)\u001b[0m\n\u001b[1;32m   1403\u001b[0m             \u001b[0manswer\u001b[0m \u001b[0;34m=\u001b[0m \u001b[0mself\u001b[0m\u001b[0;34m.\u001b[0m\u001b[0m_gateway_client\u001b[0m\u001b[0;34m.\u001b[0m\u001b[0msend_command\u001b[0m\u001b[0;34m(\u001b[0m\u001b[0mcommand\u001b[0m\u001b[0;34m)\u001b[0m\u001b[0;34m\u001b[0m\u001b[0;34m\u001b[0m\u001b[0m\n\u001b[1;32m   1404\u001b[0m             return_value = get_return_value(\n\u001b[0;32m-> 1405\u001b[0;31m                 answer, self._gateway_client, self._target_id, \"__dir__\")\n\u001b[0m\u001b[1;32m   1406\u001b[0m             \u001b[0mnames\u001b[0m \u001b[0;34m=\u001b[0m \u001b[0mreturn_value\u001b[0m\u001b[0;34m.\u001b[0m\u001b[0msplit\u001b[0m\u001b[0;34m(\u001b[0m\u001b[0;34m\"\\n\"\u001b[0m\u001b[0;34m)\u001b[0m\u001b[0;34m\u001b[0m\u001b[0;34m\u001b[0m\u001b[0m\n\u001b[1;32m   1407\u001b[0m             \u001b[0;32mfor\u001b[0m \u001b[0mname\u001b[0m \u001b[0;32min\u001b[0m \u001b[0mnames\u001b[0m\u001b[0;34m:\u001b[0m\u001b[0;34m\u001b[0m\u001b[0;34m\u001b[0m\u001b[0m\n",
      "\u001b[0;32m~/local/anaconda3/lib/python3.7/site-packages/py4j/protocol.py\u001b[0m in \u001b[0;36mget_return_value\u001b[0;34m(answer, gateway_client, target_id, name)\u001b[0m\n\u001b[1;32m    334\u001b[0m             raise Py4JError(\n\u001b[1;32m    335\u001b[0m                 \u001b[0;34m\"An error occurred while calling {0}{1}{2}\"\u001b[0m\u001b[0;34m.\u001b[0m\u001b[0;34m\u001b[0m\u001b[0;34m\u001b[0m\u001b[0m\n\u001b[0;32m--> 336\u001b[0;31m                 format(target_id, \".\", name))\n\u001b[0m\u001b[1;32m    337\u001b[0m     \u001b[0;32melse\u001b[0m\u001b[0;34m:\u001b[0m\u001b[0;34m\u001b[0m\u001b[0;34m\u001b[0m\u001b[0m\n\u001b[1;32m    338\u001b[0m         \u001b[0mtype\u001b[0m \u001b[0;34m=\u001b[0m \u001b[0manswer\u001b[0m\u001b[0;34m[\u001b[0m\u001b[0;36m1\u001b[0m\u001b[0;34m]\u001b[0m\u001b[0;34m\u001b[0m\u001b[0;34m\u001b[0m\u001b[0m\n",
      "\u001b[0;31mPy4JError\u001b[0m: An error occurred while calling t.__dir__"
     ]
    }
   ],
   "source": [
    "%%warpscript\n",
    "[ 3.14 100 ]\n",
    "50"
   ]
  },
  {
   "cell_type": "code",
   "execution_count": 14,
   "metadata": {},
   "outputs": [
    {
     "name": "stdout",
     "output_type": "stream",
     "text": [
      "Variable                                 Type                 Data/Info\n",
      "-----------------------------------------------------------------------\n",
      "BUFFER_SIZE                              int                  4096\n",
      "CallbackConnection                       type                 <class 'py4j.java_gateway.CallbackConnection'>\n",
      "CallbackServer                           type                 <class 'py4j.java_gateway.CallbackServer'>\n",
      "CallbackServerParameters                 type                 <class 'py4j.java_gateway<...>allbackServerParameters'>\n",
      "CompatThread                             type                 <class 'py4j.compat.CompatThread'>\n",
      "DEFAULT_ACCEPT_TIMEOUT_PLACEHOLDER       str                  DEFAULT\n",
      "DEFAULT_ADDRESS                          str                  127.0.0.1\n",
      "DEFAULT_CALLBACK_SERVER_ACCEPT_TIMEOUT   int                  5\n",
      "DEFAULT_PORT                             int                  25333\n",
      "DEFAULT_PYTHON_PROXY_PORT                int                  25334\n",
      "DummyRLock                               type                 <class 'py4j.java_gateway.DummyRLock'>\n",
      "GatewayClient                            type                 <class 'py4j.java_gateway.GatewayClient'>\n",
      "GatewayConnection                        type                 <class 'py4j.java_gateway.GatewayConnection'>\n",
      "GatewayConnectionGuard                   type                 <class 'py4j.java_gateway<...>.GatewayConnectionGuard'>\n",
      "GatewayParameters                        type                 <class 'py4j.java_gateway.GatewayParameters'>\n",
      "GatewayProperty                          type                 <class 'py4j.java_gateway.GatewayProperty'>\n",
      "JVMView                                  type                 <class 'py4j.java_gateway.JVMView'>\n",
      "JavaClass                                type                 <class 'py4j.java_gateway.JavaClass'>\n",
      "JavaGateway                              type                 <class 'py4j.java_gateway.JavaGateway'>\n",
      "JavaMember                               type                 <class 'py4j.java_gateway.JavaMember'>\n",
      "JavaObject                               type                 <class 'py4j.java_gateway.JavaObject'>\n",
      "JavaPackage                              type                 <class 'py4j.java_gateway.JavaPackage'>\n",
      "NullHandler                              type                 <class 'py4j.java_gateway.NullHandler'>\n",
      "OutputConsumer                           type                 <class 'py4j.java_gateway.OutputConsumer'>\n",
      "PIPE                                     int                  -1\n",
      "PY4J_SKIP_COLLECTIONS                    str                  PY4J_SKIP_COLLECTIONS\n",
      "PY4J_TRUE                                set                  {'true', 'y', 'yes', 't'}\n",
      "Popen                                    type                 <class 'subprocess.Popen'>\n",
      "ProcessConsumer                          type                 <class 'py4j.java_gateway.ProcessConsumer'>\n",
      "Py4JAuthenticationError                  type                 <class 'py4j.protocol.Py4JAuthenticationError'>\n",
      "Py4JError                                type                 <class 'py4j.protocol.Py4JError'>\n",
      "Py4JJavaError                            type                 <class 'py4j.protocol.Py4JJavaError'>\n",
      "Py4JNetworkError                         type                 <class 'py4j.protocol.Py4JNetworkError'>\n",
      "PythonProxyPool                          type                 <class 'py4j.java_gateway.PythonProxyPool'>\n",
      "Queue                                    type                 <class 'queue.Queue'>\n",
      "RLock                                    function             <function RLock at 0x7f13bf45f290>\n",
      "Signal                                   type                 <class 'py4j.signals.Signal'>\n",
      "Thread                                   type                 <class 'threading.Thread'>\n",
      "ThreadSafeFinalizer                      type                 <class 'py4j.finalizer.ThreadSafeFinalizer'>\n",
      "UserHelpAutoCompletion                   type                 <class 'py4j.java_gateway<...>.UserHelpAutoCompletion'>\n",
      "absolute_import                          _Feature             _Feature((2, 5, 0, 'alpha<...>0, 0, 'alpha', 0), 16384)\n",
      "basestring                               type                 <class 'str'>\n",
      "check_connection                         function             <function check_connection at 0x7f13b8d45dd0>\n",
      "compute_exception_message                function             <function compute_excepti<...>essage at 0x7f13b8d1e170>\n",
      "deprecated                               function             <function deprecated at 0x7f13b8d45710>\n",
      "deque                                    type                 <class 'collections.deque'>\n",
      "do_client_auth                           function             <function do_client_auth at 0x7f13b8d45ef0>\n",
      "escape_new_line                          function             <function escape_new_line at 0x7f13b8d1d8c0>\n",
      "find_jar_path                            function             <function find_jar_path at 0x7f13b8d45830>\n",
      "gateway                                  JavaGateway          <py4j.java_gateway.JavaGa<...>object at 0x7f13b84ad690>\n",
      "gateway_help                             function             <function gateway_help at 0x7f13b8d45e60>\n",
      "get_command_part                         function             <function get_command_part at 0x7f13b8d1df80>\n",
      "get_create_new_process_group_kwargs      function             <function get_create_new_<...>kwargs at 0x7f13b8d19a70>\n",
      "get_error_message                        function             <function get_error_message at 0x7f13b8d1e0e0>\n",
      "get_field                                function             <function get_field at 0x7f13b8d45950>\n",
      "get_java_class                           function             <function get_java_class at 0x7f13b8d45b90>\n",
      "get_method                               function             <function get_method at 0x7f13b8d45a70>\n",
      "get_return_value                         function             <function get_return_value at 0x7f13b8d1e050>\n",
      "hasattr2                                 function             <function hasattr2 at 0x7f13b8d1dd40>\n",
      "is_error                                 function             <function is_error at 0x7f13b8d1e200>\n",
      "is_fatal_error                           function             <function is_fatal_error at 0x7f13b8d1e290>\n",
      "is_instance_of                           function             <function is_instance_of at 0x7f13b8d45b00>\n",
      "is_magic_member                          function             <function is_magic_member at 0x7f13b8d45f80>\n",
      "java_import                              function             <function java_import at 0x7f13b8d457a0>\n",
      "launch_gateway                           function             <function launch_gateway at 0x7f13b8d458c0>\n",
      "logger                                   Logger               <Logger py4j.java_gateway (WARNING)>\n",
      "logging                                  module               <module 'logging' from '/<...>3.7/logging/__init__.py'>\n",
      "null_handler                             NullHandler          <NullHandler (NOTSET)>\n",
      "os                                       module               <module 'os' from '/work/<...>da3/lib/python3.7/os.py'>\n",
      "pager                                    function             <function pager at 0x7f13bebdc5f0>\n",
      "params                                   GatewayParameters    <py4j.java_gateway.Gatewa<...>object at 0x7f13b8520590>\n",
      "port                                     int                  25333\n",
      "post_server_shutdown                     Signal               <py4j.signals.Signal object at 0x7f13b8d44910>\n",
      "pre_server_shutdown                      Signal               <py4j.signals.Signal object at 0x7f13b8d448d0>\n",
      "proto                                    module               <module 'py4j.protocol' f<...>ckages/py4j/protocol.py'>\n",
      "quiet_close                              function             <function quiet_close at 0x7f13b8d45c20>\n",
      "quiet_shutdown                           function             <function quiet_shutdown at 0x7f13b8d45cb0>\n",
      "random                                   JavaObject           java.util.Random@7459a4f\n",
      "range                                    type                 <class 'range'>\n",
      "register_output_converter                function             <function register_output<...>verter at 0x7f13b8d1e320>\n",
      "select                                   module               <module 'select' from '/w<...>37m-x86_64-linux-gnu.so'>\n",
      "server_connection_error                  Signal               <py4j.signals.Signal object at 0x7f13b8d44810>\n",
      "server_connection_started                Signal               <py4j.signals.Signal object at 0x7f13b968f8d0>\n",
      "server_connection_stopped                Signal               <py4j.signals.Signal object at 0x7f13b8d447d0>\n",
      "server_started                           Signal               <py4j.signals.Signal object at 0x7f13b8d44850>\n",
      "server_stopped                           Signal               <py4j.signals.Signal object at 0x7f13b8d44890>\n",
      "set_default_callback_accept_timeout      function             <function set_default_cal<...>imeout at 0x7f13b8d45290>\n",
      "set_field                                function             <function set_field at 0x7f13b8d459e0>\n",
      "set_linger                               function             <function set_linger at 0x7f13b8d45d40>\n",
      "set_reuse_address                        function             <function set_reuse_address at 0x7f13b8d45320>\n",
      "smart_decode                             function             <function smart_decode at 0x7f13b8d1d050>\n",
      "socket                                   module               <module 'socket' from '/w<...>lib/python3.7/socket.py'>\n",
      "struct                                   module               <module 'struct' from '/w<...>lib/python3.7/struct.py'>\n",
      "subprocess                               module               <module 'subprocess' from<...>python3.7/subprocess.py'>\n",
      "sys                                      module               <module 'sys' (built-in)>\n",
      "traceback                                module               <module 'traceback' from <...>/python3.7/traceback.py'>\n",
      "unescape_new_line                        function             <function unescape_new_line at 0x7f13b8d1d830>\n",
      "unicode_literals                         _Feature             _Feature((2, 6, 0, 'alpha<...>, 0, 'alpha', 0), 131072)\n",
      "weakref                                  module               <module 'weakref' from '/<...>ib/python3.7/weakref.py'>\n"
     ]
    }
   ],
   "source": [
    "%whos"
   ]
  }
 ],
 "metadata": {
  "kernelspec": {
   "display_name": "Python 3",
   "language": "python",
   "name": "python3"
  },
  "language_info": {
   "codemirror_mode": {
    "name": "ipython",
    "version": 3
   },
   "file_extension": ".py",
   "mimetype": "text/x-python",
   "name": "python",
   "nbconvert_exporter": "python",
   "pygments_lexer": "ipython3",
   "version": "3.7.4"
  }
 },
 "nbformat": 4,
 "nbformat_minor": 2
}
