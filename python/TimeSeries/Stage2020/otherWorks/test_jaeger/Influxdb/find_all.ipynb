{
 "cells": [
  {
   "cell_type": "code",
   "execution_count": 2,
   "metadata": {
    "scrolled": true
   },
   "outputs": [
    {
     "name": "stderr",
     "output_type": "stream",
     "text": [
      "Initializing Jaeger Tracer with UDP reporter\n",
      "Using selector: EpollSelector\n",
      "Using sampler ConstSampler(True)\n",
      "Starting new HTTP connection (1): localhost:9086\n",
      "http://localhost:9086 \"GET /query?q=SELECT+%2A+FROM+test_policy.smartGrid&db=test HTTP/1.1\" 200 None\n"
     ]
    },
    {
     "name": "stdout",
     "output_type": "stream",
     "text": [
      "Trying to connect to InfluxDB server without proxy: localhost on port: 9086\n",
      "connection sucess!\n",
      "error : create new tracer...\n",
      "SELECT * FROM test_policy.smartGrid\n",
      "{'statement_id': 0}\n"
     ]
    }
   ],
   "source": [
    "import sys\n",
    "sys.path.append(\"../..\")\n",
    "import utils\n",
    "from kafka import KafkaConsumer,TopicPartition\n",
    "\n",
    "def find_all_data(client,policy_name,measurement_name):\n",
    "    query_string = \"SELECT * FROM \" + policy_name + \".\" + measurement_name\n",
    "    print(query_string)\n",
    "    results = client.query(query_string)\n",
    "    print(results.raw)\n",
    "    return results.raw\n",
    "\n",
    "if __name__==\"__main__\":\n",
    "    database = \"test\"\n",
    "    policy_name = \"test_policy\"\n",
    "    measurement_name = \"smartGrid\"\n",
    "    client = utils.influxdb_connect(\"localhost\", 9086,database)\n",
    "    \n",
    "    tracer = utils.init_tracer('influxdb_test_find_all_eolienne_1_jour')\n",
    "    find_all_data(client,policy_name,measurement_name)"
   ]
  },
  {
   "cell_type": "code",
   "execution_count": null,
   "metadata": {},
   "outputs": [],
   "source": []
  },
  {
   "cell_type": "code",
   "execution_count": null,
   "metadata": {},
   "outputs": [],
   "source": []
  }
 ],
 "metadata": {
  "kernelspec": {
   "display_name": "Python 3",
   "language": "python",
   "name": "python3"
  },
  "language_info": {
   "codemirror_mode": {
    "name": "ipython",
    "version": 3
   },
   "file_extension": ".py",
   "mimetype": "text/x-python",
   "name": "python",
   "nbconvert_exporter": "python",
   "pygments_lexer": "ipython3",
   "version": "3.7.4"
  }
 },
 "nbformat": 4,
 "nbformat_minor": 2
}
