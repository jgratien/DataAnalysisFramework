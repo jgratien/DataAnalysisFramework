{
 "cells": [
  {
   "cell_type": "code",
   "execution_count": 2,
   "metadata": {},
   "outputs": [
    {
     "name": "stderr",
     "output_type": "stream",
     "text": [
      "Initializing Jaeger Tracer with UDP reporter\n",
      "Using selector: EpollSelector\n",
      "Using sampler ConstSampler(True)\n",
      "Reporting span 2f49b1ad2cb9ef4a:e8f5e935cbad9997:0:1 mongodb_test_update.test_update_doc\n"
     ]
    },
    {
     "name": "stdout",
     "output_type": "stream",
     "text": [
      "Trying to connect to MongoDB server: localhost on port: 28018\n",
      "error : create new tracer...\n",
      "0  documents updated\n"
     ]
    }
   ],
   "source": [
    "import sys\n",
    "sys.path.append(\"../..\")\n",
    "import utils\n",
    "\n",
    "from opentracing_instrumentation.request_context import get_current_span, span_in_context\n",
    "\n",
    "def update_all_data(collection,new_values):\n",
    "    with tracer.start_span('test_update_doc') as span:\n",
    "        span.set_tag('mongodb','update_all_doc')\n",
    "        with span_in_context(span): \n",
    "            try : \n",
    "                res = collection.update_many({},new_values)\n",
    "                span.set_tag('error', 'false')\n",
    "                span.log_kv({'event': 'update selected field of all doc' , 'value': res.modified_count })\n",
    "                return res.modified_count\n",
    "            except:\n",
    "                span.set_tag('error', 'true')\n",
    "                return\n",
    "        \n",
    "def update_data(collection,query,new_values):\n",
    "    with tracer.start_span('test_update_doc') as span:\n",
    "        span.set_tag('mongodb','update_some_doc')\n",
    "        with span_in_context(span): \n",
    "            try:\n",
    "                res = collection.update_many(query,new_values)\n",
    "                span.set_tag('error', 'false')\n",
    "                span.log_kv({'event': 'update selected field of doc found' , 'value': res.modified_count })\n",
    "                return res.modified_count\n",
    "            except:\n",
    "                span.set_tag('error', 'true')\n",
    "                return\n",
    "\n",
    "if __name__== \"__main__\":\n",
    "    client = utils.mongodb_connect(\"localhost\", 28018)\n",
    "    collection = client.test['test_bulk_eolienne_insert']\n",
    "    tracer = utils.init_tracer('mongodb_test_update')\n",
    "    col_name = \"timestamp\"\n",
    "    query = {col_name:{'$regex':'11:'}}\n",
    "    new_values = {'$set':{col_name:\"00/00/0000 00:00\"}}\n",
    "    #result=update_data(collection,query,new_values)\n",
    "    result=update_all_data(collection,new_values)\n",
    "    print(result, \" documents updated\")"
   ]
  },
  {
   "cell_type": "code",
   "execution_count": null,
   "metadata": {},
   "outputs": [],
   "source": []
  }
 ],
 "metadata": {
  "kernelspec": {
   "display_name": "Python 3",
   "language": "python",
   "name": "python3"
  },
  "language_info": {
   "codemirror_mode": {
    "name": "ipython",
    "version": 3
   },
   "file_extension": ".py",
   "mimetype": "text/x-python",
   "name": "python",
   "nbconvert_exporter": "python",
   "pygments_lexer": "ipython3",
   "version": "3.7.4"
  }
 },
 "nbformat": 4,
 "nbformat_minor": 2
}
