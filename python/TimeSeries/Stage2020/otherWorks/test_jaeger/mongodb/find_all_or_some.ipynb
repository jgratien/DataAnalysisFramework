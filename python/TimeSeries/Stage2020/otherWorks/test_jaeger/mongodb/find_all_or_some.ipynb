{
 "cells": [
  {
   "cell_type": "code",
   "execution_count": 2,
   "metadata": {
    "scrolled": true
   },
   "outputs": [
    {
     "name": "stderr",
     "output_type": "stream",
     "text": [
      "Initializing Jaeger Tracer with UDP reporter\n",
      "Using selector: EpollSelector\n",
      "Using sampler ConstSampler(True)\n"
     ]
    },
    {
     "name": "stdout",
     "output_type": "stream",
     "text": [
      "Trying to connect to MongoDB server: localhost on port: 28018\n",
      "error : create new tracer...\n",
      "<class 'dict'>\n"
     ]
    }
   ],
   "source": [
    "import sys\n",
    "sys.path.append(\"../..\")\n",
    "import utils\n",
    "\n",
    "from opentracing_instrumentation.request_context import get_current_span, span_in_context\n",
    "\n",
    "def find_all_data(collection):\n",
    "    data_list=[]\n",
    "    with tracer.start_span('test_find_doc') as span:\n",
    "        span.set_tag('mongodb','find_all_doc')\n",
    "        with span_in_context(span):\n",
    "            try:\n",
    "                for d in collection.find():\n",
    "                    data_list.append(d)\n",
    "                span.log_kv({'event': 'find all data' , 'value': len(data_list) })\n",
    "                return data_list\n",
    "            except:\n",
    "                span.set_tag('error', 'true')\n",
    "                return            \n",
    "        \n",
    "def find_data(collection,query):\n",
    "    with tracer.start_span('test_find_doc') as span:\n",
    "        span.set_tag('mongodb','aggregrate_request')\n",
    "        with span_in_context(span): \n",
    "            try:\n",
    "                res = collection.find(query)\n",
    "                data_list = list(res)\n",
    "                span.log_kv({'event': 'find data with filter' , 'value': len(data_list) })\n",
    "                return data_list\n",
    "            except:\n",
    "                span.set_tag('error', 'true')\n",
    "                return    \n",
    "            \n",
    "if __name__== \"__main__\":\n",
    "    client = utils.mongodb_connect(\"localhost\", 28018)\n",
    "    collection = client.test['test_bulk_eolienne_insert']\n",
    "    tracer = utils.init_tracer('mongodb_test_find')\n",
    "    col_name = \"timestamp\"\n",
    "    query={col_name:{'$regex':'10:'}}\n",
    "    #result = find_all_data(collection)\n",
    "    result=find_data(collection,query)\n",
    "    print(len(result), \" documents found\")"
   ]
  },
  {
   "cell_type": "code",
   "execution_count": null,
   "metadata": {},
   "outputs": [],
   "source": []
  }
 ],
 "metadata": {
  "kernelspec": {
   "display_name": "Python 3",
   "language": "python",
   "name": "python3"
  },
  "language_info": {
   "codemirror_mode": {
    "name": "ipython",
    "version": 3
   },
   "file_extension": ".py",
   "mimetype": "text/x-python",
   "name": "python",
   "nbconvert_exporter": "python",
   "pygments_lexer": "ipython3",
   "version": "3.7.4"
  }
 },
 "nbformat": 4,
 "nbformat_minor": 2
}
