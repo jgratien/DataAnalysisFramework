{
 "cells": [
  {
   "cell_type": "code",
   "execution_count": 22,
   "metadata": {
    "scrolled": true
   },
   "outputs": [
    {
     "name": "stderr",
     "output_type": "stream",
     "text": [
      "Initializing Jaeger Tracer with UDP reporter\n",
      "Using selector: EpollSelector\n",
      "Using sampler ConstSampler(True)\n",
      "Added sensor with name connections-closed\n",
      "Added sensor with name connections-created\n",
      "Added sensor with name select-time\n",
      "Added sensor with name io-time\n",
      "Initiating connection to node bootstrap-0 at localhost:9092\n",
      "Added sensor with name bytes-sent-received\n",
      "Added sensor with name bytes-sent\n",
      "Added sensor with name bytes-received\n",
      "Added sensor with name request-latency\n",
      "Added sensor with name node-bootstrap-0.bytes-sent\n",
      "Added sensor with name node-bootstrap-0.bytes-received\n",
      "Added sensor with name node-bootstrap-0.latency\n",
      "<BrokerConnection node_id=bootstrap-0 host=localhost:9092 <disconnected> [unspecified None]>: creating new socket\n",
      "<BrokerConnection node_id=bootstrap-0 host=localhost:9092 <disconnected> [IPv6 ('::1', 9092, 0, 0)]>: setting socket option (6, 1, 1)\n",
      "<BrokerConnection node_id=bootstrap-0 host=localhost:9092 <connecting> [IPv6 ('::1', 9092, 0, 0)]>: connecting to localhost:9092 [('::1', 9092, 0, 0) IPv6]\n",
      "Probing node bootstrap-0 broker version\n",
      "<BrokerConnection node_id=bootstrap-0 host=localhost:9092 <connecting> [IPv6 ('::1', 9092, 0, 0)]>: established TCP connection\n",
      "<BrokerConnection node_id=bootstrap-0 host=localhost:9092 <connecting> [IPv6 ('::1', 9092, 0, 0)]>: Connection complete.\n",
      "Node bootstrap-0 connected\n",
      "Sending request ApiVersionRequest_v0()\n",
      "<BrokerConnection node_id=bootstrap-0 host=localhost:9092 <connected> [IPv6 ('::1', 9092, 0, 0)]> Request 1: ApiVersionRequest_v0()\n",
      "Sending request MetadataRequest_v0(topics=[])\n",
      "<BrokerConnection node_id=bootstrap-0 host=localhost:9092 <connected> [IPv6 ('::1', 9092, 0, 0)]> Request 2: MetadataRequest_v0(topics=[])\n",
      "Received correlation id: 1\n",
      "Processing response ApiVersionResponse_v0\n",
      "<BrokerConnection node_id=bootstrap-0 host=localhost:9092 <connected> [IPv6 ('::1', 9092, 0, 0)]> Response 1 (106.50753974914551 ms): ApiVersionResponse_v0(error_code=0, api_versions=[(api_key=0, min_version=0, max_version=8), (api_key=1, min_version=0, max_version=11), (api_key=2, min_version=0, max_version=5), (api_key=3, min_version=0, max_version=9), (api_key=4, min_version=0, max_version=4), (api_key=5, min_version=0, max_version=2), (api_key=6, min_version=0, max_version=6), (api_key=7, min_version=0, max_version=3), (api_key=8, min_version=0, max_version=8), (api_key=9, min_version=0, max_version=6), (api_key=10, min_version=0, max_version=3), (api_key=11, min_version=0, max_version=6), (api_key=12, min_version=0, max_version=4), (api_key=13, min_version=0, max_version=4), (api_key=14, min_version=0, max_version=4), (api_key=15, min_version=0, max_version=5), (api_key=16, min_version=0, max_version=3), (api_key=17, min_version=0, max_version=1), (api_key=18, min_version=0, max_version=3), (api_key=19, min_version=0, max_version=5), (api_key=20, min_version=0, max_version=4), (api_key=21, min_version=0, max_version=1), (api_key=22, min_version=0, max_version=2), (api_key=23, min_version=0, max_version=3), (api_key=24, min_version=0, max_version=1), (api_key=25, min_version=0, max_version=1), (api_key=26, min_version=0, max_version=1), (api_key=27, min_version=0, max_version=0), (api_key=28, min_version=0, max_version=2), (api_key=29, min_version=0, max_version=1), (api_key=30, min_version=0, max_version=1), (api_key=31, min_version=0, max_version=1), (api_key=32, min_version=0, max_version=2), (api_key=33, min_version=0, max_version=1), (api_key=34, min_version=0, max_version=1), (api_key=35, min_version=0, max_version=1), (api_key=36, min_version=0, max_version=1), (api_key=37, min_version=0, max_version=1), (api_key=38, min_version=0, max_version=2), (api_key=39, min_version=0, max_version=1), (api_key=40, min_version=0, max_version=1), (api_key=41, min_version=0, max_version=1), (api_key=42, min_version=0, max_version=2), (api_key=43, min_version=0, max_version=2), (api_key=44, min_version=0, max_version=1), (api_key=45, min_version=0, max_version=0), (api_key=46, min_version=0, max_version=0), (api_key=47, min_version=0, max_version=0)])\n",
      "Received correlation id: 2\n",
      "Processing response MetadataResponse_v0\n",
      "<BrokerConnection node_id=bootstrap-0 host=localhost:9092 <connected> [IPv6 ('::1', 9092, 0, 0)]> Response 2 (8.736848831176758 ms): MetadataResponse_v0(brokers=[(node_id=0, host='irlin328206', port=9092)], topics=[(error_code=0, topic='topic_all_tag', partitions=[(error_code=0, partition=0, leader=0, replicas=[0], isr=[0])]), (error_code=0, topic='CRY.CENTRALE_SOLAIRE.CRY_act_prod_pow', partitions=[(error_code=0, partition=0, leader=0, replicas=[0], isr=[0])]), (error_code=0, topic='eolienne_jour_1', partitions=[(error_code=0, partition=0, leader=0, replicas=[0], isr=[0])]), (error_code=0, topic='eolienne_7_jour', partitions=[(error_code=0, partition=0, leader=0, replicas=[0], isr=[0])]), (error_code=0, topic='CRY.TGBT_NORMAL.CRY_act_cons_po', partitions=[(error_code=0, partition=0, leader=0, replicas=[0], isr=[0])]), (error_code=0, topic='__consumer_offsets', partitions=[(error_code=0, partition=0, leader=0, replicas=[0], isr=[0]), (error_code=0, partition=10, leader=0, replicas=[0], isr=[0]), (error_code=0, partition=20, leader=0, replicas=[0], isr=[0]), (error_code=0, partition=40, leader=0, replicas=[0], isr=[0]), (error_code=0, partition=30, leader=0, replicas=[0], isr=[0]), (error_code=0, partition=9, leader=0, replicas=[0], isr=[0]), (error_code=0, partition=39, leader=0, replicas=[0], isr=[0]), (error_code=0, partition=11, leader=0, replicas=[0], isr=[0]), (error_code=0, partition=31, leader=0, replicas=[0], isr=[0]), (error_code=0, partition=13, leader=0, replicas=[0], isr=[0]), (error_code=0, partition=18, leader=0, replicas=[0], isr=[0]), (error_code=0, partition=22, leader=0, replicas=[0], isr=[0]), (error_code=0, partition=8, leader=0, replicas=[0], isr=[0]), (error_code=0, partition=32, leader=0, replicas=[0], isr=[0]), (error_code=0, partition=43, leader=0, replicas=[0], isr=[0]), (error_code=0, partition=29, leader=0, replicas=[0], isr=[0]), (error_code=0, partition=34, leader=0, replicas=[0], isr=[0]), (error_code=0, partition=1, leader=0, replicas=[0], isr=[0]), (error_code=0, partition=6, leader=0, replicas=[0], isr=[0]), (error_code=0, partition=41, leader=0, replicas=[0], isr=[0]), (error_code=0, partition=27, leader=0, replicas=[0], isr=[0]), (error_code=0, partition=48, leader=0, replicas=[0], isr=[0]), (error_code=0, partition=5, leader=0, replicas=[0], isr=[0]), (error_code=0, partition=15, leader=0, replicas=[0], isr=[0]), (error_code=0, partition=35, leader=0, replicas=[0], isr=[0]), (error_code=0, partition=25, leader=0, replicas=[0], isr=[0]), (error_code=0, partition=46, leader=0, replicas=[0], isr=[0]), (error_code=0, partition=26, leader=0, replicas=[0], isr=[0]), (error_code=0, partition=36, leader=0, replicas=[0], isr=[0]), (error_code=0, partition=44, leader=0, replicas=[0], isr=[0]), (error_code=0, partition=16, leader=0, replicas=[0], isr=[0]), (error_code=0, partition=37, leader=0, replicas=[0], isr=[0]), (error_code=0, partition=17, leader=0, replicas=[0], isr=[0]), (error_code=0, partition=45, leader=0, replicas=[0], isr=[0]), (error_code=0, partition=3, leader=0, replicas=[0], isr=[0]), (error_code=0, partition=4, leader=0, replicas=[0], isr=[0]), (error_code=0, partition=24, leader=0, replicas=[0], isr=[0]), (error_code=0, partition=38, leader=0, replicas=[0], isr=[0]), (error_code=0, partition=33, leader=0, replicas=[0], isr=[0]), (error_code=0, partition=23, leader=0, replicas=[0], isr=[0]), (error_code=0, partition=28, leader=0, replicas=[0], isr=[0]), (error_code=0, partition=2, leader=0, replicas=[0], isr=[0]), (error_code=0, partition=12, leader=0, replicas=[0], isr=[0]), (error_code=0, partition=19, leader=0, replicas=[0], isr=[0]), (error_code=0, partition=14, leader=0, replicas=[0], isr=[0]), (error_code=0, partition=47, leader=0, replicas=[0], isr=[0]), (error_code=0, partition=49, leader=0, replicas=[0], isr=[0]), (error_code=0, partition=42, leader=0, replicas=[0], isr=[0]), (error_code=0, partition=7, leader=0, replicas=[0], isr=[0]), (error_code=0, partition=21, leader=0, replicas=[0], isr=[0])]), (error_code=0, topic='CRY.TGBT_NORMAL.CRY_app_cons_pow', partitions=[(error_code=0, partition=0, leader=0, replicas=[0], isr=[0])]), (error_code=0, topic='topic_all_tags', partitions=[(error_code=0, partition=0, leader=0, replicas=[0], isr=[0])]), (error_code=0, topic='eolienne_jour_7', partitions=[(error_code=0, partition=0, leader=0, replicas=[0], isr=[0])]), (error_code=0, topic='CRY.TGBT_NORMAL.CRY_rea_cons_pow', partitions=[(error_code=0, partition=0, leader=0, replicas=[0], isr=[0])]), (error_code=0, topic='CRY.TGBT_NORMAL.CRY_act_cons_pow', partitions=[(error_code=0, partition=0, leader=0, replicas=[0], isr=[0])]), (error_code=0, topic='CRY.CENTRALE_SOLAIRE.CRY_app_prod_pow', partitions=[(error_code=0, partition=0, leader=0, replicas=[0], isr=[0])]), (error_code=0, topic='CRY.TGBT_NORMAL.CRY_app_prod_pow', partitions=[(error_code=0, partition=0, leader=0, replicas=[0], isr=[0])]), (error_code=0, topic='mytopic', partitions=[(error_code=0, partition=0, leader=0, replicas=[0], isr=[0])]), (error_code=0, topic='CRY.CENTRALE_SOLAIRE.CRY_app_cons_pow', partitions=[(error_code=0, partition=0, leader=0, replicas=[0], isr=[0])]), (error_code=0, topic='eolienne_1_jour', partitions=[(error_code=0, partition=0, leader=0, replicas=[0], isr=[0])])])\n"
     ]
    },
    {
     "name": "stderr",
     "output_type": "stream",
     "text": [
      "Broker version identified as 1.0.0\n",
      "Set configuration api_version=(1, 0, 0) to skip auto check_version requests on startup\n",
      "Added sensor with name bytes-fetched\n",
      "Added sensor with name records-fetched\n",
      "Added sensor with name fetch-latency\n",
      "Added sensor with name records-lag\n",
      "Added sensor with name fetch-throttle-time\n",
      "Added sensor with name heartbeat-latency\n",
      "Added sensor with name join-latency\n",
      "Added sensor with name sync-latency\n",
      "group_id is None: disabling auto-commit.\n",
      "Added sensor with name commit-latency\n",
      "Seeking to end of partition TopicPartition(topic='eolienne_jour_1', partition=0)\n",
      "Resetting offset for partition TopicPartition(topic='eolienne_jour_1', partition=0) to latest offset.\n",
      "Partition TopicPartition(topic='eolienne_jour_1', partition=0) is unknown for fetching offset, wait for metadata refresh\n",
      "Sending metadata request MetadataRequest_v1(topics=['eolienne_jour_1']) to node bootstrap-0\n",
      "Sending request MetadataRequest_v1(topics=['eolienne_jour_1'])\n",
      "<BrokerConnection node_id=bootstrap-0 host=localhost:9092 <connected> [IPv6 ('::1', 9092, 0, 0)]> Request 3: MetadataRequest_v1(topics=['eolienne_jour_1'])\n",
      "Received correlation id: 3\n",
      "Processing response MetadataResponse_v1\n",
      "<BrokerConnection node_id=bootstrap-0 host=localhost:9092 <connected> [IPv6 ('::1', 9092, 0, 0)]> Response 3 (2.7065277099609375 ms): MetadataResponse_v1(brokers=[(node_id=0, host='irlin328206', port=9092, rack=None)], controller_id=0, topics=[(error_code=0, topic='eolienne_jour_1', is_internal=False, partitions=[(error_code=0, partition=0, leader=0, replicas=[0], isr=[0])])])\n",
      "Updated cluster metadata to ClusterMetadata(brokers: 1, topics: 1, groups: 0)\n",
      "Stale metadata was raised, and we now have an updated metadata. Rechecking partition existance\n",
      "Initiating connection to node 0 at irlin328206:9092\n",
      "Added sensor with name node-0.bytes-sent\n",
      "Added sensor with name node-0.bytes-received\n",
      "Added sensor with name node-0.latency\n",
      "<BrokerConnection node_id=0 host=irlin328206:9092 <disconnected> [unspecified None]>: creating new socket\n",
      "<BrokerConnection node_id=0 host=irlin328206:9092 <disconnected> [IPv6 ('fe80::9a90:96ff:fead:e31d', 9092, 0, 2)]>: setting socket option (6, 1, 1)\n",
      "<BrokerConnection node_id=0 host=irlin328206:9092 <connecting> [IPv6 ('fe80::9a90:96ff:fead:e31d', 9092, 0, 2)]>: connecting to irlin328206:9092 [('fe80::9a90:96ff:fead:e31d', 9092, 0, 2) IPv6]\n",
      "<BrokerConnection node_id=0 host=irlin328206:9092 <connecting> [IPv6 ('fe80::9a90:96ff:fead:e31d', 9092, 0, 2)]>: established TCP connection\n",
      "<BrokerConnection node_id=0 host=irlin328206:9092 <connecting> [IPv6 ('fe80::9a90:96ff:fead:e31d', 9092, 0, 2)]>: Connection complete.\n",
      "Node 0 connected\n",
      "<BrokerConnection node_id=bootstrap-0 host=localhost:9092 <connected> [IPv6 ('::1', 9092, 0, 0)]>: Closing connection. \n"
     ]
    },
    {
     "name": "stdout",
     "output_type": "stream",
     "text": [
      "Trying to connect to MongoDB server: localhost on port: 28018\n",
      "error : create now tracer...\n"
     ]
    },
    {
     "name": "stderr",
     "output_type": "stream",
     "text": [
      "Sending request OffsetRequest_v1(replica_id=-1, topics=[(topic='eolienne_jour_1', partitions=[(partition=0, timestamp=-1)])])\n",
      "<BrokerConnection node_id=0 host=irlin328206:9092 <connected> [IPv6 ('fe80::9a90:96ff:fead:e31d', 9092, 0, 2)]> Request 1: OffsetRequest_v1(replica_id=-1, topics=[(topic='eolienne_jour_1', partitions=[(partition=0, timestamp=-1)])])\n",
      "Received correlation id: 1\n",
      "Processing response OffsetResponse_v1\n",
      "<BrokerConnection node_id=0 host=irlin328206:9092 <connected> [IPv6 ('fe80::9a90:96ff:fead:e31d', 9092, 0, 2)]> Response 1 (2.2237300872802734 ms): OffsetResponse_v1(topics=[(topic='eolienne_jour_1', partitions=[(partition=0, error_code=0, timestamp=-1, offset=10776)])])\n",
      "Handling ListOffsetResponse response for TopicPartition(topic='eolienne_jour_1', partition=0). Fetched offset 10776, timestamp -1\n",
      "Seeking to beginning of partition TopicPartition(topic='eolienne_jour_1', partition=0)\n",
      "Resetting offset for partition TopicPartition(topic='eolienne_jour_1', partition=0) to earliest offset.\n",
      "Sending request OffsetRequest_v1(replica_id=-1, topics=[(topic='eolienne_jour_1', partitions=[(partition=0, timestamp=-2)])])\n",
      "<BrokerConnection node_id=0 host=irlin328206:9092 <connected> [IPv6 ('fe80::9a90:96ff:fead:e31d', 9092, 0, 2)]> Request 2: OffsetRequest_v1(replica_id=-1, topics=[(topic='eolienne_jour_1', partitions=[(partition=0, timestamp=-2)])])\n",
      "Received correlation id: 2\n",
      "Processing response OffsetResponse_v1\n",
      "<BrokerConnection node_id=0 host=irlin328206:9092 <connected> [IPv6 ('fe80::9a90:96ff:fead:e31d', 9092, 0, 2)]> Response 2 (2.2842884063720703 ms): OffsetResponse_v1(topics=[(topic='eolienne_jour_1', partitions=[(partition=0, error_code=0, timestamp=-1, offset=0)])])\n",
      "Handling ListOffsetResponse response for TopicPartition(topic='eolienne_jour_1', partition=0). Fetched offset 0, timestamp -1\n",
      "Adding fetch request for partition TopicPartition(topic='eolienne_jour_1', partition=0) at offset 0\n",
      "Sending FetchRequest to node 0\n",
      "Sending request FetchRequest_v4(replica_id=-1, max_wait_time=500, min_bytes=1, max_bytes=52428800, isolation_level=0, topics=[(topic='eolienne_jour_1', partitions=[(partition=0, offset=0, max_bytes=1048576)])])\n",
      "<BrokerConnection node_id=0 host=irlin328206:9092 <connected> [IPv6 ('fe80::9a90:96ff:fead:e31d', 9092, 0, 2)]> Request 3: FetchRequest_v4(replica_id=-1, max_wait_time=500, min_bytes=1, max_bytes=52428800, isolation_level=0, topics=[(topic='eolienne_jour_1', partitions=[(partition=0, offset=0, max_bytes=1048576)])])\n",
      "Received correlation id: 3\n",
      "Processing response FetchResponse_v4\n",
      "<BrokerConnection node_id=0 host=irlin328206:9092 <connected> [IPv6 ('fe80::9a90:96ff:fead:e31d', 9092, 0, 2)]> Response 3 (7.025718688964844 ms): FetchResponse_v4(throttle_time_ms=0, topics=[(topics='eolienne_jour_1', partitions=[(partition=0, error_code=0, highwater_offset=10776, last_stable_offset=10776, aborted_transactions=NULL, message_set=b'\\x00\\x00\\x00\\x00\\x00\\x00\\x00\\x00\\x00\\x00\\x00\\xad\\x00\\x00\\x00\\x00\\x02Y\\x04\\xfb\\xd0\\x00\\x00\\x00\\x00\\x00\\x00\\x00\\x00\\x01p\\xbe\\xcfr\\xc5\\x00\\x00\\x01p\\xbe\\xcfr\\xc5\\xff\\xff\\xff\\xff\\xff\\xff\\xff\\xff\\xff\\xff\\xff\\xff\\xff\\xff\\x00\\x00\\x00\\x01\\xf4\\x01\\x00\\x00\\x00\\x01\\xe6\\x010:02/10/2019 09:11;0;43.41266;-...')])])\n",
      "Adding fetched record for partition TopicPartition(topic='eolienne_jour_1', partition=0) with offset 0 to buffered record list\n",
      "Added sensor with name topic.eolienne_jour_1.bytes-fetched\n",
      "Added sensor with name topic.eolienne_jour_1.records-fetched\n",
      "Advance position for partition TopicPartition(topic='eolienne_jour_1', partition=0) from 4500 to 4606 (last message batch location plus one) to correct for deleted compacted messages\n",
      "Adding fetch request for partition TopicPartition(topic='eolienne_jour_1', partition=0) at offset 4606\n",
      "Sending FetchRequest to node 0\n",
      "Sending request FetchRequest_v4(replica_id=-1, max_wait_time=500, min_bytes=1, max_bytes=52428800, isolation_level=0, topics=[(topic='eolienne_jour_1', partitions=[(partition=0, offset=4606, max_bytes=1048576)])])\n",
      "<BrokerConnection node_id=0 host=irlin328206:9092 <connected> [IPv6 ('fe80::9a90:96ff:fead:e31d', 9092, 0, 2)]> Request 4: FetchRequest_v4(replica_id=-1, max_wait_time=500, min_bytes=1, max_bytes=52428800, isolation_level=0, topics=[(topic='eolienne_jour_1', partitions=[(partition=0, offset=4606, max_bytes=1048576)])])\n",
      "Received correlation id: 4\n",
      "Processing response FetchResponse_v4\n",
      "<BrokerConnection node_id=0 host=irlin328206:9092 <connected> [IPv6 ('fe80::9a90:96ff:fead:e31d', 9092, 0, 2)]> Response 4 (5.009174346923828 ms): FetchResponse_v4(throttle_time_ms=0, topics=[(topics='eolienne_jour_1', partitions=[(partition=0, error_code=0, highwater_offset=10777, last_stable_offset=10777, aborted_transactions=NULL, message_set=b'\\x00\\x00\\x00\\x00\\x00\\x00\\x11\\xfe\\x00\\x00\\x00\\xe0\\x00\\x00\\x00\\x00\\x02v\\xa7TY\\x00\\x00\\x00\\x00\\x00\\x00\\x00\\x00\\x01p\\xbe\\xf2\\xaf\\xd9\\x00\\x00\\x01p\\xbe\\xf2\\xaf\\xd9\\xff\\xff\\xff\\xff\\xff\\xff\\xff\\xff\\xff\\xff\\xff\\xff\\xff\\xff\\x00\\x00\\x00\\x01\\xda\\x02\\x00\\x00\\x00\\x01\\xcc\\x024606:02/10/2019 10:27;4606;43.4...')])])\n",
      "Adding fetched record for partition TopicPartition(topic='eolienne_jour_1', partition=0) with offset 4606 to buffered record list\n"
     ]
    },
    {
     "name": "stdout",
     "output_type": "stream",
     "text": [
      "10776\n"
     ]
    },
    {
     "name": "stderr",
     "output_type": "stream",
     "text": [
      "Advance position for partition TopicPartition(topic='eolienne_jour_1', partition=0) from 9106 to 9236 (last message batch location plus one) to correct for deleted compacted messages\n",
      "Adding fetch request for partition TopicPartition(topic='eolienne_jour_1', partition=0) at offset 9236\n",
      "Sending FetchRequest to node 0\n",
      "Sending request FetchRequest_v4(replica_id=-1, max_wait_time=500, min_bytes=1, max_bytes=52428800, isolation_level=0, topics=[(topic='eolienne_jour_1', partitions=[(partition=0, offset=9236, max_bytes=1048576)])])\n",
      "<BrokerConnection node_id=0 host=irlin328206:9092 <connected> [IPv6 ('fe80::9a90:96ff:fead:e31d', 9092, 0, 2)]> Request 5: FetchRequest_v4(replica_id=-1, max_wait_time=500, min_bytes=1, max_bytes=52428800, isolation_level=0, topics=[(topic='eolienne_jour_1', partitions=[(partition=0, offset=9236, max_bytes=1048576)])])\n",
      "Received correlation id: 5\n",
      "Processing response FetchResponse_v4\n",
      "<BrokerConnection node_id=0 host=irlin328206:9092 <connected> [IPv6 ('fe80::9a90:96ff:fead:e31d', 9092, 0, 2)]> Response 5 (4.848718643188477 ms): FetchResponse_v4(throttle_time_ms=0, topics=[(topics='eolienne_jour_1', partitions=[(partition=0, error_code=0, highwater_offset=10777, last_stable_offset=10777, aborted_transactions=NULL, message_set=b'\\x00\\x00\\x00\\x00\\x00\\x00$\\x14\\x00\\x00\\x00\\xe6\\x00\\x00\\x00\\x00\\x02\\x15\"5\\xd1\\x00\\x00\\x00\\x00\\x00\\x00\\x00\\x00\\x01p\\xc3\\xd7\\xa6a\\x00\\x00\\x01p\\xc3\\xd7\\xa6a\\xff\\xff\\xff\\xff\\xff\\xff\\xff\\xff\\xff\\xff\\xff\\xff\\xff\\xff\\x00\\x00\\x00\\x01\\xe6\\x02\\x00\\x00\\x00\\x01\\xd8\\x021895:02/10/2019 09:42;1895;43.4...')])])\n",
      "Adding fetched record for partition TopicPartition(topic='eolienne_jour_1', partition=0) with offset 9236 to buffered record list\n",
      "Advance position for partition TopicPartition(topic='eolienne_jour_1', partition=0) from 10736 to 10777 (last message batch location plus one) to correct for deleted compacted messages\n",
      "Adding fetch request for partition TopicPartition(topic='eolienne_jour_1', partition=0) at offset 10777\n",
      "Sending FetchRequest to node 0\n",
      "Sending request FetchRequest_v4(replica_id=-1, max_wait_time=500, min_bytes=1, max_bytes=52428800, isolation_level=0, topics=[(topic='eolienne_jour_1', partitions=[(partition=0, offset=10777, max_bytes=1048576)])])\n",
      "<BrokerConnection node_id=0 host=irlin328206:9092 <connected> [IPv6 ('fe80::9a90:96ff:fead:e31d', 9092, 0, 2)]> Request 6: FetchRequest_v4(replica_id=-1, max_wait_time=500, min_bytes=1, max_bytes=52428800, isolation_level=0, topics=[(topic='eolienne_jour_1', partitions=[(partition=0, offset=10777, max_bytes=1048576)])])\n",
      "Closing the KafkaConsumer.\n",
      "<BrokerConnection node_id=0 host=irlin328206:9092 <connected> [IPv6 ('fe80::9a90:96ff:fead:e31d', 9092, 0, 2)]>: Closing connection. \n",
      "Fetch to node 0 failed: Cancelled: <BrokerConnection node_id=0 host=irlin328206:9092 <connected> [IPv6 ('fe80::9a90:96ff:fead:e31d', 9092, 0, 2)]>\n",
      "The KafkaConsumer has closed.\n",
      "Reporting span 82af0b792df61d47:709f70b2812708c5:889024776791c0d3:1 mongodb_test_eolienne_1_jour.collect_data\n"
     ]
    },
    {
     "name": "stdout",
     "output_type": "stream",
     "text": [
      "10775\n"
     ]
    },
    {
     "name": "stderr",
     "output_type": "stream",
     "text": [
      "Reporting span 82af0b792df61d47:62c843d3faca6e2d:889024776791c0d3:1 mongodb_test_eolienne_1_jour.insert_bulk\n",
      "Reporting span 82af0b792df61d47:889024776791c0d3:0:1 mongodb_test_eolienne_1_jour.test_line_insertion\n"
     ]
    },
    {
     "name": "stdout",
     "output_type": "stream",
     "text": [
      "sucess\n"
     ]
    }
   ],
   "source": [
    "from kafka import KafkaConsumer,TopicPartition\n",
    "from pymongo import MongoClient,errors\n",
    "import json\n",
    "import time\n",
    "import os\n",
    "import pandas as pd\n",
    "\n",
    "import time\n",
    "import logging\n",
    "from jaeger_client import Config\n",
    "from opentracing_instrumentation.request_context import get_current_span, span_in_context\n",
    "\n",
    "def init_tracer(service):\n",
    "    logging.getLogger('').handlers = []\n",
    "    logging.basicConfig(format='%(message)s', level=logging.DEBUG)    \n",
    "    config = Config(\n",
    "        config={\n",
    "            'sampler': {\n",
    "                'type': 'const',\n",
    "                'param': 1,\n",
    "            },\n",
    "            'logging': True,\n",
    "        },\n",
    "        service_name=service,\n",
    "    )\n",
    "    if config._initialized == False :\n",
    "        return config.initialize_tracer()\n",
    "    else :\n",
    "        print(\"error : create now tracer...\")\n",
    "        return config.new_tracer()\n",
    "\n",
    "def mongodb_connect(domain, port):\n",
    "    domain_str = str(domain) + \":\" + str(port)\n",
    "    try:\n",
    "        print (\"Trying to connect to MongoDB server:\", domain, \"on port:\", port)\n",
    "        client = MongoClient(host = [domain_str],\n",
    "                             serverSelectionTimeoutMS = 2000)\n",
    "        #print (\"server_info():\", client.server_info())\n",
    "    except errors.ServerSelectionTimeoutError as err:\n",
    "        print (\"pymongo ERROR:\", err)\n",
    "        client = None\n",
    "    return client\n",
    "\n",
    "def consumer_single_collection():\n",
    "    consumer = KafkaConsumer(bootstrap_servers='localhost:9092')\n",
    "    topic=\"eolienne_jour_1\"\n",
    "    tp = TopicPartition(topic,0)\n",
    "    consumer.assign([tp])\n",
    "    consumer.seek_to_end(tp)\n",
    "    lastOffset = consumer.position(tp)\n",
    "    print(lastOffset)\n",
    "    consumer.seek_to_beginning(tp) \n",
    "    #end\n",
    "    list_data=[]\n",
    "    with tracer.start_span('collect_data',child_of=get_current_span()) as span:\n",
    "        span.set_tag('kafka','collect_data_jour_1')\n",
    "        with span_in_context(span):\n",
    "            for message in consumer:\n",
    "                msg = message.value.decode()\n",
    "                mongodata={\n",
    "                    'timestamp':msg.split(\";\")[0].split(\":\",1)[1],\n",
    "                    'msg':msg.split(\";\",1)[1]\n",
    "                }\n",
    "                list_data.append(mongodata)\n",
    "                if message.offset == lastOffset - 1:\n",
    "                    print(message.offset)\n",
    "                    break\n",
    "            consumer.close()\n",
    "            return list_data\n",
    "\n",
    "def insert_one(list_data,collection):\n",
    "    with tracer.start_span('insert_bulk',child_of=get_current_span()) as span:\n",
    "        span.set_tag('mongodb','operation:insert_one')\n",
    "        with span_in_context(span):\n",
    "            try:\n",
    "                for data in list_data:\n",
    "                    collection.insert_one(data)\n",
    "                return \"sucess\"\n",
    "            except:\n",
    "                return \"error\"\n",
    "            \n",
    "def test_insert_one(collection):\n",
    "    with tracer.start_span('test_line_insertion') as span:\n",
    "        span.set_tag('mongodb','insertion_test')\n",
    "        with span_in_context(span):\n",
    "            data=consumer_single_collection()\n",
    "            result=insert_one(data,collection)\n",
    "            return result\n",
    "            \n",
    "            \n",
    "if __name__==\"__main__\":\n",
    "    client = mongodb_connect(\"localhost\", 28018)\n",
    "    col=client.test['test_eolienne_insert']\n",
    "    tracer = init_tracer('mongodb_test_eolienne_1_jour')\n",
    "    result = test_insert_one(col)\n",
    "    print(result)"
   ]
  },
  {
   "cell_type": "code",
   "execution_count": 3,
   "metadata": {},
   "outputs": [
    {
     "name": "stdout",
     "output_type": "stream",
     "text": [
      "7270\n",
      "7269\n"
     ]
    }
   ],
   "source": [
    "from kafka import KafkaConsumer,TopicPartition\n",
    "from pymongo import MongoClient,errors\n",
    "import json\n",
    "import time\n",
    "import os\n",
    "import pandas as pd\n",
    "\n",
    "import time\n",
    "import logging\n",
    "from jaeger_client import Config\n",
    "from opentracing_instrumentation.request_context import get_current_span, span_in_context\n",
    "\n",
    "\n",
    "\n",
    "def consumer_single_collection():\n",
    "    consumer = KafkaConsumer(bootstrap_servers='localhost:9092')\n",
    "    topic=\"eolienne_jour_1\"\n",
    "    tp = TopicPartition(topic,0)\n",
    "    consumer.assign([tp])\n",
    "    consumer.seek_to_end(tp)\n",
    "    lastOffset = consumer.position(tp)\n",
    "    print(lastOffset)\n",
    "    consumer.seek_to_beginning(tp) \n",
    "    #end\n",
    "    list_data=[]\n",
    "    for message in consumer:\n",
    "        msg = message.value.decode()\n",
    "        list_data.append(msg)\n",
    "        if message.offset == lastOffset - 1:\n",
    "            print(message.offset)\n",
    "            break\n",
    "    consumer.close()\n",
    "    return list_data\n",
    "\n",
    "test_data=consumer_single_collection()"
   ]
  },
  {
   "cell_type": "code",
   "execution_count": 19,
   "metadata": {},
   "outputs": [],
   "source": [
    "def str_to_dict(list_data):\n",
    "    col= ['Heure','Temps écoulé','Latitude','Longitude',\n",
    "          'Altitude','Head. Rel. True North','Pressure',\n",
    "          'Temperature','Humidity','MDA Wnd Dir','MDA Wnd Speed',\n",
    "          'MWD Wind Dir','MWD Wind Speed','CavityPressure',\n",
    "          'CavityTemp','CH4','CH4_dry','C2H6','C2H6_dry',\n",
    "          '13CH4','H2O','CO2','C2C1Ratio','Delta_iCH4_Raw',\n",
    "          'HP_Delta_iCH4_30s','HP_Delta_iCH4_2min','HP_Delta_iCH4_5min']\n",
    "    new_dict=[]\n",
    "    for item in list_data:\n",
    "        info=item.split(\":\",1)[1].split(\";\")\n",
    "        dict_item ={col[i]:info[i] for i in range(len(col))}\n",
    "        new_dict.append(dict_item)\n",
    "    return new_dict\n",
    "\n",
    "def verify_empty_str(list_dict):\n",
    "    col= ['Heure','Temps écoulé','Latitude','Longitude',\n",
    "          'Altitude','Head. Rel. True North','Pressure',\n",
    "          'Temperature','Humidity','MDA Wnd Dir','MDA Wnd Speed',\n",
    "          'MWD Wind Dir','MWD Wind Speed','CavityPressure',\n",
    "          'CavityTemp','CH4','CH4_dry','C2H6','C2H6_dry',\n",
    "          '13CH4','H2O','CO2','C2C1Ratio','Delta_iCH4_Raw',\n",
    "          'HP_Delta_iCH4_30s','HP_Delta_iCH4_2min','HP_Delta_iCH4_5min']        \n",
    "    for index,item in enumerate(list_dict,start=0):\n",
    "        for i in range(len(col)) :\n",
    "            if item.get(col[i]):\n",
    "                continue\n",
    "            else:\n",
    "                print(\"line: \",index,\", position: \",i)"
   ]
  },
  {
   "cell_type": "code",
   "execution_count": 15,
   "metadata": {},
   "outputs": [],
   "source": [
    "res = str_to_dict(test_data)"
   ]
  },
  {
   "cell_type": "code",
   "execution_count": 20,
   "metadata": {
    "scrolled": true
   },
   "outputs": [
    {
     "name": "stdout",
     "output_type": "stream",
     "text": [
      "line:  7270 , position:  0\n",
      "line:  7271 , position:  0\n",
      "line:  7272 , position:  0\n",
      "line:  7273 , position:  0\n"
     ]
    }
   ],
   "source": [
    "verify_empty_str(res)"
   ]
  },
  {
   "cell_type": "code",
   "execution_count": 17,
   "metadata": {
    "scrolled": true
   },
   "outputs": [
    {
     "name": "stdout",
     "output_type": "stream",
     "text": [
      "{'Heure': '', 'Temps écoulé': '7269', 'Latitude': '43.4127', 'Longitude': '-0.6416', 'Altitude': '95.2', 'Head. Rel. True North': '73.2', 'Pressure': '1.017', 'Temperature': '16.9', 'Humidity': '79.1', 'MDA Wnd Dir': '257', 'MDA Wnd Speed': '7', 'MWD Wind Dir': '256.6', 'MWD Wind Speed': '6.8', 'CavityPressure': '148', 'CavityTemp': '45', 'CH4': '2.01', 'CH4_dry': '2.05', 'C2H6': '-0.01', 'C2H6_dry': '-0.01', '13CH4': '0.02', 'H2O': '1.69', 'CO2': '392.66', 'C2C1Ratio': '0', 'Delta_iCH4_Raw': '-52.53', 'HP_Delta_iCH4_30s': '-50.41', 'HP_Delta_iCH4_2min': '-48.54', 'HP_Delta_iCH4_5min': '-48.06'}\n"
     ]
    }
   ],
   "source": [
    "print(res[7271])"
   ]
  },
  {
   "cell_type": "code",
   "execution_count": 13,
   "metadata": {},
   "outputs": [],
   "source": [
    "test_data.append('7269:;7269;43.4127;-0.6416;95.2;73.2;1.017;16.9;79.1;257;7;256.6;6.8;148;45;2.01;2.05;-0.01;-0.01;0.02;1.69;392.66;0;-52.53;-50.41;-48.54;-48.06')"
   ]
  }
 ],
 "metadata": {
  "kernelspec": {
   "display_name": "Python 3",
   "language": "python",
   "name": "python3"
  },
  "language_info": {
   "codemirror_mode": {
    "name": "ipython",
    "version": 3
   },
   "file_extension": ".py",
   "mimetype": "text/x-python",
   "name": "python",
   "nbconvert_exporter": "python",
   "pygments_lexer": "ipython3",
   "version": "3.7.4"
  }
 },
 "nbformat": 4,
 "nbformat_minor": 2
}
