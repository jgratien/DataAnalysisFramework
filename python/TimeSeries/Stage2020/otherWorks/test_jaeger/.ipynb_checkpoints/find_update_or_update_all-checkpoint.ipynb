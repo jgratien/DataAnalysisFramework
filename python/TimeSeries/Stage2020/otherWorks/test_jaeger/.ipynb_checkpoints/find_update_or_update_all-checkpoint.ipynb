{
 "cells": [
  {
   "cell_type": "code",
   "execution_count": 11,
   "metadata": {},
   "outputs": [
    {
     "name": "stderr",
     "output_type": "stream",
     "text": [
      "Initializing Jaeger Tracer with UDP reporter\n",
      "Using selector: EpollSelector\n",
      "Using sampler ConstSampler(True)\n"
     ]
    },
    {
     "name": "stdout",
     "output_type": "stream",
     "text": [
      "Trying to connect to MongoDB server: localhost on port: 28018\n",
      "error : create now tracer...\n"
     ]
    },
    {
     "name": "stderr",
     "output_type": "stream",
     "text": [
      "Reporting span 69130f395ecfafb:525b8cc9c2c4f110:0:1 mongodb_test_update.test_update_doc\n"
     ]
    },
    {
     "name": "stdout",
     "output_type": "stream",
     "text": [
      "29080  documents updated\n"
     ]
    }
   ],
   "source": [
    "from pymongo import MongoClient,errors\n",
    "import json\n",
    "import time\n",
    "import os\n",
    "import pandas as pd\n",
    "\n",
    "import time\n",
    "import logging\n",
    "from jaeger_client import Config\n",
    "from opentracing_instrumentation.request_context import get_current_span, span_in_context\n",
    "\n",
    "def init_tracer(service):\n",
    "    logging.getLogger('').handlers = []\n",
    "    logging.basicConfig(format='%(message)s', level=logging.DEBUG)    \n",
    "    config = Config(\n",
    "        config={\n",
    "            'sampler': {\n",
    "                'type': 'const',\n",
    "                'param': 1,\n",
    "            },\n",
    "            'logging': True,\n",
    "        },\n",
    "        service_name=service,\n",
    "    )\n",
    "    if config._initialized == False :\n",
    "        return config.initialize_tracer()\n",
    "    else :\n",
    "        print(\"error : create now tracer...\")\n",
    "        return config.new_tracer()\n",
    "\n",
    "def mongodb_connect(domain, port):\n",
    "    domain_str = str(domain) + \":\" + str(port)\n",
    "    try:\n",
    "        print (\"Trying to connect to MongoDB server:\", domain, \"on port:\", port)\n",
    "        client = MongoClient(host = [domain_str],\n",
    "                             serverSelectionTimeoutMS = 2000)\n",
    "        #print (\"server_info():\", client.server_info())\n",
    "    except errors.ServerSelectionTimeoutError as err:\n",
    "        print (\"pymongo ERROR:\", err)\n",
    "        client = None\n",
    "    return client\n",
    "\n",
    "def update_all_data(collection,new_values):\n",
    "    with tracer.start_span('test_update_doc') as span:\n",
    "        span.set_tag('mongodb','update_all_doc')\n",
    "        with span_in_context(span): \n",
    "            try : \n",
    "                res = collection.update_many({},new_values)\n",
    "                span.set_tag('error', 'false')\n",
    "                span.log_kv({'event': 'update selected field of all doc' , 'value': res.modified_count })\n",
    "                return res.modified_count\n",
    "            except:\n",
    "                span.set_tag('error', 'true')\n",
    "                return\n",
    "        \n",
    "def update_data(collection,query,new_values):\n",
    "    with tracer.start_span('test_update_doc') as span:\n",
    "        span.set_tag('mongodb','update_some_doc')\n",
    "        with span_in_context(span): \n",
    "            try:\n",
    "                res = collection.update_many(query,new_values)\n",
    "                span.set_tag('error', 'false')\n",
    "                span.log_kv({'event': 'update selected field of doc found' , 'value': res.modified_count })\n",
    "                return res.modified_count\n",
    "            except:\n",
    "                span.set_tag('error', 'true')\n",
    "                return\n",
    "\n",
    "if __name__== \"__main__\":\n",
    "    client = mongodb_connect(\"localhost\", 28018)\n",
    "    collection = client.test['test_bulk_eolienne_insert']\n",
    "    tracer = init_tracer('mongodb_test_update')\n",
    "    col_name = \"timestamp\"\n",
    "    query={col_name:{'$regex':'11:'}}\n",
    "    new_values={'$set':{col_name:\"00/00/2019 30:00\"}}\n",
    "    #result=update_data(collection,query,new_values)\n",
    "    result=update_all_data(collection,new_values)\n",
    "    print(result, \" documents updated\")"
   ]
  },
  {
   "cell_type": "code",
   "execution_count": null,
   "metadata": {},
   "outputs": [],
   "source": []
  }
 ],
 "metadata": {
  "kernelspec": {
   "display_name": "Python 3",
   "language": "python",
   "name": "python3"
  },
  "language_info": {
   "codemirror_mode": {
    "name": "ipython",
    "version": 3
   },
   "file_extension": ".py",
   "mimetype": "text/x-python",
   "name": "python",
   "nbconvert_exporter": "python",
   "pygments_lexer": "ipython3",
   "version": "3.7.4"
  }
 },
 "nbformat": 4,
 "nbformat_minor": 2
}
