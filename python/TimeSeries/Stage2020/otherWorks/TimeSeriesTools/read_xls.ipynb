{
 "cells": [
  {
   "cell_type": "code",
   "execution_count": 44,
   "metadata": {},
   "outputs": [],
   "source": [
    "import pandas as pd\n",
    "import os\n",
    "import io\n",
    "import glob\n",
    "from xlwt import Workbook\n",
    "\n",
    "def fixFiles(path):\n",
    "    all_files =  glob.glob(os.path.join(path,\"*.xls\"))\n",
    "    lf = []\n",
    "    lh = []\n",
    "    xldoc = Workbook()\n",
    "    sheet = xldoc.add_sheet(\"Sheet1\", cell_overwrite_ok=True)\n",
    "    for index,filename in enumerate(all_files,start=0):\n",
    "        print(filename)\n",
    "        file = io.open(filename, \"r\", encoding=\"latin-1\")\n",
    "        data=file.readlines()\n",
    "        lh.append(data[0:10])\n",
    "        del data[0:10]\n",
    "        lf.append(data)\n",
    "        for i, row in enumerate(data):\n",
    "    # Two things are done here\n",
    "    # Removeing the '\\n' which comes while reading the file using io.open\n",
    "    # Getting the values after splitting using '\\t'\n",
    "            for j, val in enumerate(row.replace('\\n', '').split('\\t')):\n",
    "                sheet.write(i, j, val)\n",
    "        path= r'/work/weiy/DataAnalysisFramework-ref/data/Lacq/jour_1_DT/myexcel_'+str(index)+'.xls'\n",
    "        xldoc.save(path)\n",
    "    return lh\n",
    "\n",
    "def readFiles(path):\n",
    "    all_files =  glob.glob(os.path.join(path,\"*.xls\"))\n",
    "    lf = []\n",
    "    for file in all_files:\n",
    "        data = pd.read_excel(file)\n",
    "        lf.append(data)\n",
    "    return lf\n",
    "\n",
    "def convertFiles(data,head):\n",
    "    for i,file in enumerate(data,start=0):\n",
    "        file.columns = head\n",
    "        file.to_csv( r'/work/weiy/DataAnalysisFramework-ref/data/Lacq/jour_1_DT/myCsv_'+str(i)+'.csv')"
   ]
  },
  {
   "cell_type": "code",
   "execution_count": 45,
   "metadata": {
    "scrolled": true
   },
   "outputs": [],
   "source": [
    "if __name__ == \"__main__\":\n",
    "    path_origin = r'/work/weiy/DataAnalysisFramework-ref/data/Lacq/jour_1'\n",
    "    lh=fixFiles(path_origin)\n",
    "    path_dt = r'/work/weiy/DataAnalysisFramework-ref/data/Lacq/jour_1_DT'\n",
    "    test=readFiles(path_dt)\n",
    "    head=lh[0][9].replace('\\n','').split('\\t')\n",
    "    convertFiles(test,head)"
   ]
  },
  {
   "cell_type": "code",
   "execution_count": 46,
   "metadata": {},
   "outputs": [
    {
     "data": {
      "text/plain": [
       "['Heure :',\n",
       " 'Temps écoulé',\n",
       " '4069 state',\n",
       " 'Battery voltage',\n",
       " 'Flow SP',\n",
       " 'Unit Code',\n",
       " 'Flow M',\n",
       " 'Pressure',\n",
       " 'Temperature',\n",
       " 'Latitude',\n",
       " 'Longitude',\n",
       " 'Altitude',\n",
       " 'Head. Rel. True North',\n",
       " 'Pressure',\n",
       " 'Temperature',\n",
       " 'Humidity',\n",
       " 'MDA Wnd Dir',\n",
       " 'MDA Wnd Speed',\n",
       " 'MWD Wind Dir',\n",
       " 'MWD Wind Speed',\n",
       " 'Gaz Concentration 1',\n",
       " 'Gaz Concentration 2',\n",
       " 'Gaz Concentration 3',\n",
       " 'Gaz Concentration 4',\n",
       " 'SPA 1',\n",
       " 'SPA 2',\n",
       " 'Cellule Photo',\n",
       " 'Temperature',\n",
       " 'Pressure',\n",
       " 'Flow MassFlow 1',\n",
       " 'NOTUSED Flow MassFlow 2',\n",
       " 'Flow',\n",
       " 'Humidity',\n",
       " 'Test',\n",
       " 'Details',\n",
       " 'SPA 3',\n",
       " 'SPA 4',\n",
       " 'CavityPressure',\n",
       " 'CavityTemp',\n",
       " 'CH4',\n",
       " 'CH4_dry',\n",
       " 'C2H6',\n",
       " 'C2H6_dry',\n",
       " '13CH4',\n",
       " 'H2O',\n",
       " 'CO2',\n",
       " 'C2C1Ratio',\n",
       " 'Delta_iCH4_Raw',\n",
       " 'HP_Delta_iCH4_30s',\n",
       " 'HP_Delta_iCH4_2min',\n",
       " 'HP_Delta_iCH4_5min']"
      ]
     },
     "execution_count": 46,
     "metadata": {},
     "output_type": "execute_result"
    }
   ],
   "source": [
    "head"
   ]
  },
  {
   "cell_type": "code",
   "execution_count": null,
   "metadata": {},
   "outputs": [],
   "source": []
  }
 ],
 "metadata": {
  "kernelspec": {
   "display_name": "Python 3",
   "language": "python",
   "name": "python3"
  },
  "language_info": {
   "codemirror_mode": {
    "name": "ipython",
    "version": 3
   },
   "file_extension": ".py",
   "mimetype": "text/x-python",
   "name": "python",
   "nbconvert_exporter": "python",
   "pygments_lexer": "ipython3",
   "version": "3.7.6"
  }
 },
 "nbformat": 4,
 "nbformat_minor": 4
}
