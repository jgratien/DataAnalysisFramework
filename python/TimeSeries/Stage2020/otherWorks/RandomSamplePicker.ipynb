{
 "cells": [
  {
   "cell_type": "code",
   "execution_count": 90,
   "metadata": {
    "scrolled": true
   },
   "outputs": [],
   "source": [
    "import random\n",
    "import os\n",
    "import pandas as pd\n",
    "\n",
    "def randomRows(df,amount):\n",
    "    data_sample = df.loc[0:(len(df)-3)].sample(amount)\n",
    "    #data_sample=data_sample.sort_index()\n",
    "    return data_sample"
   ]
  },
  {
   "cell_type": "code",
   "execution_count": 93,
   "metadata": {
    "scrolled": true
   },
   "outputs": [
    {
     "data": {
      "text/plain": [
       "timestamp;tagname;value;quality    01/01/2019 11:58:38;CRY.CENTRALE_SOLAIRE.CRY_a...\n",
       "Name: 304, dtype: object"
      ]
     },
     "execution_count": 93,
     "metadata": {},
     "output_type": "execute_result"
    }
   ],
   "source": [
    "data_folder='/work/weiy/DataAnalysisFramework-ref/data/TimeSeries'\n",
    "file='dataHistorian-Cryolite-20190101-OneDay.csv'\n",
    "file_path=os.path.join(data_folder,file)\n",
    "data_df=pd.read_csv(file_path,header=0)\n",
    "data_df.iloc[304]"
   ]
  },
  {
   "cell_type": "code",
   "execution_count": 91,
   "metadata": {
    "scrolled": true
   },
   "outputs": [
    {
     "data": {
      "text/html": [
       "<div>\n",
       "<style scoped>\n",
       "    .dataframe tbody tr th:only-of-type {\n",
       "        vertical-align: middle;\n",
       "    }\n",
       "\n",
       "    .dataframe tbody tr th {\n",
       "        vertical-align: top;\n",
       "    }\n",
       "\n",
       "    .dataframe thead th {\n",
       "        text-align: right;\n",
       "    }\n",
       "</style>\n",
       "<table border=\"1\" class=\"dataframe\">\n",
       "  <thead>\n",
       "    <tr style=\"text-align: right;\">\n",
       "      <th></th>\n",
       "      <th>timestamp;tagname;value;quality</th>\n",
       "    </tr>\n",
       "  </thead>\n",
       "  <tbody>\n",
       "    <tr>\n",
       "      <td>14827</td>\n",
       "      <td>01/01/2019 22:13:44;CRY.TGBT_NORMAL.CRY_app_co...</td>\n",
       "    </tr>\n",
       "    <tr>\n",
       "      <td>19268</td>\n",
       "      <td>01/01/2019 18:39:31;CRY.TGBT_NORMAL.CRY_rea_co...</td>\n",
       "    </tr>\n",
       "    <tr>\n",
       "      <td>11143</td>\n",
       "      <td>01/01/2019 10:05:10;CRY.TGBT_NORMAL.CRY_app_co...</td>\n",
       "    </tr>\n",
       "    <tr>\n",
       "      <td>6905</td>\n",
       "      <td>01/01/2019 19:48:11;CRY.TGBT_NORMAL.CRY_act_co...</td>\n",
       "    </tr>\n",
       "    <tr>\n",
       "      <td>20729</td>\n",
       "      <td>01/01/2019 23:59:28;CRY.TGBT_NORMAL.CRY_rea_co...</td>\n",
       "    </tr>\n",
       "    <tr>\n",
       "      <td>743</td>\n",
       "      <td>01/01/2019 10:49:33;CRY.CENTRALE_SOLAIRE.CRY_a...</td>\n",
       "    </tr>\n",
       "    <tr>\n",
       "      <td>304</td>\n",
       "      <td>01/01/2019 11:58:38;CRY.CENTRALE_SOLAIRE.CRY_a...</td>\n",
       "    </tr>\n",
       "    <tr>\n",
       "      <td>7521</td>\n",
       "      <td>01/01/2019 21:54:32;CRY.TGBT_NORMAL.CRY_act_co...</td>\n",
       "    </tr>\n",
       "    <tr>\n",
       "      <td>14128</td>\n",
       "      <td>01/01/2019 19:58:48;CRY.TGBT_NORMAL.CRY_app_co...</td>\n",
       "    </tr>\n",
       "    <tr>\n",
       "      <td>15627</td>\n",
       "      <td>01/01/2019 00:38:09;CRY.TGBT_NORMAL.CRY_rea_co...</td>\n",
       "    </tr>\n",
       "  </tbody>\n",
       "</table>\n",
       "</div>"
      ],
      "text/plain": [
       "                         timestamp;tagname;value;quality\n",
       "14827  01/01/2019 22:13:44;CRY.TGBT_NORMAL.CRY_app_co...\n",
       "19268  01/01/2019 18:39:31;CRY.TGBT_NORMAL.CRY_rea_co...\n",
       "11143  01/01/2019 10:05:10;CRY.TGBT_NORMAL.CRY_app_co...\n",
       "6905   01/01/2019 19:48:11;CRY.TGBT_NORMAL.CRY_act_co...\n",
       "20729  01/01/2019 23:59:28;CRY.TGBT_NORMAL.CRY_rea_co...\n",
       "743    01/01/2019 10:49:33;CRY.CENTRALE_SOLAIRE.CRY_a...\n",
       "304    01/01/2019 11:58:38;CRY.CENTRALE_SOLAIRE.CRY_a...\n",
       "7521   01/01/2019 21:54:32;CRY.TGBT_NORMAL.CRY_act_co...\n",
       "14128  01/01/2019 19:58:48;CRY.TGBT_NORMAL.CRY_app_co...\n",
       "15627  01/01/2019 00:38:09;CRY.TGBT_NORMAL.CRY_rea_co..."
      ]
     },
     "execution_count": 91,
     "metadata": {},
     "output_type": "execute_result"
    }
   ],
   "source": [
    "df=randomRows(data_df,10)\n",
    "df"
   ]
  }
 ],
 "metadata": {
  "kernelspec": {
   "display_name": "Python 3",
   "language": "python",
   "name": "python3"
  },
  "language_info": {
   "codemirror_mode": {
    "name": "ipython",
    "version": 3
   },
   "file_extension": ".py",
   "mimetype": "text/x-python",
   "name": "python",
   "nbconvert_exporter": "python",
   "pygments_lexer": "ipython3",
   "version": "3.7.4"
  }
 },
 "nbformat": 4,
 "nbformat_minor": 2
}
