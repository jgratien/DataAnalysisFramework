{
 "cells": [
  {
   "cell_type": "code",
   "execution_count": 8,
   "metadata": {},
   "outputs": [
    {
     "name": "stdout",
     "output_type": "stream",
     "text": [
      "02/10/2019 09:11;0;43.41266;-0.641605;91.6;34.2;1.015;14.6;87.1;323.6;1.7;324.3;1.6;999;0;0;0;0;0;0;0;0;0;0;0;0;0\n",
      "<class 'str'>\n"
     ]
    }
   ],
   "source": [
    "import pprint\n",
    "import json\n",
    "import time\n",
    "import os\n",
    "import pandas as pd\n",
    "from kafka import KafkaProducer\n",
    "\n",
    "def main(folder,file):\n",
    "    producer = KafkaProducer(bootstrap_servers=\"localhost:9092\")\n",
    "    data_file=os.path.join(folder,file)\n",
    "    data_df=pd.read_csv(data_file,header=0,encoding='latin-1')\n",
    "    #data_df=randomRows(data_df,3)\n",
    "    while True:\n",
    "        for index,row in data_df.iterrows():\n",
    "            count=str(row.name)\n",
    "            value=row[0]\n",
    "            msg = count+\":\"+value\n",
    "            #Configuration of broker:auto.create.topics.enable\n",
    "            producer.send(\"eolienne_jour_1\",msg.encode('utf8'))\n",
    "            #print(\"{} Produced records[{}] : {}\".format(time.time(), index,msg))\n",
    "            time.sleep(0.5)\n",
    "        break\n",
    "if __name__==\"__main__\":\n",
    "    data_folder=r'/work/weiy/DataAnalysisFramework-ref/data/Lacq/Jour 1 - 02_10_2019/Fuite_1_2019_W40_01'\n",
    "    test='2019_W40_01_DT.csv'    \n",
    "    main(data_folder,test)"
   ]
  },
  {
   "cell_type": "code",
   "execution_count": null,
   "metadata": {},
   "outputs": [],
   "source": [
    "def randomRows(df,amount):\n",
    "    data_sample = df.loc[0:(len(df)-3)].sample(amount)\n",
    "    #data_sample=data_sample.sort_index()\n",
    "    return data_sample"
   ]
  },
  {
   "cell_type": "code",
   "execution_count": null,
   "metadata": {},
   "outputs": [],
   "source": []
  }
 ],
 "metadata": {
  "kernelspec": {
   "display_name": "Python 3",
   "language": "python",
   "name": "python3"
  },
  "language_info": {
   "codemirror_mode": {
    "name": "ipython",
    "version": 3
   },
   "file_extension": ".py",
   "mimetype": "text/x-python",
   "name": "python",
   "nbconvert_exporter": "python",
   "pygments_lexer": "ipython3",
   "version": "3.7.6"
  }
 },
 "nbformat": 4,
 "nbformat_minor": 2
}
