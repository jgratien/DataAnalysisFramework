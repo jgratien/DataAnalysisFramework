{
 "cells": [
  {
   "cell_type": "code",
   "execution_count": 1,
   "metadata": {},
   "outputs": [],
   "source": [
    "import pprint\n",
    "import json\n",
    "import time\n",
    "import os\n",
    "import pandas as pd\n",
    "import numpy as np \n",
    "from kafka import KafkaProducer"
   ]
  },
  {
   "cell_type": "code",
   "execution_count": 2,
   "metadata": {},
   "outputs": [],
   "source": [
    "def randomRows(df,amount):\n",
    "    data_sample = df.loc[0:(len(df)-3)].sample(amount)\n",
    "    data_sample=data_sample.sort_index()\n",
    "    return data_sample"
   ]
  },
  {
   "cell_type": "code",
   "execution_count": 3,
   "metadata": {},
   "outputs": [],
   "source": [
    "def findTag(msg):\n",
    "    return msg.split(\";\")[1]"
   ]
  },
  {
   "cell_type": "code",
   "execution_count": 4,
   "metadata": {},
   "outputs": [],
   "source": [
    "def uniqueList(taglist):\n",
    "    unique = np.array(taglist)\n",
    "    return np.unique(unique)"
   ]
  },
  {
   "cell_type": "code",
   "execution_count": 14,
   "metadata": {
    "scrolled": true
   },
   "outputs": [
    {
     "name": "stdout",
     "output_type": "stream",
     "text": [
      "1582821076.4565353 Produced records[89] : 89:01/01/2019 09:32:54;CRY.CENTRALE_SOLAIRE.CRY_act_prod_pow;0.000000000;100.0\n",
      "1582821077.4586809 Produced records[446] : 446:01/01/2019 13:20:56;CRY.CENTRALE_SOLAIRE.CRY_act_prod_pow;3.000000000;100.0\n",
      "1582821078.5853412 Produced records[1965] : 1965:01/01/2019 02:30:26;CRY.TGBT_NORMAL.CRY_act_cons_pow;13.000000000;100.0\n",
      "1582821079.588529 Produced records[2258] : 2258:01/01/2019 03:29:30;CRY.TGBT_NORMAL.CRY_act_cons_pow;10.000000000;100.0\n",
      "1582821080.5905476 Produced records[4057] : 4057:01/01/2019 09:54:58;CRY.TGBT_NORMAL.CRY_act_cons_pow;11.000000000;100.0\n",
      "1582821081.5926929 Produced records[7362] : 7362:01/01/2019 21:21:45;CRY.TGBT_NORMAL.CRY_act_cons_pow;11.000000000;100.0\n",
      "1582821082.5946708 Produced records[7480] : 7480:01/01/2019 21:45:21;CRY.TGBT_NORMAL.CRY_act_cons_pow;11.000000000;100.0\n",
      "1582821083.7217255 Produced records[9048] : 9048:01/01/2019 02:50:44;CRY.TGBT_NORMAL.CRY_app_cons_pow;13.000000000;100.0\n",
      "1582821084.7249207 Produced records[9191] : 9191:01/01/2019 03:15:05;CRY.TGBT_NORMAL.CRY_app_cons_pow;14.000000000;100.0\n",
      "1582821085.726198 Produced records[9453] : 9453:01/01/2019 04:25:20;CRY.TGBT_NORMAL.CRY_app_cons_pow;10.000000000;100.0\n",
      "1582821086.728201 Produced records[10152] : 10152:01/01/2019 06:41:58;CRY.TGBT_NORMAL.CRY_app_cons_pow;10.000000000;100.0\n",
      "1582821087.730406 Produced records[10642] : 10642:01/01/2019 08:35:01;CRY.TGBT_NORMAL.CRY_app_cons_pow;9.000000000;100.0\n",
      "1582821088.73222 Produced records[11763] : 11763:01/01/2019 12:12:42;CRY.TGBT_NORMAL.CRY_app_cons_pow;13.000000000;100.0\n",
      "1582821089.733757 Produced records[14032] : 14032:01/01/2019 19:40:16;CRY.TGBT_NORMAL.CRY_app_cons_pow;12.000000000;100.0\n",
      "1582821090.736981 Produced records[15004] : 15004:01/01/2019 22:49:37;CRY.TGBT_NORMAL.CRY_app_cons_pow;11.000000000;100.0\n",
      "1582821091.8615549 Produced records[17492] : 17492:01/01/2019 09:36:37;CRY.TGBT_NORMAL.CRY_rea_cons_pow;1.000000000;100.0\n",
      "1582821092.8637283 Produced records[17983] : 17983:01/01/2019 12:11:36;CRY.TGBT_NORMAL.CRY_rea_cons_pow;-1.000000000;100.0\n",
      "1582821093.8650656 Produced records[19297] : 19297:01/01/2019 18:46:10;CRY.TGBT_NORMAL.CRY_rea_cons_pow;0.000000000;100.0\n",
      "1582821094.866614 Produced records[19532] : 19532:01/01/2019 19:45:03;CRY.TGBT_NORMAL.CRY_rea_cons_pow;-1.000000000;100.0\n",
      "1582821095.868852 Produced records[19557] : 19557:01/01/2019 19:51:32;CRY.TGBT_NORMAL.CRY_rea_cons_pow;-1.000000000;100.0\n",
      "['CRY.CENTRALE_SOLAIRE.CRY_act_prod_pow'\n",
      " 'CRY.TGBT_NORMAL.CRY_act_cons_pow' 'CRY.TGBT_NORMAL.CRY_app_cons_pow'\n",
      " 'CRY.TGBT_NORMAL.CRY_rea_cons_pow']\n"
     ]
    },
    {
     "ename": "KeyboardInterrupt",
     "evalue": "",
     "output_type": "error",
     "traceback": [
      "\u001b[0;31m---------------------------------------------------------------------------\u001b[0m",
      "\u001b[0;31mKeyboardInterrupt\u001b[0m                         Traceback (most recent call last)",
      "\u001b[0;32m<ipython-input-14-2505b479ee64>\u001b[0m in \u001b[0;36m<module>\u001b[0;34m\u001b[0m\n\u001b[1;32m     27\u001b[0m     \u001b[0mdata_folder\u001b[0m\u001b[0;34m=\u001b[0m\u001b[0;34m'/work/weiy/DataAnalysisFramework-ref/data/TimeSeries'\u001b[0m\u001b[0;34m\u001b[0m\u001b[0;34m\u001b[0m\u001b[0m\n\u001b[1;32m     28\u001b[0m     \u001b[0mtest\u001b[0m\u001b[0;34m=\u001b[0m\u001b[0;34m'dataHistorian-Cryolite-20190101-OneDay.csv'\u001b[0m\u001b[0;34m\u001b[0m\u001b[0;34m\u001b[0m\u001b[0m\n\u001b[0;32m---> 29\u001b[0;31m     \u001b[0mmain\u001b[0m\u001b[0;34m(\u001b[0m\u001b[0mdata_folder\u001b[0m\u001b[0;34m,\u001b[0m\u001b[0mtest\u001b[0m\u001b[0;34m)\u001b[0m\u001b[0;34m\u001b[0m\u001b[0;34m\u001b[0m\u001b[0m\n\u001b[0m",
      "\u001b[0;32m<ipython-input-14-2505b479ee64>\u001b[0m in \u001b[0;36mmain\u001b[0;34m(folder, file)\u001b[0m\n\u001b[1;32m     23\u001b[0m         \u001b[0mtopic_list\u001b[0m\u001b[0;34m=\u001b[0m\u001b[0muniqueList\u001b[0m\u001b[0;34m(\u001b[0m\u001b[0mtag_list\u001b[0m\u001b[0;34m)\u001b[0m\u001b[0;34m\u001b[0m\u001b[0;34m\u001b[0m\u001b[0m\n\u001b[1;32m     24\u001b[0m         \u001b[0mprint\u001b[0m\u001b[0;34m(\u001b[0m\u001b[0mtopic_list\u001b[0m\u001b[0;34m)\u001b[0m\u001b[0;34m\u001b[0m\u001b[0;34m\u001b[0m\u001b[0m\n\u001b[0;32m---> 25\u001b[0;31m         \u001b[0mtime\u001b[0m\u001b[0;34m.\u001b[0m\u001b[0msleep\u001b[0m\u001b[0;34m(\u001b[0m\u001b[0;36m10000\u001b[0m\u001b[0;34m)\u001b[0m\u001b[0;34m\u001b[0m\u001b[0;34m\u001b[0m\u001b[0m\n\u001b[0m\u001b[1;32m     26\u001b[0m \u001b[0;32mif\u001b[0m \u001b[0m__name__\u001b[0m\u001b[0;34m==\u001b[0m\u001b[0;34m\"__main__\"\u001b[0m\u001b[0;34m:\u001b[0m\u001b[0;34m\u001b[0m\u001b[0;34m\u001b[0m\u001b[0m\n\u001b[1;32m     27\u001b[0m     \u001b[0mdata_folder\u001b[0m\u001b[0;34m=\u001b[0m\u001b[0;34m'/work/weiy/DataAnalysisFramework-ref/data/TimeSeries'\u001b[0m\u001b[0;34m\u001b[0m\u001b[0;34m\u001b[0m\u001b[0m\n",
      "\u001b[0;31mKeyboardInterrupt\u001b[0m: "
     ]
    }
   ],
   "source": [
    "def main(folder,file):\n",
    "    amount=20\n",
    "    producer = KafkaProducer(bootstrap_servers=\"localhost:9092\")\n",
    "    data_file=os.path.join(folder,file)\n",
    "    data_df=pd.read_csv(data_file,header=0)\n",
    "    data_df=randomRows(data_df,20)\n",
    "    tag_list=[]\n",
    "    while True:\n",
    "        for index,row in data_df.iterrows():\n",
    "            count=str(row.name)\n",
    "            value=row[0]\n",
    "            msg=count+\":\"+value\n",
    "            tag=findTag(msg)\n",
    "            #print(tag)\n",
    "            #Configuration of broker:auto.create.topics.enable\n",
    "            producer.send(tag,msg.encode('utf8'))\n",
    "            print(\"{} Produced records[{}] : {}\".format(time.time(), index,msg))\n",
    "            time.sleep(1)\n",
    "            if tag in tag_list : \n",
    "                pass\n",
    "            else:\n",
    "                tag_list.append(tag)\n",
    "        topic_list=uniqueList(tag_list)\n",
    "        print(\"Your topic list is : \",topic_list)\n",
    "        time.sleep(10000)\n",
    "if __name__==\"__main__\":\n",
    "    data_folder='/work/weiy/DataAnalysisFramework-ref/data/TimeSeries'\n",
    "    test='dataHistorian-Cryolite-20190101-OneDay.csv'    \n",
    "    main(data_folder,test)"
   ]
  }
 ],
 "metadata": {
  "kernelspec": {
   "display_name": "Python 3",
   "language": "python",
   "name": "python3"
  },
  "language_info": {
   "codemirror_mode": {
    "name": "ipython",
    "version": 3
   },
   "file_extension": ".py",
   "mimetype": "text/x-python",
   "name": "python",
   "nbconvert_exporter": "python",
   "pygments_lexer": "ipython3",
   "version": "3.7.4"
  }
 },
 "nbformat": 4,
 "nbformat_minor": 2
}
