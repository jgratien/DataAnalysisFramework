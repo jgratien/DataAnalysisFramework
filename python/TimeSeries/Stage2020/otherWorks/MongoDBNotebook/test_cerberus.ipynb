{
 "cells": [
  {
   "cell_type": "code",
   "execution_count": 2,
   "metadata": {},
   "outputs": [],
   "source": [
    "from kafka import KafkaConsumer,TopicPartition\n",
    "import pandas as pd\n",
    "import sys\n",
    "sys.path.append(\"../TimeSeriesTools\")\n",
    "import utils\n",
    "import json\n",
    "\n",
    "def consumer_single_collection(topic):\n",
    "    consumer = KafkaConsumer(bootstrap_servers='localhost:9092')\n",
    "    tp = TopicPartition(topic,0)\n",
    "    consumer.assign([tp])\n",
    "    consumer.seek_to_end(tp)\n",
    "    lastOffset = consumer.position(tp)\n",
    "    print(lastOffset)\n",
    "    consumer.seek_to_beginning(tp) \n",
    "    #end\n",
    "    list_data=[]\n",
    "    for message in consumer:\n",
    "        msg = message.value.decode()\n",
    "        list_data.append(msg)\n",
    "        if message.offset == lastOffset - 1:\n",
    "            print(message.offset)\n",
    "            break\n",
    "    consumer.close()\n",
    "            #print(list_data[0])\n",
    "            #list_data.append('0:;;43.41266;-0.641605;91.6;34.2;1.015;14.6;87.1;323.6;1.7;324.3;;999;0;0;0;0;0;0;0;0;0;0;0;0;0')\n",
    "            #new_data = str_to_dict(list_data)\n",
    "    return list_data"
   ]
  },
  {
   "cell_type": "code",
   "execution_count": 3,
   "metadata": {},
   "outputs": [
    {
     "name": "stdout",
     "output_type": "stream",
     "text": [
      "14611\n",
      "14610\n"
     ]
    }
   ],
   "source": [
    "raw_data = consumer_single_collection(\"eolienne_jour_1\")"
   ]
  },
  {
   "cell_type": "code",
   "execution_count": null,
   "metadata": {
    "scrolled": true
   },
   "outputs": [],
   "source": [
    "raw_data"
   ]
  },
  {
   "cell_type": "code",
   "execution_count": null,
   "metadata": {},
   "outputs": [],
   "source": [
    "len(raw_data[0].split(\";\"))"
   ]
  },
  {
   "cell_type": "code",
   "execution_count": 5,
   "metadata": {},
   "outputs": [],
   "source": [
    "col1= ['Heure','Temps écoulé','Latitude','Longitude',\n",
    "      'Altitude','Head_Rel_True North','Pressure',\n",
    "      'Temperature','Humidity','MDA Wnd Dir','MDA Wnd Speed',\n",
    "      'MWD Wind Dir','MWD Wind Speed','CavityPressure',\n",
    "      'CavityTemp','CH4','CH4_dry','C2H6','C2H6_dry',\n",
    "      '13CH4','H2O','CO2','C2C1Ratio','Delta_iCH4_Raw',\n",
    "      'HP_Delta_iCH4_30s','HP_Delta_iCH4_2min','HP_Delta_iCH4_5min']\n",
    "col2= ['timestamp','tagname','value','quality']"
   ]
  },
  {
   "cell_type": "code",
   "execution_count": 6,
   "metadata": {},
   "outputs": [],
   "source": [
    "headList=[]\n",
    "headList.append(col1)\n",
    "headList.append(col2)"
   ]
  },
  {
   "cell_type": "code",
   "execution_count": null,
   "metadata": {},
   "outputs": [],
   "source": [
    "headList"
   ]
  },
  {
   "cell_type": "code",
   "execution_count": null,
   "metadata": {
    "scrolled": true
   },
   "outputs": [],
   "source": [
    "def formatGenerator_rawToDF(raw_data, headList):\n",
    "    for col in headList:\n",
    "        if len(col)==len(raw_data[0].split(\";\")):\n",
    "            head = col\n",
    "            break\n",
    "    print(head)\n",
    "    df=pd.DataFrame(columns=head, data=(row.split(\";\") for row in raw_data))\n",
    "    print(df.iloc[7269])\n",
    "    df.Heure=df.Heure.str.split(\":\",1)[1][1]\n",
    "    print(df)\n",
    "    \n",
    "formatGenerator_rawToDF(raw_data,headList)    "
   ]
  },
  {
   "cell_type": "code",
   "execution_count": null,
   "metadata": {},
   "outputs": [],
   "source": [
    "def formatGenerator_rawToDict(raw_data, headList):\n",
    "    measurement=None\n",
    "    res=[]\n",
    "    for col in headList:\n",
    "        if len(col)==len(raw_data[0].split(\";\")):\n",
    "            head = col\n",
    "            break\n",
    "    for item in raw_data:\n",
    "        values=item.split(\":\",1)[1].split(\";\")\n",
    "        dict_item=dict(zip(head,values))\n",
    "        res.append(dict_item)\n",
    "    print(res[0])\n",
    "    return res\n",
    "\n",
    "formatGenerator_rawToDict(raw_data, headList)"
   ]
  },
  {
   "cell_type": "code",
   "execution_count": 20,
   "metadata": {
    "scrolled": true
   },
   "outputs": [
    {
     "name": "stdout",
     "output_type": "stream",
     "text": [
      "\n",
      "{'measurement': 'eolienne', 'time': '02/10/2019 11:12', 'tags': {'tag_0': '', 'tag_1': ''}, 'fields': {'head': 'Heure, Temps écoulé, Latitude, Longitude, Altitude, Head_Rel_True North, Pressure, Temperature, Humidity, MDA Wnd Dir, MDA Wnd Speed, MWD Wind Dir, MWD Wind Speed, CavityPressure, CavityTemp, CH4, CH4_dry, C2H6, C2H6_dry, 13CH4, H2O, CO2, C2C1Ratio, Delta_iCH4_Raw, HP_Delta_iCH4_30s, HP_Delta_iCH4_2min, HP_Delta_iCH4_5min', 'data': '02/10/2019 11:12;7269;43.4127;-0.6416;95.2;73.2;1.017;16.9;79.1;257;7;256.6;6.8;148;45;2.01;2.05;-0.01;-0.01;0.02;1.69;392.66;0;-52.53;-50.41;-48.54;-48.06'}}\n"
     ]
    }
   ],
   "source": [
    "def formatGenerator_rawToDict_influx(raw_data, headList):\n",
    "    measurement=None\n",
    "    res=[]\n",
    "    dict_item={\n",
    "        \"measurement\":\"\",\n",
    "        \"time\":\"\",\n",
    "        \"tags\":{\n",
    "            \"tag_0\":\"\",\n",
    "            \"tag_1\":\"\"\n",
    "        },\n",
    "        \"fields\":{\n",
    "            \"head\":\"\",\n",
    "            \"data\":\"\"\n",
    "        }\n",
    "    }\n",
    "    print(dict_item[\"time\"])\n",
    "\n",
    "    for col in headList:\n",
    "        if len(col)==len(raw_data[0].split(\";\")):\n",
    "            head = col\n",
    "            break\n",
    "    for item in raw_data:\n",
    "        dict_item[\"measurement\"]=len(col)>25 and \"eolienne\" or \"smartGrid\"\n",
    "        dict_item[\"fields\"][\"data\"]=item.split(\":\",1)[1]\n",
    "        dict_item[\"fields\"][\"head\"]=', '.join(head)\n",
    "        dict_item[\"time\"]=dict_item[\"fields\"][\"data\"].split(\";\",1)[0]\n",
    "        res.append(dict_item)\n",
    "    print(res[0])\n",
    "    return res[0]\n",
    "\n",
    "test=formatGenerator_rawToDict_influx(raw_data, headList)"
   ]
  },
  {
   "cell_type": "code",
   "execution_count": 22,
   "metadata": {},
   "outputs": [],
   "source": [
    "from cerberus import Validator"
   ]
  },
  {
   "cell_type": "code",
   "execution_count": 51,
   "metadata": {},
   "outputs": [],
   "source": [
    "schema =  {\n",
    "        \"measurement\":{'type': 'string','required': True},\n",
    "        \"time\":{'type': 'string','required': True},\n",
    "        \"tags\":{\n",
    "            'type': 'dict',\n",
    "            'require_all': True,\n",
    "            'schema':{\n",
    "                \"tag_0\":{'type': 'string'},\n",
    "                #\"tag_1\":{'type': 'string'}\n",
    "                \"tag_1\":{'type': 'string','empty': False}\n",
    "            } \n",
    "        },\n",
    "        \"fields\":{\n",
    "            'type': 'dict',\n",
    "            'require_all': True,\n",
    "            'schema':{\n",
    "                \"head\":{'type': 'string'},\n",
    "                #\"head\":{'type': 'integer'},\n",
    "                \"data\":{'type': 'string'}\n",
    "            } \n",
    "        }\n",
    "    }"
   ]
  },
  {
   "cell_type": "code",
   "execution_count": 52,
   "metadata": {},
   "outputs": [],
   "source": [
    "v = Validator(schema)"
   ]
  },
  {
   "cell_type": "code",
   "execution_count": 53,
   "metadata": {},
   "outputs": [
    {
     "data": {
      "text/plain": [
       "False"
      ]
     },
     "execution_count": 53,
     "metadata": {},
     "output_type": "execute_result"
    }
   ],
   "source": [
    "v.validate(test)"
   ]
  },
  {
   "cell_type": "code",
   "execution_count": 54,
   "metadata": {},
   "outputs": [
    {
     "data": {
      "text/plain": [
       "{'tags': [{'tag_1': ['empty values not allowed']}]}"
      ]
     },
     "execution_count": 54,
     "metadata": {},
     "output_type": "execute_result"
    }
   ],
   "source": [
    "v.errors"
   ]
  },
  {
   "cell_type": "code",
   "execution_count": null,
   "metadata": {},
   "outputs": [],
   "source": []
  }
 ],
 "metadata": {
  "kernelspec": {
   "display_name": "Python 3",
   "language": "python",
   "name": "python3"
  },
  "language_info": {
   "codemirror_mode": {
    "name": "ipython",
    "version": 3
   },
   "file_extension": ".py",
   "mimetype": "text/x-python",
   "name": "python",
   "nbconvert_exporter": "python",
   "pygments_lexer": "ipython3",
   "version": "3.7.6"
  }
 },
 "nbformat": 4,
 "nbformat_minor": 2
}
