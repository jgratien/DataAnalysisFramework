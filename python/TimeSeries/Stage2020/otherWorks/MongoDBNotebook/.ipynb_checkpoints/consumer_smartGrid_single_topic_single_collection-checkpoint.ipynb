{
 "cells": [
  {
   "cell_type": "code",
   "execution_count": null,
   "metadata": {},
   "outputs": [],
   "source": [
    "from kafka import KafkaConsumer\n",
    "from pymongo import MongoClient,errors\n",
    "import pprint\n",
    "import json\n",
    "import time\n",
    "import os\n",
    "import pandas as pd\n",
    "\n",
    "def mongodb_connect(domain, port):\n",
    "    domain_str = str(domain) + \":\" + str(port)\n",
    "    try:\n",
    "        print (\"Trying to connect to MongoDB server:\", domain, \"on port:\", port)\n",
    "        client = MongoClient(host = [domain_str],\n",
    "                             serverSelectionTimeoutMS = 2000)\n",
    "        print (\"server_info():\", client.server_info())\n",
    "    except errors.ServerSelectionTimeoutError as err:\n",
    "        print (\"pymongo ERROR:\", err)\n",
    "        client = None\n",
    "    return client\n",
    "\n",
    "def consumer_single_collection():\n",
    "    consumer = KafkaConsumer(\"topic_all_tags\", bootstrap_servers='localhost:9092', \n",
    "                             auto_offset_reset='earliest')#,group_id=\"historian-monitor\"\n",
    "    for message in consumer:\n",
    "        msg = message.value.decode()\n",
    "        #print('RECEIVED MSG',msg)\n",
    "        #print(\"------------\")\n",
    "        mongodata={\n",
    "            'count':msg.split(\":\")[0],\n",
    "            'timestamp':msg.split(\";\")[0].split(\":\",1)[1],\n",
    "            'tagname':msg.split(\";\")[1],\n",
    "            'value':msg.split(\";\")[2],\n",
    "            'quality':msg.split(\";\")[3]\n",
    "        }\n",
    "        #result=db.all_tags.insert_one(mongodata)\n",
    "        print(mongodata)\n",
    "        \n",
    "if __name__==\"__main__\":\n",
    "    client = mongodb_connect(\"localhost\", 28018)\n",
    "    db=client.test\n",
    "    consumer_single_collection()"
   ]
  }
 ],
 "metadata": {
  "kernelspec": {
   "display_name": "Python 3",
   "language": "python",
   "name": "python3"
  },
  "language_info": {
   "codemirror_mode": {
    "name": "ipython",
    "version": 3
   },
   "file_extension": ".py",
   "mimetype": "text/x-python",
   "name": "python",
   "nbconvert_exporter": "python",
   "pygments_lexer": "ipython3",
   "version": "3.7.6"
  }
 },
 "nbformat": 4,
 "nbformat_minor": 2
}
