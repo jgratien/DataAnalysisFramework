{
 "cells": [
  {
   "cell_type": "code",
   "execution_count": 5,
   "metadata": {},
   "outputs": [],
   "source": [
    "from influxdb import InfluxDBClient"
   ]
  },
  {
   "cell_type": "code",
   "execution_count": 6,
   "metadata": {},
   "outputs": [],
   "source": [
    "proxies = { \"http\": None, \"https\": None}\n",
    "client = InfluxDBClient(host='localhost', port=9086, proxies=proxies)\n",
    "#client = InfluxDBClient(host='mydomain.com', port=8086, username='myuser', password='mypass' ssl=True, verify_ssl=True)"
   ]
  },
  {
   "cell_type": "code",
   "execution_count": 147,
   "metadata": {},
   "outputs": [
    {
     "data": {
      "text/plain": [
       "[{'name': '_internal'}, {'name': 'test'}, {'name': 'test_QAQ'}]"
      ]
     },
     "execution_count": 147,
     "metadata": {},
     "output_type": "execute_result"
    }
   ],
   "source": [
    "client.get_list_database()"
   ]
  },
  {
   "cell_type": "code",
   "execution_count": 19,
   "metadata": {},
   "outputs": [],
   "source": [
    "client.create_database('test')"
   ]
  },
  {
   "cell_type": "code",
   "execution_count": 146,
   "metadata": {},
   "outputs": [],
   "source": [
    "client.switch_database('test')"
   ]
  },
  {
   "cell_type": "code",
   "execution_count": 138,
   "metadata": {},
   "outputs": [],
   "source": [
    "json_body = [{\n",
    "        \"measurement\": \"brushEvents\",\n",
    "        \"tags\": {\n",
    "            \"user\": \"Carol\",\n",
    "            \"brushId\": \"6c89f539-71c6-490d-a28d-6c5d84c0ee2f\"\n",
    "        },\n",
    "        \"time\": \"2018-03-28T8:01:00Z\",\n",
    "        \"fields\": {\n",
    "            \"duration\": 127\n",
    "        }\n",
    "    }]"
   ]
  },
  {
   "cell_type": "code",
   "execution_count": 65,
   "metadata": {},
   "outputs": [],
   "source": [
    "#no\n",
    "json_body = [{\n",
    "        \"measurement\": \"structure_test\",\n",
    "        \"time\":\"2020-03-11T09:27:20.03700325Z\",\n",
    "        \"metadata\": {\n",
    "            \"Tag\": \"QWE.RDF\",\n",
    "            \"Sous_tags\": {\n",
    "                \"Tag_0\":\"QWE\",\n",
    "                \"Tag_1\":\"RDF\"\n",
    "            },\n",
    "            \"Head\":\"ABCDEFG\",\n",
    "            \"Head_sep\":{\n",
    "                \"Head_0\":\"A\",\n",
    "                \"Head_1\":\"B\",\n",
    "                \"Head_2\":\"C\",\n",
    "                \"Head_3\":\"D\",\n",
    "                \"Head_4\":\"E\",\n",
    "                \"Head_5\":\"F\",\n",
    "                \"Head_6\":\"G\",\n",
    "            }\n",
    "        },\n",
    "        \"fields\": {\n",
    "            \"data\": \"{a,b,c,1,2,3},{d,e,f,4,5,6}\"\n",
    "        }\n",
    "    }]"
   ]
  },
  {
   "cell_type": "code",
   "execution_count": 136,
   "metadata": {},
   "outputs": [],
   "source": [
    "#no\n",
    "json_body = [{\n",
    "        \"measurement\": \"structure_test\",\n",
    "        \"time\":\"2020-03-11T09:27:20.03700325Z\",\n",
    "        \"fields\": {\n",
    "            \"metadata\": {\n",
    "            \"Tag\": \"QWE.RDF\",\n",
    "            \"Sous_tags\": {\n",
    "                \"Tag_0\":\"QWE\",\n",
    "                \"Tag_1\":\"RDF\"\n",
    "            },\n",
    "            \"Head\":\"ABCDEFG\",\n",
    "            \"Head_sep\":{\n",
    "                \"Head_0\":\"A\",\n",
    "                \"Head_1\":\"B\",\n",
    "                \"Head_2\":\"C\",\n",
    "                \"Head_3\":\"D\",\n",
    "                \"Head_4\":\"E\",\n",
    "                \"Head_5\":\"F\",\n",
    "                \"Head_6\":\"G\",\n",
    "            }\n",
    "        },\n",
    "            \"data\": \"{a,b,c,1,2,3},{d,e,f,4,5,6}\"\n",
    "        }\n",
    "    }]"
   ]
  },
  {
   "cell_type": "code",
   "execution_count": 113,
   "metadata": {},
   "outputs": [],
   "source": [
    "json_body = [{\n",
    "        \"measurement\": \"structure_test\",\n",
    "        \"time\":\"2020-03-11T09:27:20.03700325Z\",\n",
    "        \"tags\": {\n",
    "            \"tag_0\":\"QWE\",\n",
    "            \"tag_1\":\"RDF\"\n",
    "        },\n",
    "        \"fields\": {\n",
    "            \"Head\":\"A;B;C;D;E;F;G\",\n",
    "            \"data\": \"a;b;c;1;2;3;4,d;e;f;4;5;6;7\"\n",
    "        }\n",
    "    }]"
   ]
  },
  {
   "cell_type": "code",
   "execution_count": 128,
   "metadata": {},
   "outputs": [],
   "source": [
    "json_body=[{'measurement': 'eolienne', 'time': '02/10/2019 11:12', 'tags': {'tag_0': '', 'tag_1': ''}, 'fields': {'head': 'Heure, Temps écoulé, Latitude, Longitude, Altitude, Head_Rel_True North, Pressure, Temperature, Humidity, MDA Wnd Dir, MDA Wnd Speed, MWD Wind Dir, MWD Wind Speed, CavityPressure, CavityTemp, CH4, CH4_dry, C2H6, C2H6_dry, 13CH4, H2O, CO2, C2C1Ratio, Delta_iCH4_Raw, HP_Delta_iCH4_30s, HP_Delta_iCH4_2min, HP_Delta_iCH4_5min', 'data': '02/10/2019 11:12;7269;43.4127;-0.6416;95.2;73.2;1.017;16.9;79.1;257;7;256.6;6.8;148;45;2.01;2.05;-0.01;-0.01;0.02;1.69;392.66;0;-52.53;-50.41;-48.54;-48.06'}}]"
   ]
  },
  {
   "cell_type": "code",
   "execution_count": 129,
   "metadata": {},
   "outputs": [
    {
     "data": {
      "text/plain": [
       "list"
      ]
     },
     "execution_count": 129,
     "metadata": {},
     "output_type": "execute_result"
    }
   ],
   "source": [
    "type(json_body)"
   ]
  },
  {
   "cell_type": "code",
   "execution_count": 139,
   "metadata": {},
   "outputs": [
    {
     "data": {
      "text/plain": [
       "True"
      ]
     },
     "execution_count": 139,
     "metadata": {},
     "output_type": "execute_result"
    }
   ],
   "source": [
    "client.write_points(json_body,protocol=u'json')"
   ]
  },
  {
   "cell_type": "code",
   "execution_count": 150,
   "metadata": {},
   "outputs": [],
   "source": [
    "results = client.query('SELECT * FROM \"test\".\"autogen\".\"eolienne\"')"
   ]
  },
  {
   "cell_type": "code",
   "execution_count": 151,
   "metadata": {
    "scrolled": true
   },
   "outputs": [
    {
     "data": {
      "text/plain": [
       "{'statement_id': 0,\n",
       " 'series': [{'name': 'eolienne',\n",
       "   'columns': ['time', 'data', 'head'],\n",
       "   'values': [['2019-02-10T11:12:00Z',\n",
       "     '02/10/2019 11:12;7269;43.4127;-0.6416;95.2;73.2;1.017;16.9;79.1;257;7;256.6;6.8;148;45;2.01;2.05;-0.01;-0.01;0.02;1.69;392.66;0;-52.53;-50.41;-48.54;-48.06',\n",
       "     'Heure, Temps écoulé, Latitude, Longitude, Altitude, Head_Rel_True North, Pressure, Temperature, Humidity, MDA Wnd Dir, MDA Wnd Speed, MWD Wind Dir, MWD Wind Speed, CavityPressure, CavityTemp, CH4, CH4_dry, C2H6, C2H6_dry, 13CH4, H2O, CO2, C2C1Ratio, Delta_iCH4_Raw, HP_Delta_iCH4_30s, HP_Delta_iCH4_2min, HP_Delta_iCH4_5min']]}]}"
      ]
     },
     "execution_count": 151,
     "metadata": {},
     "output_type": "execute_result"
    }
   ],
   "source": [
    "results.raw"
   ]
  },
  {
   "cell_type": "code",
   "execution_count": 153,
   "metadata": {
    "scrolled": true
   },
   "outputs": [
    {
     "data": {
      "text/plain": [
       "'02/10/2019 11:12;7269;43.4127;-0.6416;95.2;73.2;1.017;16.9;79.1;257;7;256.6;6.8;148;45;2.01;2.05;-0.01;-0.01;0.02;1.69;392.66;0;-52.53;-50.41;-48.54;-48.06'"
      ]
     },
     "execution_count": 153,
     "metadata": {},
     "output_type": "execute_result"
    }
   ],
   "source": [
    "points = results.get_points(measurement=\"eolienne\")\n",
    "data = list(points)[0]['data']\n",
    "data"
   ]
  },
  {
   "cell_type": "code",
   "execution_count": 112,
   "metadata": {},
   "outputs": [
    {
     "data": {
      "text/plain": [
       "['a;b;c;1;2;3;4', 'd;e;f;4;5;6;7']"
      ]
     },
     "execution_count": 112,
     "metadata": {},
     "output_type": "execute_result"
    }
   ],
   "source": [
    "data.split(\",\")"
   ]
  },
  {
   "cell_type": "code",
   "execution_count": 122,
   "metadata": {},
   "outputs": [],
   "source": [
    "client.delete_series(\"test\",\"structure_test\")"
   ]
  },
  {
   "cell_type": "code",
   "execution_count": 38,
   "metadata": {},
   "outputs": [],
   "source": [
    "points = results.get_points(tags={'user': 'Carol'})"
   ]
  },
  {
   "cell_type": "code",
   "execution_count": 39,
   "metadata": {},
   "outputs": [
    {
     "ename": "KeyError",
     "evalue": "'duration'",
     "output_type": "error",
     "traceback": [
      "\u001b[0;31m---------------------------------------------------------------------------\u001b[0m",
      "\u001b[0;31mKeyError\u001b[0m                                  Traceback (most recent call last)",
      "\u001b[0;32m<ipython-input-39-b64cbd174423>\u001b[0m in \u001b[0;36m<module>\u001b[0;34m\u001b[0m\n\u001b[1;32m      1\u001b[0m \u001b[0;32mfor\u001b[0m \u001b[0mpoint\u001b[0m \u001b[0;32min\u001b[0m \u001b[0mpoints\u001b[0m\u001b[0;34m:\u001b[0m\u001b[0;34m\u001b[0m\u001b[0;34m\u001b[0m\u001b[0m\n\u001b[0;32m----> 2\u001b[0;31m     \u001b[0mprint\u001b[0m\u001b[0;34m(\u001b[0m\u001b[0;34m\"Time: %s, Duration: %i\"\u001b[0m \u001b[0;34m%\u001b[0m \u001b[0;34m(\u001b[0m\u001b[0mpoint\u001b[0m\u001b[0;34m[\u001b[0m\u001b[0;34m'time'\u001b[0m\u001b[0;34m]\u001b[0m\u001b[0;34m,\u001b[0m \u001b[0mpoint\u001b[0m\u001b[0;34m[\u001b[0m\u001b[0;34m'duration'\u001b[0m\u001b[0;34m]\u001b[0m\u001b[0;34m)\u001b[0m\u001b[0;34m)\u001b[0m\u001b[0;34m\u001b[0m\u001b[0;34m\u001b[0m\u001b[0m\n\u001b[0m",
      "\u001b[0;31mKeyError\u001b[0m: 'duration'"
     ]
    }
   ],
   "source": [
    "for point in points:\n",
    "    print(\"Time: %s, Duration: %i\" % (point['time'], point['duration']))"
   ]
  },
  {
   "cell_type": "code",
   "execution_count": 37,
   "metadata": {},
   "outputs": [],
   "source": [
    "client. create_retention_policy(name=\"test_policy\", duration=\"1h50m\", database=\"test\",replication=\"1\", default=False,shard_duration=\"1h50m\")"
   ]
  },
  {
   "cell_type": "code",
   "execution_count": 39,
   "metadata": {},
   "outputs": [],
   "source": [
    "client.alter_retention_policy(name=\"test_policy\", duration=\"INF\", database=\"test\",replication=\"1\", default=False,shard_duration=\"1h50m\")"
   ]
  },
  {
   "cell_type": "code",
   "execution_count": 36,
   "metadata": {},
   "outputs": [],
   "source": [
    "test_data = [\n",
    "    {\n",
    "        \"measurement\": \"smartGrid\",\n",
    "        \"tags\": {\n",
    "            \"tag_1\": \"CRY.TGBT_NORMAL\",\n",
    "            \"tag_2\": \"CRY_act_cons_pow\"\n",
    "        },\n",
    "        \"time\": \"01/01/2019 09:51:00\",\n",
    "        \"fields\": {\n",
    "            \"value\": 12.000000000,\n",
    "            \"quality\": 100.0\n",
    "        }\n",
    "    },\n",
    "    {\n",
    "        \"measurement\": \"smartGrid\",\n",
    "        \"tags\": {\n",
    "            \"tag_1\": \"CRY.TGBT_NORMAL\",\n",
    "            \"tag_2\": \"CRY_act_cons_pow\"\n",
    "        },\n",
    "        \"time\": \"01/01/2019 11:43:59\",\n",
    "        \"fields\": {\n",
    "            \"value\": 13.000000000,\n",
    "            \"quality\": 100.0\n",
    "        }\n",
    "    },\n",
    "    {\n",
    "        \"measurement\": \"smartGrid\",\n",
    "        \"tags\": {\n",
    "            \"tag_1\": \"CRY.TGBT_NORMAL\",\n",
    "            \"tag_2\": \"CRY_act_cons_pow\"\n",
    "        },\n",
    "        \"time\": \"01/01/2019 12:43:59\",\n",
    "        \"fields\": {\n",
    "            \"value\": 14.000000000,\n",
    "            \"quality\": 100.0\n",
    "        }\n",
    "    }\n",
    "]"
   ]
  },
  {
   "cell_type": "code",
   "execution_count": 40,
   "metadata": {},
   "outputs": [
    {
     "data": {
      "text/plain": [
       "True"
      ]
     },
     "execution_count": 40,
     "metadata": {},
     "output_type": "execute_result"
    }
   ],
   "source": [
    "client.write_points(test_data,retention_policy=\"test_policy\")\n",
    "#Pay attention to the timestamp: it should not depass the duration of policy"
   ]
  },
  {
   "cell_type": "code",
   "execution_count": 46,
   "metadata": {},
   "outputs": [],
   "source": [
    "results = client.query('SELECT \"value\",\"quality\" FROM \"test\".\"test_policy\".\"smartGrid\" GROUP BY \"tag_1\"')"
   ]
  },
  {
   "cell_type": "code",
   "execution_count": 47,
   "metadata": {},
   "outputs": [
    {
     "data": {
      "text/plain": [
       "{'statement_id': 0,\n",
       " 'series': [{'name': 'smartGrid',\n",
       "   'tags': {'tag_1': 'CRY.TGBT_NORMAL'},\n",
       "   'columns': ['time', 'value', 'quality'],\n",
       "   'values': [['2019-01-01T09:51:00Z', 12, 100],\n",
       "    ['2019-01-01T11:43:59Z', 13, 100],\n",
       "    ['2019-01-01T12:43:59Z', 14, 100]]}]}"
      ]
     },
     "execution_count": 47,
     "metadata": {},
     "output_type": "execute_result"
    }
   ],
   "source": [
    "results.raw"
   ]
  },
  {
   "cell_type": "code",
   "execution_count": 58,
   "metadata": {},
   "outputs": [
    {
     "name": "stdout",
     "output_type": "stream",
     "text": [
      "Value: 12, Quality: 100\n",
      "Value: 13, Quality: 100\n",
      "Value: 14, Quality: 100\n"
     ]
    }
   ],
   "source": [
    "points = results.get_points(tags={'tag_1': 'CRY.TGBT_NORMAL'})\n",
    "for point in points:\n",
    "    print(\"Value: %s, Quality: %i\" % (point['value'], point['quality']))"
   ]
  }
 ],
 "metadata": {
  "kernelspec": {
   "display_name": "Python 3",
   "language": "python",
   "name": "python3"
  },
  "language_info": {
   "codemirror_mode": {
    "name": "ipython",
    "version": 3
   },
   "file_extension": ".py",
   "mimetype": "text/x-python",
   "name": "python",
   "nbconvert_exporter": "python",
   "pygments_lexer": "ipython3",
   "version": "3.7.4"
  }
 },
 "nbformat": 4,
 "nbformat_minor": 2
}
