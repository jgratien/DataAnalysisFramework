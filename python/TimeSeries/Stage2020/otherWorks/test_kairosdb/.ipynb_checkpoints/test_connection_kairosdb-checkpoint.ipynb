{
 "cells": [
  {
   "cell_type": "code",
   "execution_count": 1,
   "metadata": {
    "scrolled": true
   },
   "outputs": [
    {
     "name": "stdout",
     "output_type": "stream",
     "text": [
      "[{\"name\": \"test\", \"datapoints\": [[1359788400000, 123], [1359788300000, 13.2], [1359788410000, 23.1]], \"tags\": {\"project\": \"rola\"}}]\n",
      "Simple test [without compression]: \t504 (status code)\n"
     ]
    }
   ],
   "source": [
    "%run test_connection_kairosdb.py"
   ]
  },
  {
   "cell_type": "code",
   "execution_count": 9,
   "metadata": {
    "scrolled": true
   },
   "outputs": [
    {
     "name": "stdout",
     "output_type": "stream",
     "text": [
      "[\"JVM-Thread-Deadlock: OK\",\"Datastore-Query: OK\"]\n"
     ]
    }
   ],
   "source": [
    "import requests\n",
    "proxies = {\n",
    "  \"http\": None,\n",
    "  \"https\": None,\n",
    "}\n",
    "url = 'http://localhost:6060/api/v1/health/status'\n",
    "response = requests.get(url,proxies=proxies)\n",
    "print(response.text)"
   ]
  },
  {
   "cell_type": "code",
   "execution_count": 3,
   "metadata": {},
   "outputs": [
    {
     "name": "stdout",
     "output_type": "stream",
     "text": [
      "[{\"name\": \"test\", \"datapoints\": [[1359788400000, 123], [1359788300000, 13.2], [1359788410000, 23.1]], \"tags\": {\"project\": \"rola\"}}]\n",
      "Simple test [without compression]: \t204 (status code)\n"
     ]
    }
   ],
   "source": [
    "kairosdb_server = \"http://localhost:6060\"\n",
    "\n",
    "# Simple test [without compression]\n",
    "data = [\n",
    "    {\n",
    "        \"name\": \"test\",\n",
    "        \"datapoints\": [\n",
    "            [1359788400000, 123], \n",
    "            [1359788300000, 13.2], \n",
    "            [1359788410000, 23.1]\n",
    "        ],\n",
    "        \"tags\": {\n",
    "            \"project\": \"rola\"\n",
    "        }\n",
    "    }\n",
    "]\n",
    "print(json.dumps(data))\n",
    "response = requests.post(kairosdb_server + \"/api/v1/datapoints\", json.dumps(data),proxies=proxies)\n",
    "\n",
    "print(\"Simple test [without compression]: \\t%d (status code)\" % response.status_code )"
   ]
  },
  {
   "cell_type": "code",
   "execution_count": 34,
   "metadata": {},
   "outputs": [
    {
     "name": "stdout",
     "output_type": "stream",
     "text": [
      "Status code: 200\n",
      "JSON response:\n",
      "{'queries': [{'sample_size': 3, 'results': [{'name': 'test', 'group_by': [{'name': 'type', 'type': 'number'}], 'tags': {'project': ['rola']}, 'values': [[1359788300000, 13.2], [1359788400000, 123], [1359788410000, 23.1]]}]}]}\n"
     ]
    }
   ],
   "source": [
    "query = {\n",
    "   \"start_relative\": {\n",
    "        \"value\": \"8\",\n",
    "        \"unit\": \"years\" \n",
    "   },\n",
    "   \"metrics\": [\n",
    "       {\n",
    "           \"name\": \"test\",\n",
    "           \"limit\": 10000\n",
    "       }\n",
    "   ]\n",
    "}\n",
    "response = requests.post(kairosdb_server + \"/api/v1/datapoints/query\", data=json.dumps(query),proxies=proxies)\n",
    "print(\"Status code: %d\" % response.status_code)\n",
    "print(\"JSON response:\")\n",
    "print(response.json())"
   ]
  },
  {
   "cell_type": "code",
   "execution_count": 36,
   "metadata": {},
   "outputs": [
    {
     "name": "stdout",
     "output_type": "stream",
     "text": [
      "Status code: 200\n",
      "JSON response:\n",
      "{'queries': [{'sample_size': 1, 'results': [{'name': 'test', 'group_by': [{'name': 'type', 'type': 'number'}], 'tags': {'project': ['rola']}, 'values': [[1359788410000, 23.1]]}]}]}\n"
     ]
    }
   ],
   "source": [
    "query = {\n",
    "   \"start_absolute\": 1359788400000,\n",
    "   \"end_relative\": {\n",
    "       \"value\": \"5\",\n",
    "       \"unit\": \"days\"\n",
    "   },\n",
    "   \"metrics\": [\n",
    "       {\n",
    "           \"name\": \"test\",\n",
    "           \"limit\": 10000\n",
    "       }\n",
    "   ]\n",
    "}\n",
    "response = requests.post(kairosdb_server + \"/api/v1/datapoints/query\", data=json.dumps(query),proxies=proxies)\n",
    "print(\"Status code: %d\" % response.status_code)\n",
    "print(\"JSON response:\")\n",
    "print(response.json())"
   ]
  },
  {
   "cell_type": "code",
   "execution_count": 8,
   "metadata": {},
   "outputs": [
    {
     "name": "stdout",
     "output_type": "stream",
     "text": [
      "{\"version\": \"KairosDB 1.2.2-1.20181109205636\"}\n",
      "\n"
     ]
    }
   ],
   "source": [
    "url = 'http://localhost:6060/api/v1/version'\n",
    "response = requests.get(url,proxies=proxies)\n",
    "print(response.text)"
   ]
  },
  {
   "cell_type": "code",
   "execution_count": 10,
   "metadata": {},
   "outputs": [
    {
     "name": "stdout",
     "output_type": "stream",
     "text": [
      "{\"results\":[\"kairosdb.protocol.http_request_count\",\"test\",\"kairosdb.jvm.thread_count\",\"kairosdb.jvm.total_memory\",\"kairosdb.jvm.max_memory\",\"kairosdb.metric_counters\",\"kairosdb.jvm.free_memory\",\"kairosdb.protocol.telnet_request_count\",\"kairosdb.datastore.query_collisions\",\"kairosdb.http.ingest_count\",\"kairosdb.http.ingest_time\"]}\n"
     ]
    }
   ],
   "source": [
    "url = 'http://localhost:6060/api/v1/metricnames'\n",
    "response = requests.get(url,proxies=proxies)\n",
    "print(response.text)"
   ]
  },
  {
   "cell_type": "code",
   "execution_count": 11,
   "metadata": {},
   "outputs": [
    {
     "name": "stdout",
     "output_type": "stream",
     "text": [
      "{\"results\":[\"method\",\"project\",\"metric_name\",\"host\"]}\n"
     ]
    }
   ],
   "source": [
    "url = 'http://localhost:6060/api/v1/tagnames'\n",
    "response = requests.get(url,proxies=proxies)\n",
    "print(response.text)"
   ]
  },
  {
   "cell_type": "code",
   "execution_count": 12,
   "metadata": {},
   "outputs": [
    {
     "name": "stdout",
     "output_type": "stream",
     "text": [
      "{\"results\":[\"tagnames\",\"status\",\"rola\",\"test\",\"irlin328206\",\"version\",\"tags\",\"metricnames\",\"healthcheck\",\"check\",\"putm\",\"put\",\"datapoints\"]}\n"
     ]
    }
   ],
   "source": [
    "url = 'http://localhost:6060/api/v1/tagvalues'\n",
    "response = requests.get(url,proxies=proxies)\n",
    "print(response.text)"
   ]
  },
  {
   "cell_type": "code",
   "execution_count": null,
   "metadata": {},
   "outputs": [],
   "source": []
  }
 ],
 "metadata": {
  "kernelspec": {
   "display_name": "Python 3",
   "language": "python",
   "name": "python3"
  },
  "language_info": {
   "codemirror_mode": {
    "name": "ipython",
    "version": 3
   },
   "file_extension": ".py",
   "mimetype": "text/x-python",
   "name": "python",
   "nbconvert_exporter": "python",
   "pygments_lexer": "ipython3",
   "version": "3.7.4"
  }
 },
 "nbformat": 4,
 "nbformat_minor": 2
}
