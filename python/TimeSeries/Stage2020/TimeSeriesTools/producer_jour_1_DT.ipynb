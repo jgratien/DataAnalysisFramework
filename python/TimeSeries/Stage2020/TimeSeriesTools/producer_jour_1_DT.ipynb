{
 "cells": [
  {
   "cell_type": "code",
   "execution_count": null,
   "metadata": {},
   "outputs": [],
   "source": [
    "import pprint\n",
    "import json\n",
    "import time\n",
    "import os\n",
    "import pandas as pd\n",
    "from kafka import KafkaProducer\n",
    "import glob\n",
    "def readFiles(path):\n",
    "    all_files =  glob.glob(os.path.join(path,\"*.csv\"))\n",
    "    li = []\n",
    "    for filename in all_files:\n",
    "        print(filename)\n",
    "        df = pd.read_csv(filename, header=0, encoding='latin-1')\n",
    "        li.append(df)\n",
    "    frame = pd.concat(li, axis=0, ignore_index=True)\n",
    "    return frame\n",
    "\n",
    "def producer_7j(df,topic):\n",
    "    producer = KafkaProducer(bootstrap_servers=\"localhost:9092\")\n",
    "    while True:\n",
    "        for index,row in df.iterrows():\n",
    "            count=str(row.name)\n",
    "            msg= str(row[0])\n",
    "            for i in range(1,len(row)):\n",
    "                msg = msg + \";\"+ str(row[i])\n",
    "            #Configuration of broker:auto.create.topics.enable\n",
    "            msg=count+\":\"+msg\n",
    "            producer.send(topic,msg.encode('utf8'))\n",
    "            #print(\"{} Produced records[{}] : {}\".format(time.time(), index,msg))\n",
    "            time.sleep(0.1)\n",
    "        time.sleep(10000)"
   ]
  },
  {
   "cell_type": "code",
   "execution_count": null,
   "metadata": {},
   "outputs": [],
   "source": [
    "if __name__ == \"__main__\":\n",
    "    #path = r'/work/weiy/DataAnalysisFramework-ref/data/Lacq/7jours'\n",
    "    path = r'/work/irlin355_1/gratienj/BigData/DigitalSandBox/Data/TimeSeries/Lacq/jour_1_DT'\n",
    "    df = readFiles(path)\n",
    "    topic = \"eolienne_DT\"\n",
    "    producer_7j(df,topic)"
   ]
  },
  {
   "cell_type": "code",
   "execution_count": null,
   "metadata": {},
   "outputs": [],
   "source": []
  },
  {
   "cell_type": "code",
   "execution_count": null,
   "metadata": {},
   "outputs": [],
   "source": []
  }
 ],
 "metadata": {
  "kernelspec": {
   "display_name": "Python 3",
   "language": "python",
   "name": "python3"
  },
  "language_info": {
   "codemirror_mode": {
    "name": "ipython",
    "version": 3
   },
   "file_extension": ".py",
   "mimetype": "text/x-python",
   "name": "python",
   "nbconvert_exporter": "python",
   "pygments_lexer": "ipython3",
   "version": "3.7.6"
  }
 },
 "nbformat": 4,
 "nbformat_minor": 4
}
