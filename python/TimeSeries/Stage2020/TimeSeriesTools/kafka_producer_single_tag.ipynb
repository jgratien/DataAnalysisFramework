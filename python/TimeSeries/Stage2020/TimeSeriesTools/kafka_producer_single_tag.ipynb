{
 "cells": [
  {
   "cell_type": "code",
   "execution_count": null,
   "metadata": {},
   "outputs": [],
   "source": [
    "import time\n",
    "import os\n",
    "import pandas as pd\n",
    "from kafka import KafkaProducer"
   ]
  },
  {
   "cell_type": "code",
   "execution_count": null,
   "metadata": {},
   "outputs": [],
   "source": [
    "def randomRows(df,amount):\n",
    "    data_sample = df.loc[0:(len(df)-3)].sample(amount)\n",
    "    data_sample=data_sample.sort_index()\n",
    "    return data_sample"
   ]
  },
  {
   "cell_type": "code",
   "execution_count": null,
   "metadata": {
    "scrolled": true
   },
   "outputs": [],
   "source": [
    "def main(folder,file):\n",
    "    #amount=20\n",
    "    producer = KafkaProducer(bootstrap_servers=\"localhost:9092\")\n",
    "    data_file=os.path.join(folder,file)\n",
    "    data_df=pd.read_csv(data_file,header=0)\n",
    "    #data_df=randomRows(data_df,amount)\n",
    "    while True:\n",
    "        for index,row in data_df.iterrows():\n",
    "            count=str(row.name)\n",
    "            value=row[0]\n",
    "            msg = count+\":\"+value\n",
    "            #Configuration of broker:auto.create.topics.enable\n",
    "            producer.send(\"smartGrid\",msg.encode('utf8'))\n",
    "            print(\"{} Produced records[{}] : {}\".format(time.time(), index,msg))\n",
    "            time.sleep(0.1)\n",
    "        break"
   ]
  },
  {
   "cell_type": "code",
   "execution_count": null,
   "metadata": {},
   "outputs": [],
   "source": [
    "if __name__==\"__main__\":\n",
    "    data_folder= r'/home/ymo/local/work-ref/data/TimeSeries'\n",
    "    test='dataHistorian-Cryolite-20190101-OneDay.csv'    \n",
    "    main(data_folder,test)"
   ]
  }
 ],
 "metadata": {
  "kernelspec": {
   "display_name": "Python 3",
   "language": "python",
   "name": "python3"
  },
  "language_info": {
   "codemirror_mode": {
    "name": "ipython",
    "version": 3
   },
   "file_extension": ".py",
   "mimetype": "text/x-python",
   "name": "python",
   "nbconvert_exporter": "python",
   "pygments_lexer": "ipython3",
   "version": "3.7.6"
  }
 },
 "nbformat": 4,
 "nbformat_minor": 2
}
