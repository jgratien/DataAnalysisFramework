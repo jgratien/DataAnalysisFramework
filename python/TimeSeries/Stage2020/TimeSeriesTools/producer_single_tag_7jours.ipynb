{
 "cells": [
  {
   "cell_type": "code",
   "execution_count": 1,
   "metadata": {},
   "outputs": [],
   "source": [
    "import pprint\n",
    "import json\n",
    "import time\n",
    "import os\n",
    "import pandas as pd\n",
    "from kafka import KafkaProducer\n",
    "import glob"
   ]
  },
  {
   "cell_type": "code",
   "execution_count": 2,
   "metadata": {},
   "outputs": [],
   "source": [
    "def readFiles(path):\n",
    "    all_files =  glob.glob(os.path.join(path,\"*.csv\"))\n",
    "    li = []\n",
    "    for filename in all_files:\n",
    "        print(filename)\n",
    "        df = pd.read_csv(filename, header=0, encoding='latin-1')\n",
    "        li.append(df)\n",
    "    frame = pd.concat(li, axis=0, ignore_index=True)\n",
    "    return frame\n",
    "\n",
    "def producer_7j(df):\n",
    "    producer = KafkaProducer(bootstrap_servers=\"localhost:9092\")\n",
    "    while True:\n",
    "        for index,row in df.iterrows():\n",
    "            count=str(row.name)\n",
    "            value=row[0]\n",
    "            msg = count+\":\"+value\n",
    "            #Configuration of broker:auto.create.topics.enable\n",
    "            producer.send(\"eolienne_jour_7\",msg.encode('utf8'))\n",
    "            #print(\"{} Produced records[{}] : {}\".format(time.time(), index,msg))\n",
    "            time.sleep(0.2)\n",
    "        #time.sleep(10000)"
   ]
  },
  {
   "cell_type": "code",
   "execution_count": 4,
   "metadata": {},
   "outputs": [
    {
     "name": "stdout",
     "output_type": "stream",
     "text": [
      "/work/weiy/DataAnalysisFramework-ref/data/Lacq/7jours/2019_W40_01_DT.csv\n",
      "/work/weiy/DataAnalysisFramework-ref/data/Lacq/7jours/2019_W40_06bis_DT.csv\n",
      "/work/weiy/DataAnalysisFramework-ref/data/Lacq/7jours/2019_W40_14_DT.csv\n",
      "/work/weiy/DataAnalysisFramework-ref/data/Lacq/7jours/2019_W41_01_DT.csv\n",
      "/work/weiy/DataAnalysisFramework-ref/data/Lacq/7jours/2019_W41_08_DT.csv\n",
      "/work/weiy/DataAnalysisFramework-ref/data/Lacq/7jours/2019_W41_15_DT.csv\n",
      "/work/weiy/DataAnalysisFramework-ref/data/Lacq/7jours/2019_W41_23_DT.csv\n"
     ]
    },
    {
     "ename": "KeyboardInterrupt",
     "evalue": "",
     "output_type": "error",
     "traceback": [
      "\u001b[0;31m---------------------------------------------------------------------------\u001b[0m",
      "\u001b[0;31mKeyboardInterrupt\u001b[0m                         Traceback (most recent call last)",
      "\u001b[0;32m<ipython-input-4-4f2196e700d1>\u001b[0m in \u001b[0;36m<module>\u001b[0;34m\u001b[0m\n\u001b[1;32m      3\u001b[0m     \u001b[0mdf\u001b[0m \u001b[0;34m=\u001b[0m \u001b[0mreadFiles\u001b[0m\u001b[0;34m(\u001b[0m\u001b[0mpath\u001b[0m\u001b[0;34m)\u001b[0m\u001b[0;34m\u001b[0m\u001b[0;34m\u001b[0m\u001b[0m\n\u001b[1;32m      4\u001b[0m \u001b[0;34m\u001b[0m\u001b[0m\n\u001b[0;32m----> 5\u001b[0;31m     \u001b[0mproducer_7j\u001b[0m\u001b[0;34m(\u001b[0m\u001b[0mdf\u001b[0m\u001b[0;34m)\u001b[0m\u001b[0;34m\u001b[0m\u001b[0;34m\u001b[0m\u001b[0m\n\u001b[0m",
      "\u001b[0;32m<ipython-input-2-c4131ef376f2>\u001b[0m in \u001b[0;36mproducer_7j\u001b[0;34m(df)\u001b[0m\n\u001b[1;32m     19\u001b[0m             \u001b[0mproducer\u001b[0m\u001b[0;34m.\u001b[0m\u001b[0msend\u001b[0m\u001b[0;34m(\u001b[0m\u001b[0;34m\"eolienne_jour_7\"\u001b[0m\u001b[0;34m,\u001b[0m\u001b[0mmsg\u001b[0m\u001b[0;34m.\u001b[0m\u001b[0mencode\u001b[0m\u001b[0;34m(\u001b[0m\u001b[0;34m'utf8'\u001b[0m\u001b[0;34m)\u001b[0m\u001b[0;34m)\u001b[0m\u001b[0;34m\u001b[0m\u001b[0;34m\u001b[0m\u001b[0m\n\u001b[1;32m     20\u001b[0m             \u001b[0;31m#print(\"{} Produced records[{}] : {}\".format(time.time(), index,msg))\u001b[0m\u001b[0;34m\u001b[0m\u001b[0;34m\u001b[0m\u001b[0;34m\u001b[0m\u001b[0m\n\u001b[0;32m---> 21\u001b[0;31m             \u001b[0mtime\u001b[0m\u001b[0;34m.\u001b[0m\u001b[0msleep\u001b[0m\u001b[0;34m(\u001b[0m\u001b[0;36m0.2\u001b[0m\u001b[0;34m)\u001b[0m\u001b[0;34m\u001b[0m\u001b[0;34m\u001b[0m\u001b[0m\n\u001b[0m\u001b[1;32m     22\u001b[0m         \u001b[0mtime\u001b[0m\u001b[0;34m.\u001b[0m\u001b[0msleep\u001b[0m\u001b[0;34m(\u001b[0m\u001b[0;36m10000\u001b[0m\u001b[0;34m)\u001b[0m\u001b[0;34m\u001b[0m\u001b[0;34m\u001b[0m\u001b[0m\n",
      "\u001b[0;31mKeyboardInterrupt\u001b[0m: "
     ]
    }
   ],
   "source": [
    "if __name__ == \"__main__\":\n",
    "    path = r'/work/weiy/DataAnalysisFramework-ref/data/Lacq/7jours'\n",
    "    df = readFiles(path)\n",
    "    \n",
    "    producer_7j(df)"
   ]
  },
  {
   "cell_type": "code",
   "execution_count": 9,
   "metadata": {},
   "outputs": [
    {
     "data": {
      "text/plain": [
       "['Heure :',\n",
       " 'Temps écoulé',\n",
       " 'Latitude',\n",
       " 'Longitude',\n",
       " 'Altitude',\n",
       " 'Head. Rel. True North',\n",
       " 'Pressure',\n",
       " 'Temperature',\n",
       " 'Humidity',\n",
       " 'MDA Wnd Dir',\n",
       " 'MDA Wnd Speed',\n",
       " 'MWD Wind Dir',\n",
       " 'MWD Wind Speed',\n",
       " 'CavityPressure',\n",
       " 'CavityTemp',\n",
       " 'CH4',\n",
       " 'CH4_dry',\n",
       " 'C2H6',\n",
       " 'C2H6_dry',\n",
       " '13CH4',\n",
       " 'H2O',\n",
       " 'CO2',\n",
       " 'C2C1Ratio',\n",
       " 'Delta_iCH4_Raw',\n",
       " 'HP_Delta_iCH4_30s',\n",
       " 'HP_Delta_iCH4_2min',\n",
       " 'HP_Delta_iCH4_5min']"
      ]
     },
     "execution_count": 9,
     "metadata": {},
     "output_type": "execute_result"
    }
   ],
   "source": [
    "str(df.columns).split(\"'\")[1].split(\";\")"
   ]
  },
  {
   "cell_type": "code",
   "execution_count": null,
   "metadata": {},
   "outputs": [],
   "source": []
  }
 ],
 "metadata": {
  "kernelspec": {
   "display_name": "Python 3",
   "language": "python",
   "name": "python3"
  },
  "language_info": {
   "codemirror_mode": {
    "name": "ipython",
    "version": 3
   },
   "file_extension": ".py",
   "mimetype": "text/x-python",
   "name": "python",
   "nbconvert_exporter": "python",
   "pygments_lexer": "ipython3",
   "version": "3.7.4"
  }
 },
 "nbformat": 4,
 "nbformat_minor": 2
}
