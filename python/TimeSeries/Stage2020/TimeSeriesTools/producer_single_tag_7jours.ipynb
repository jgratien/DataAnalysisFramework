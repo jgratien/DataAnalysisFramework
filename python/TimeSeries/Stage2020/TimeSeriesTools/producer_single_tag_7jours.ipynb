{
 "cells": [
  {
   "cell_type": "code",
   "execution_count": null,
   "metadata": {},
   "outputs": [],
   "source": [
    "import pprint\n",
    "import json\n",
    "import time\n",
    "import os\n",
    "import pandas as pd\n",
    "from kafka import KafkaProducer\n",
    "import glob"
   ]
  },
  {
   "cell_type": "code",
   "execution_count": null,
   "metadata": {},
   "outputs": [],
   "source": [
    "def readFiles(path):\n",
    "    all_files =  glob.glob(os.path.join(path,\"*.csv\"))\n",
    "    li = []\n",
    "    for filename in all_files:\n",
    "        print(filename)\n",
    "        df = pd.read_csv(filename, header=0, encoding='latin-1')\n",
    "        li.append(df)\n",
    "    frame = pd.concat(li, axis=0, ignore_index=True)\n",
    "    return frame\n",
    "\n",
    "def producer_7j(df):\n",
    "    producer = KafkaProducer(bootstrap_servers=\"localhost:9092\")\n",
    "    while True:\n",
    "        for index,row in df.iterrows():\n",
    "            count=str(row.name)\n",
    "            value=row[0]\n",
    "            msg = count+\":\"+value\n",
    "            #Configuration of broker:auto.create.topics.enable\n",
    "            producer.send(\"eolienne_jour_7\",msg.encode('utf8'))\n",
    "            #print(\"{} Produced records[{}] : {}\".format(time.time(), index,msg))\n",
    "            time.sleep(0.2)\n",
    "        #time.sleep(10000)"
   ]
  },
  {
   "cell_type": "code",
   "execution_count": null,
   "metadata": {},
   "outputs": [],
   "source": [
    "if __name__ == \"__main__\":\n",
    "    path = r'/work/weiy/DataAnalysisFramework-ref/data/Lacq/7jours'\n",
    "    df = readFiles(path)\n",
    "    \n",
    "    producer_7j(df)"
   ]
  },
  {
   "cell_type": "code",
   "execution_count": null,
   "metadata": {},
   "outputs": [],
   "source": [
    "str(df.columns).split(\"'\")[1].split(\";\")"
   ]
  },
  {
   "cell_type": "code",
   "execution_count": null,
   "metadata": {},
   "outputs": [],
   "source": []
  }
 ],
 "metadata": {
  "kernelspec": {
   "display_name": "Python 3",
   "language": "python",
   "name": "python3"
  },
  "language_info": {
   "codemirror_mode": {
    "name": "ipython",
    "version": 3
   },
   "file_extension": ".py",
   "mimetype": "text/x-python",
   "name": "python",
   "nbconvert_exporter": "python",
   "pygments_lexer": "ipython3",
   "version": "3.7.6"
  }
 },
 "nbformat": 4,
 "nbformat_minor": 4
}
