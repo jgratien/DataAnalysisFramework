{
 "cells": [
  {
   "cell_type": "markdown",
   "metadata": {},
   "source": [
    "# SmartGridData Notebook\n",
    "\n",
    "Présentation des données SmartGrid"
   ]
  },
  {
   "cell_type": "code",
   "execution_count": 1,
   "metadata": {},
   "outputs": [],
   "source": [
    "import os\n",
    "import pandas as pd"
   ]
  },
  {
   "cell_type": "code",
   "execution_count": 2,
   "metadata": {},
   "outputs": [],
   "source": [
    "data_dir = '/work/irlin355_1/gratienj/BigData/DigitalSandBox/Data/TimeSeries'\n",
    "test_dir = 'SmartGridData/Cryolite/20190101'\n",
    "test_name = 'OneMonth.csv'"
   ]
  },
  {
   "cell_type": "code",
   "execution_count": 3,
   "metadata": {},
   "outputs": [
    {
     "name": "stdout",
     "output_type": "stream",
     "text": [
      "CPU times: user 589 ms, sys: 79.4 ms, total: 669 ms\n",
      "Wall time: 1.08 s\n"
     ]
    },
    {
     "data": {
      "text/html": [
       "<div>\n",
       "<style scoped>\n",
       "    .dataframe tbody tr th:only-of-type {\n",
       "        vertical-align: middle;\n",
       "    }\n",
       "\n",
       "    .dataframe tbody tr th {\n",
       "        vertical-align: top;\n",
       "    }\n",
       "\n",
       "    .dataframe thead th {\n",
       "        text-align: right;\n",
       "    }\n",
       "</style>\n",
       "<table border=\"1\" class=\"dataframe\">\n",
       "  <thead>\n",
       "    <tr style=\"text-align: right;\">\n",
       "      <th></th>\n",
       "      <th>timestamp</th>\n",
       "      <th>tagname</th>\n",
       "      <th>value</th>\n",
       "      <th>quality</th>\n",
       "    </tr>\n",
       "  </thead>\n",
       "  <tbody>\n",
       "    <tr>\n",
       "      <th>0</th>\n",
       "      <td>01/01/2019 09:15:12</td>\n",
       "      <td>CRY.CENTRALE_SOLAIRE.CRY_act_prod_pow</td>\n",
       "      <td>1.0</td>\n",
       "      <td>100.0</td>\n",
       "    </tr>\n",
       "    <tr>\n",
       "      <th>1</th>\n",
       "      <td>01/01/2019 09:15:18</td>\n",
       "      <td>CRY.CENTRALE_SOLAIRE.CRY_act_prod_pow</td>\n",
       "      <td>0.0</td>\n",
       "      <td>100.0</td>\n",
       "    </tr>\n",
       "  </tbody>\n",
       "</table>\n",
       "</div>"
      ],
      "text/plain": [
       "             timestamp                                tagname  value  quality\n",
       "0  01/01/2019 09:15:12  CRY.CENTRALE_SOLAIRE.CRY_act_prod_pow    1.0    100.0\n",
       "1  01/01/2019 09:15:18  CRY.CENTRALE_SOLAIRE.CRY_act_prod_pow    0.0    100.0"
      ]
     },
     "execution_count": 3,
     "metadata": {},
     "output_type": "execute_result"
    }
   ],
   "source": [
    "%%time\n",
    "filename = os.path.join(data_dir,test_dir,test_name)\n",
    "df = pd.read_csv(filename,sep=';')\n",
    "df[0:2]"
   ]
  },
  {
   "cell_type": "code",
   "execution_count": 4,
   "metadata": {},
   "outputs": [
    {
     "data": {
      "text/plain": [
       "array(['CRY.CENTRALE_SOLAIRE.CRY_act_prod_pow',\n",
       "       'CRY.CENTRALE_SOLAIRE.CRY_app_prod_pow',\n",
       "       'CRY.CENTRALE_SOLAIRE.CRY_rea_prod_pow',\n",
       "       'CRY.TGBT_NORMAL.CRY_act_cons_pow',\n",
       "       'CRY.TGBT_NORMAL.CRY_app_cons_pow',\n",
       "       'CRY.TGBT_NORMAL.CRY_rapp_cons_ene',\n",
       "       'CRY.TGBT_NORMAL.CRY_rea_cons_pow'], dtype=object)"
      ]
     },
     "execution_count": 4,
     "metadata": {},
     "output_type": "execute_result"
    }
   ],
   "source": [
    "df.tagname.unique()"
   ]
  },
  {
   "cell_type": "code",
   "execution_count": null,
   "metadata": {},
   "outputs": [],
   "source": []
  }
 ],
 "metadata": {
  "kernelspec": {
   "display_name": "timeseries",
   "language": "python",
   "name": "timeseries"
  },
  "language_info": {
   "codemirror_mode": {
    "name": "ipython",
    "version": 3
   },
   "file_extension": ".py",
   "mimetype": "text/x-python",
   "name": "python",
   "nbconvert_exporter": "python",
   "pygments_lexer": "ipython3",
   "version": "3.7.7"
  }
 },
 "nbformat": 4,
 "nbformat_minor": 4
}
