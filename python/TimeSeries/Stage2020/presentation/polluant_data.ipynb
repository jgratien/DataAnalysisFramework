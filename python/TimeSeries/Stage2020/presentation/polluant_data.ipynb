{
 "cells": [
  {
   "cell_type": "markdown",
   "metadata": {},
   "source": [
    "# Présentation des données de pollution"
   ]
  },
  {
   "cell_type": "code",
   "execution_count": 22,
   "metadata": {},
   "outputs": [],
   "source": [
    "import sys\n",
    "sys.path.append(\"../TimeSeriesTools\")\n",
    "import mongodb_utils\n",
    "import pandas as pd"
   ]
  },
  {
   "cell_type": "code",
   "execution_count": 14,
   "metadata": {},
   "outputs": [
    {
     "name": "stdout",
     "output_type": "stream",
     "text": [
      "Trying to connect to MongoDB server: localhost on port: 28018\n",
      "977448  documents found\n"
     ]
    }
   ],
   "source": [
    "domain = \"localhost\"\n",
    "port=28018\n",
    "db = \"test\"\n",
    "client = mongodb_utils.mongodb_connect(domain, port)\n",
    "collection = \"elements\"\n",
    "schema = \"\"\n",
    "data = mongodb_utils.get_all_data(client,db,collection,schema)"
   ]
  },
  {
   "cell_type": "code",
   "execution_count": 17,
   "metadata": {
    "scrolled": true
   },
   "outputs": [
    {
     "data": {
      "text/plain": [
       "{'_id': ObjectId('5d89cfd69c285126bb089f76'),\n",
       " 'data': {'Elements': {'NO': 0,\n",
       "   'NO2': 0,\n",
       "   'NH3': 0,\n",
       "   'Soot': 20.799999237060547,\n",
       "   'H2O': None,\n",
       "   'O2': None,\n",
       "   'counter': 299},\n",
       "  'Naneos': {'NaneosTime': 0,\n",
       "   'ParticuleNumber': 0,\n",
       "   'ChargerDiffusionCurrent': 0,\n",
       "   'ChargerHighVoltage': 0,\n",
       "   'ElectroMeterReading': 0,\n",
       "   'ElectroMeterAmplitude': 0,\n",
       "   'Temperature': 0,\n",
       "   'RelativeHumidity': 0,\n",
       "   'BarometricPressureInHousing': 0,\n",
       "   'Status': 0}},\n",
       " 'updatedAt': datetime.datetime(2019, 9, 24, 8, 12, 6, 15000),\n",
       " 'createdAt': datetime.datetime(2019, 9, 24, 8, 12, 6, 15000)}"
      ]
     },
     "execution_count": 17,
     "metadata": {},
     "output_type": "execute_result"
    }
   ],
   "source": [
    "data[0]"
   ]
  }
 ],
 "metadata": {
  "kernelspec": {
   "display_name": "Python 3",
   "language": "python",
   "name": "python3"
  },
  "language_info": {
   "codemirror_mode": {
    "name": "ipython",
    "version": 3
   },
   "file_extension": ".py",
   "mimetype": "text/x-python",
   "name": "python",
   "nbconvert_exporter": "python",
   "pygments_lexer": "ipython3",
   "version": "3.7.6"
  }
 },
 "nbformat": 4,
 "nbformat_minor": 4
}
