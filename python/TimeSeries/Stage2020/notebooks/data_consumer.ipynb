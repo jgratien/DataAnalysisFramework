{
 "cells": [
  {
   "cell_type": "markdown",
   "metadata": {},
   "source": [
    "# Kafka Data Consumer\n",
    "\n",
    "## I/ Objectifs du notebook"
   ]
  },
  {
   "cell_type": "markdown",
   "metadata": {},
   "source": [
    "## II/ Mécanisme de collecte en streaming des données\n"
   ]
  },
  {
   "cell_type": "code",
   "execution_count": null,
   "metadata": {},
   "outputs": [],
   "source": []
  },
  {
   "cell_type": "markdown",
   "metadata": {},
   "source": [
    "## III/ Mécanismes de validation et corrections des données"
   ]
  },
  {
   "cell_type": "code",
   "execution_count": null,
   "metadata": {},
   "outputs": [],
   "source": []
  },
  {
   "cell_type": "markdown",
   "metadata": {},
   "source": [
    "## IV/ Mécanismes de mise en base des données"
   ]
  },
  {
   "cell_type": "code",
   "execution_count": 33,
   "metadata": {},
   "outputs": [],
   "source": [
    "import numpy as np\n",
    "import sys\n",
    "sys.path.append(\"../TimeSeriesTools\")"
   ]
  },
  {
   "cell_type": "code",
   "execution_count": 34,
   "metadata": {},
   "outputs": [
    {
     "name": "stdout",
     "output_type": "stream",
     "text": [
      "Trying to connect to MongoDB server: localhost on port: 27018\n"
     ]
    }
   ],
   "source": [
    "import mongodb_utils\n",
    "db_host= 'localhost'\n",
    "port = '27018'\n",
    "db_name='TimeSeriesBench'\n",
    "client = mongodb_utils.mongodb_connect(db_host, port)\n",
    "db = client[db_name]"
   ]
  },
  {
   "cell_type": "markdown",
   "metadata": {},
   "source": [
    "### A/ Mise en base du schéma des données"
   ]
  },
  {
   "cell_type": "markdown",
   "metadata": {},
   "source": [
    "#### 1) Cas test SmartGrid"
   ]
  },
  {
   "cell_type": "code",
   "execution_count": 19,
   "metadata": {},
   "outputs": [],
   "source": [
    "coll_name='SmartGridCryolite20190101OneDay'\n",
    "scheme = { 'name' : 'SmartGrid',\n",
    "           'value' : {\"_id\":{'required': True},\n",
    "                  \"timestamp\":{'type': 'string','required': True,'empty': False},\n",
    "                  \"tagname\":{'type': 'string','required': True,'empty': False},\n",
    "                  \"value\":{'type': 'string','required': True,'empty': False},\n",
    "                  \"quality\":{'type': 'string','required': True,'empty': False}} }\n"
   ]
  },
  {
   "cell_type": "code",
   "execution_count": 35,
   "metadata": {},
   "outputs": [
    {
     "data": {
      "text/plain": [
       "['WindPropLacqOneDayP25',\n",
       " 'schemes',\n",
       " 'WindPropLacqOneDay',\n",
       " 'WindPropLacqOneDayV2']"
      ]
     },
     "execution_count": 35,
     "metadata": {},
     "output_type": "execute_result"
    }
   ],
   "source": [
    "db.list_collection_names()"
   ]
  },
  {
   "cell_type": "code",
   "execution_count": 21,
   "metadata": {},
   "outputs": [],
   "source": [
    "scheme_collection = db['schemes']"
   ]
  },
  {
   "cell_type": "code",
   "execution_count": 22,
   "metadata": {},
   "outputs": [],
   "source": [
    "scheme_id = scheme_collection.insert_one(scheme)"
   ]
  },
  {
   "cell_type": "code",
   "execution_count": 23,
   "metadata": {},
   "outputs": [
    {
     "data": {
      "text/plain": [
       "<pymongo.results.InsertOneResult at 0x2b86aa44f280>"
      ]
     },
     "execution_count": 23,
     "metadata": {},
     "output_type": "execute_result"
    }
   ],
   "source": [
    "scheme_id"
   ]
  },
  {
   "cell_type": "markdown",
   "metadata": {},
   "source": [
    "### 2) Cas test WindProp"
   ]
  },
  {
   "cell_type": "code",
   "execution_count": 36,
   "metadata": {},
   "outputs": [],
   "source": [
    "coll_name='WindPropLacqOneDayV3'"
   ]
  },
  {
   "cell_type": "code",
   "execution_count": 37,
   "metadata": {},
   "outputs": [
    {
     "data": {
      "text/plain": [
       "['TimeSeriesBench', 'admin', 'config', 'local', 'test']"
      ]
     },
     "execution_count": 37,
     "metadata": {},
     "output_type": "execute_result"
    }
   ],
   "source": [
    "client.list_database_names()"
   ]
  },
  {
   "cell_type": "code",
   "execution_count": 38,
   "metadata": {},
   "outputs": [
    {
     "data": {
      "text/plain": [
       "['WindPropLacqOneDayP25',\n",
       " 'schemes',\n",
       " 'WindPropLacqOneDay',\n",
       " 'WindPropLacqOneDayV2']"
      ]
     },
     "execution_count": 38,
     "metadata": {},
     "output_type": "execute_result"
    }
   ],
   "source": [
    "db.list_collection_names()"
   ]
  },
  {
   "cell_type": "code",
   "execution_count": 39,
   "metadata": {},
   "outputs": [],
   "source": [
    "scheme_collection = db['schemes']"
   ]
  },
  {
   "cell_type": "code",
   "execution_count": null,
   "metadata": {},
   "outputs": [],
   "source": []
  },
  {
   "cell_type": "code",
   "execution_count": 43,
   "metadata": {},
   "outputs": [],
   "source": [
    "scheme =  { 'name' : 'WindPropLacqV3',\n",
    "            'value' : {\n",
    "    \"_id\":{'required': True},\n",
    "    \"Heure\":{'type': 'string','required': True,'empty': False},\n",
    "    \"Temps écoulé\":{'type': 'string','required': True,'empty': False},\n",
    "    '4069 state':{'type': 'string','required': True,'empty': False},\n",
    "    'Battery voltage':{'type': 'string','required': True,'empty': False},\n",
    "    'Flow SP':{'type': 'string','required': True,'empty': False},\n",
    "    'Unit Code':{'type': 'string','required': True,'empty': False},\n",
    "    'Flow M':{'type': 'string','required': True,'empty': False},\n",
    "    'Pressure1':{'type': 'string','required': True,'empty': False},\n",
    "    'Temperature1':{'type': 'string','required': True,'empty': False},\n",
    "    \"Latitude\":{'type': 'string','required': True,'empty': False},\n",
    "    \"Longitude\":{'type': 'string','required': True,'empty': False},\n",
    "    \"Altitude\":{'type': 'string','required': True,'empty': False},\n",
    "    \"Head_Rel_True North\":{'type': 'string','required': True,'empty': False},\n",
    "    \"Pressure2\":{'type': 'string','required': True,'empty': False},\n",
    "    \"Temperature2\":{'type': 'string','required': True,'empty': False},\n",
    "    \"Humidity\":{'type': 'string','required': True,'empty': False},\n",
    "    \"MDA Wnd Dir\":{'type': 'string','required': True,'empty': False},\n",
    "    \"MDA Wnd Speed\":{'type': 'string','required': True,'empty': False},\n",
    "    \"MWD Wind Dir\":{'type': 'string','required': True,'empty': False},\n",
    "    \"MWD Wind Speed\":{'type': 'string','required': True,'empty': False},\n",
    "    'Gaz Concentration 1':{'type': 'string','required': True,'empty': False},\n",
    "    'Gaz Concentration 2':{'type': 'string','required': True,'empty': False},\n",
    "    'Gaz Concentration 3':{'type': 'string','required': True,'empty': False},\n",
    "    'Gaz Concentration 4':{'type': 'string','required': True,'empty': False},\n",
    "    'SPA 1':{'type': 'string','required': True,'empty': False},\n",
    "    'SPA 2':{'type': 'string','required': True,'empty': False},\n",
    "    'Cellule Photo':{'type': 'string','required': True,'empty': False},\n",
    "    'Temperature3':{'type': 'string','required': True,'empty': False},\n",
    "    'Pressure3':{'type': 'string','required': True,'empty': False},\n",
    "    'Flow MassFlow 1':{'type': 'string','required': True,'empty': False},\n",
    "    'NOTUSED Flow MassFlow 2':{'type': 'string','required': True,'empty': False},\n",
    "    'Flow,Humidity':{'type': 'string','required': True,'empty': False},\n",
    "    'Test':{'type': 'string','required': True,'empty': False},\n",
    "    'Details':{'type': 'string','required': True,'empty': False},\n",
    "    'SPA 3':{'type': 'string','required': True,'empty': False},\n",
    "    'SPA 4':{'type': 'string','required': True,'empty': False},\n",
    "    \"CavityPressure\":{'type': 'string','required': True,'empty': False},    \n",
    "    \"CavityTemp\":{'type': 'string','required': True,'empty': False},\n",
    "    \"CH4\":{'type': 'string','required': True,'empty': False},\n",
    "    \"CH4_dry\":{'type': 'string','required': True,'empty': False},\n",
    "    \"C2H6\":{'type': 'string','required': True,'empty': False},\n",
    "    \"C2H6_dry\":{'type': 'string','required': True,'empty': False},\n",
    "    \"13CH4\":{'type': 'string','required': True,'empty': False},\n",
    "    \"H2O\":{'type': 'string','required': True,'empty': False},\n",
    "    \"CO2\":{'type': 'string','required': True,'empty': False},\n",
    "    \"C2C1Ratio\":{'type': 'string','required': True,'empty': False},\n",
    "    \"Delta_iCH4_Raw\":{'type': 'string','required': True,'empty': False},\n",
    "    \"HP_Delta_iCH4_30s\":{'type': 'string','required': True,'empty': False},\n",
    "    \"HP_Delta_iCH4_2min\":{'type': 'string','required': True,'empty': False},\n",
    "    \"HP_Delta_iCH4_5min\":{'type': 'string','required': True,'empty': False}\n",
    "    } }"
   ]
  },
  {
   "cell_type": "code",
   "execution_count": 44,
   "metadata": {},
   "outputs": [],
   "source": [
    "scheme_id = scheme_collection.insert_one(scheme)"
   ]
  },
  {
   "cell_type": "code",
   "execution_count": 45,
   "metadata": {},
   "outputs": [
    {
     "data": {
      "text/plain": [
       "<pymongo.results.InsertOneResult at 0x2b86aa3745a0>"
      ]
     },
     "execution_count": 45,
     "metadata": {},
     "output_type": "execute_result"
    }
   ],
   "source": [
    "scheme_id"
   ]
  },
  {
   "cell_type": "code",
   "execution_count": null,
   "metadata": {},
   "outputs": [],
   "source": []
  }
 ],
 "metadata": {
  "kernelspec": {
   "display_name": "kernel_ts_mongodb",
   "language": "python",
   "name": "kernel_ts_mongodb"
  },
  "language_info": {
   "codemirror_mode": {
    "name": "ipython",
    "version": 3
   },
   "file_extension": ".py",
   "mimetype": "text/x-python",
   "name": "python",
   "nbconvert_exporter": "python",
   "pygments_lexer": "ipython3",
   "version": "3.7.6"
  }
 },
 "nbformat": 4,
 "nbformat_minor": 4
}
