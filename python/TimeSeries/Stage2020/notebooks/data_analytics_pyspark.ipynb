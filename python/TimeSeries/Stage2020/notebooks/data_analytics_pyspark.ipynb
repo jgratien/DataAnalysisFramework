{
 "cells": [
  {
   "cell_type": "markdown",
   "metadata": {},
   "source": [
    "# TimeSeries DataAnalytics Tutorial\n",
    "\n"
   ]
  },
  {
   "cell_type": "code",
   "execution_count": null,
   "metadata": {},
   "outputs": [],
   "source": [
    "import numpy as np\n",
    "import chart_studio.plotly as py\n",
    "import plotly.express as px\n",
    "import plotly.tools as tls\n",
    "from plotly.subplots import make_subplots\n",
    "import plotly.graph_objects as go\n",
    "import pandas as pd\n",
    "from datetime import datetime\n",
    "import requests\n",
    "import json\n",
    "#import matplotlib.pyplot as plt"
   ]
  },
  {
   "cell_type": "code",
   "execution_count": null,
   "metadata": {},
   "outputs": [],
   "source": [
    "import findspark\n",
    "findspark.init()"
   ]
  },
  {
   "cell_type": "code",
   "execution_count": null,
   "metadata": {},
   "outputs": [],
   "source": [
    "import pyspark\n",
    "sc = pyspark.SparkContext(appName=\"TimeSeries\")"
   ]
  },
  {
   "cell_type": "markdown",
   "metadata": {},
   "source": [
    "## I/ Simple IRIS example to check PySpark"
   ]
  },
  {
   "cell_type": "code",
   "execution_count": null,
   "metadata": {},
   "outputs": [],
   "source": [
    "import os\n",
    "import pandas as pd\n",
    "data_dir = '/work/irlin355_1/gratienj/BigData/DataLakeBenchProject/python/TimeSeries/DataAnalytics'\n",
    "filename = os.path.join(data_dir,'iris.csv')\n",
    "df = pd.read_csv(filename)"
   ]
  },
  {
   "cell_type": "code",
   "execution_count": null,
   "metadata": {},
   "outputs": [],
   "source": [
    "from pyspark import SparkContext, SQLContext\n",
    "from pyspark.sql.types import StructType, StructField, DoubleType, StringType\n",
    "sqlContext = SQLContext(sc)\n",
    "schema = StructType([StructField(\"sepal_length\", DoubleType(), True),\n",
    "                     StructField(\"sepal_width\",  DoubleType(), True),\n",
    "                     StructField(\"petal_length\", DoubleType(), True),\n",
    "                     StructField(\"petal_width\",  DoubleType(), True),\n",
    "                     StructField(\"variety\",      StringType(), True),\n",
    "                    ])\n",
    "spark_df = sqlContext.createDataFrame(df,schema=schema)"
   ]
  },
  {
   "cell_type": "code",
   "execution_count": null,
   "metadata": {},
   "outputs": [],
   "source": [
    "spark_df.printSchema()"
   ]
  },
  {
   "cell_type": "code",
   "execution_count": null,
   "metadata": {},
   "outputs": [],
   "source": [
    "spark_df.show()"
   ]
  },
  {
   "cell_type": "markdown",
   "metadata": {},
   "source": [
    "## I/ SmartGrid Example from File\n",
    "\n",
    "### A/ Standard method with Pandas"
   ]
  },
  {
   "cell_type": "code",
   "execution_count": null,
   "metadata": {},
   "outputs": [],
   "source": [
    "def str_to_timestamp(date):\n",
    "    dt = datetime.strptime(date, '%d/%m/%Y %H:%M:%S')\n",
    "    d0 = datetime(2019,1,1,0,0,0,0)\n",
    "    return int((dt - d0).total_seconds())"
   ]
  },
  {
   "cell_type": "code",
   "execution_count": null,
   "metadata": {},
   "outputs": [],
   "source": [
    "def compute_curve(df,day_id,tagname):\n",
    "    day_df = df.loc[(df['day_id'] == day_id) & (df['tagname'] == tagname )]\n",
    "    vh_df = day_df[['hour_id','value']].groupby('hour_id').mean().reset_index().sort_values(by='hour_id')\n",
    "    x = vh_df['hour_id']\n",
    "    y = vh_df['value']\n",
    "    return x,y"
   ]
  },
  {
   "cell_type": "code",
   "execution_count": null,
   "metadata": {},
   "outputs": [],
   "source": [
    "data_dir = '/work/irlin355_1/gratienj/BigData/DigitalSandBox/Data/TimeSeries/SmartGridData/Cryolite/20190101'\n",
    "filename = os.path.join(data_dir,'OneMonth.csv')\n",
    "df = pd.read_csv(filename, sep=';')\n",
    "#tagnames = ['CRY.CENTRALE_SOLAIRE.CRY_act_prod_pow']\n",
    "tagnames = df.tagname.unique()"
   ]
  },
  {
   "cell_type": "code",
   "execution_count": null,
   "metadata": {},
   "outputs": [],
   "source": [
    "%%time\n",
    "df['value'] = pd.to_numeric(df['value'])\n",
    "df['quality'] = pd.to_numeric(df['value'])\n",
    "df['timestamp'] = df['timestamp'].apply(str_to_timestamp)\n",
    "df['day_id'] = df['timestamp']//(3600*24)\n",
    "df['hour_id'] = df['timestamp'] % (3600*24) // 3600\n",
    "results =[]\n",
    "for tag_id,tagname in enumerate(tagnames):\n",
    "    for day_id in range(30):\n",
    "        results.append(compute_curve(df,day_id,tagname))"
   ]
  },
  {
   "cell_type": "markdown",
   "metadata": {},
   "source": [
    "### B/ PySpark method"
   ]
  },
  {
   "cell_type": "code",
   "execution_count": null,
   "metadata": {},
   "outputs": [],
   "source": [
    "data_dir = '/work/irlin355_1/gratienj/BigData/DigitalSandBox/Data/TimeSeries/SmartGridData/Cryolite/20190101'\n",
    "filename = os.path.join(data_dir,'OneMonth.csv')\n",
    "df = pd.read_csv(filename, sep=';')\n",
    "df['value'] = pd.to_numeric(df['value'])\n",
    "df['quality'] = pd.to_numeric(df['value'])"
   ]
  },
  {
   "cell_type": "code",
   "execution_count": null,
   "metadata": {},
   "outputs": [],
   "source": [
    "from pyspark import SparkContext, SQLContext\n",
    "\n",
    "sqlContext = SQLContext(sc)"
   ]
  },
  {
   "cell_type": "code",
   "execution_count": null,
   "metadata": {},
   "outputs": [],
   "source": [
    "Schema = StructType([ StructField(\"timestamp\", StringType(),    True),\n",
    "                      StructField(\"tagname\",   StringType(),  True),\n",
    "                      StructField(\"value\",     DoubleType(),  True),\n",
    "                      StructField(\"quality\",   DoubleType(),  True)\n",
    "                    ])"
   ]
  },
  {
   "cell_type": "code",
   "execution_count": null,
   "metadata": {},
   "outputs": [],
   "source": [
    "spark_df = sqlContext.createDataFrame(df,schema=Schema)"
   ]
  },
  {
   "cell_type": "code",
   "execution_count": null,
   "metadata": {},
   "outputs": [],
   "source": [
    "spark_df.printSchema()"
   ]
  },
  {
   "cell_type": "code",
   "execution_count": null,
   "metadata": {},
   "outputs": [],
   "source": [
    "spark_df.show()"
   ]
  },
  {
   "cell_type": "code",
   "execution_count": null,
   "metadata": {},
   "outputs": [],
   "source": [
    "def str_to_timestamp(date):\n",
    "    dt = datetime.strptime(date, '%d/%m/%Y %H:%M:%S')\n",
    "    d0 = datetime(2019,1,1,0,0,0,0)\n",
    "    return int((dt - d0).total_seconds())"
   ]
  },
  {
   "cell_type": "code",
   "execution_count": null,
   "metadata": {},
   "outputs": [],
   "source": [
    "from pyspark.sql.functions import udf\n",
    "from pyspark.sql.types import StructType, StructField, DoubleType, StringType, LongType\n",
    "F1 = udf(lambda x: str_to_timestamp(x), LongType())\n",
    "dayId = udf(lambda x : x//(3600*24))\n",
    "hourId = udf(lambda x : x % (3600*24) // 3600)"
   ]
  },
  {
   "cell_type": "code",
   "execution_count": null,
   "metadata": {},
   "outputs": [],
   "source": [
    "def compute_curve(tag_df,day_id):\n",
    "    day_df = tag_df.filter(tag_df.day_id == day_id)\n",
    "    rdd = day_df.select('hour_id','value').groupby('hour_id').mean()\n",
    "    #x = [x[\"avg(hour_id)\"] for x in rdd.select(\"avg(hour_)\").collect()]\n",
    "    y = [x[\"avg(value)\"] for x in rdd.select(\"avg(value)\").collect()]\n",
    "    return y"
   ]
  },
  {
   "cell_type": "code",
   "execution_count": null,
   "metadata": {},
   "outputs": [],
   "source": [
    "%%time\n",
    "tagnames = df.tagname.unique()\n",
    "spark_df2 = spark_df.withColumn(\"timestamp_sec\",  F1(spark_df[\"timestamp\"]))\n",
    "spark_df3 = spark_df2.withColumn(\"day_id\",dayId(spark_df2['timestamp_sec']))\n",
    "spark_df4 = spark_df3.withColumn(\"hour_id\",hourId(spark_df3['timestamp_sec']))\n",
    "results =[]\n",
    "for tag_id,tagname in enumerate(tagnames):\n",
    "    tag_df = spark_df4.filter(spark_df4.tagname == tagname)\n",
    "    for day_id in range(30):\n",
    "        results.append(compute_curve(tag_df,day_id))"
   ]
  }
 ],
 "metadata": {
  "kernelspec": {
   "display_name": "kernel_ts_mongodb_pyspark",
   "language": "python",
   "name": "kernel_ts_mongodb_pyspark"
  },
  "language_info": {
   "codemirror_mode": {
    "name": "ipython",
    "version": 3
   },
   "file_extension": ".py",
   "mimetype": "text/x-python",
   "name": "python",
   "nbconvert_exporter": "python",
   "pygments_lexer": "ipython3",
   "version": "3.7.6"
  }
 },
 "nbformat": 4,
 "nbformat_minor": 4
}
