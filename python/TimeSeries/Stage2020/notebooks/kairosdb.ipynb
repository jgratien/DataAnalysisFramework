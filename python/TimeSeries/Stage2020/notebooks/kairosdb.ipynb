{
 "cells": [
  {
   "cell_type": "markdown",
   "metadata": {},
   "source": [
    "# KairosDB NoteBook\n",
    "\n",
    "## Installation \n",
    "Télécharger l'archive de kairosdb sur la [page officiel](https://github.com/kairosdb/kairosdb/releases) et le mettre dans le répertoire souhaité pour lancer kairosdb selon les commands suivants : \n",
    "```bash\n",
    "> wget https://github.com/kairosdb/kairosdb/releases/download/v1.2.2/kairosdb-1.2.2-1.tar.gz\n",
    "> tar -xfv kairosdb-1.2.2-1.tar.gz\n",
    "```\n",
    "## Configuration \n",
    "Le fichier de configuration est `conf/kairosdb.properties`. La porte réservée de kairosdb par défaut est 8080, qui est déjà occupée\n",
    "par l'autre logiciel dans mon pc. <br>\n",
    "Pour changer la porte il faut corriger les valeurs des paramètres suivantes :  \n",
    "```\n",
    "kairosdb.jetty.port=9080\n",
    "kairosdb.datastore.remote.remote_url=http://10.92.1.41:9080\n",
    "```\n",
    "## Test l'installation\n",
    "Aller dans le répertoire `bin` pour utiliser le script `kairosdb.sh` afin de de\n",
    "Pour démarrer KairosDB et exécuter dans le type de premier plan :\n",
    "```bash\n",
    "> ./kairosdb.sh run\n",
    "```\n",
    "Pour exécuter KairosDB en tant que type de processus d'arrière-plan :\n",
    "```bash\n",
    "> ./kairosdb.sh start\n",
    "```\n"
   ]
  },
  {
   "cell_type": "code",
   "execution_count": null,
   "metadata": {},
   "outputs": [],
   "source": []
  }
 ],
 "metadata": {
  "kernelspec": {
   "display_name": "timeseries",
   "language": "python",
   "name": "timeseries"
  },
  "language_info": {
   "codemirror_mode": {
    "name": "ipython",
    "version": 3
   },
   "file_extension": ".py",
   "mimetype": "text/x-python",
   "name": "python",
   "nbconvert_exporter": "python",
   "pygments_lexer": "ipython3",
   "version": "3.7.7"
  }
 },
 "nbformat": 4,
 "nbformat_minor": 4
}
