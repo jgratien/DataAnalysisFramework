{
 "cells": [
  {
   "cell_type": "markdown",
   "metadata": {},
   "source": [
    "# TimeSeries DataAnalytics Tutorial\n",
    "\n"
   ]
  },
  {
   "cell_type": "code",
   "execution_count": null,
   "metadata": {},
   "outputs": [],
   "source": [
    "import visdom\n",
    "import numpy as np\n",
    "import chart_studio.plotly as py\n",
    "import plotly.express as px\n",
    "import plotly.tools as tls\n",
    "from plotly.subplots import make_subplots\n",
    "import plotly.graph_objects as go\n",
    "import pandas as pd\n",
    "from datetime import datetime\n",
    "import requests\n",
    "import json\n",
    "import matplotlib.pyplot as plt"
   ]
  },
  {
   "cell_type": "markdown",
   "metadata": {},
   "source": [
    "## I/ Requete des données\n",
    "\n",
    "### A/ Données SmartGrid"
   ]
  },
  {
   "cell_type": "code",
   "execution_count": null,
   "metadata": {},
   "outputs": [],
   "source": []
  },
  {
   "cell_type": "markdown",
   "metadata": {},
   "source": [
    "### B/ Données Eolienne"
   ]
  },
  {
   "cell_type": "code",
   "execution_count": null,
   "metadata": {},
   "outputs": [],
   "source": [
    "def find_data(metric,col):\n",
    "    query = {\n",
    "            \"start_absolute\":1,\n",
    "            \"metrics\": [\n",
    "                {\n",
    "                    \"name\": metric,\n",
    "                    \"tags\": {\n",
    "                        'column' : [col]\n",
    "                    }\n",
    "                }\n",
    "            ]}\n",
    "    response = requests.post(kairosdb_server + \"/api/v1/datapoints/query\", data=json.dumps(query))\n",
    "    #print(\"Status code: %d\" % response.status_code)\n",
    "    #print(\"JSON response:\")\n",
    "    #print(response.json())\n",
    "    #print(len(response.json()['queries'][0]['results'][0]['values']),\" data fetched from kairosDB\")\n",
    "    return response"
   ]
  },
  {
   "cell_type": "code",
   "execution_count": null,
   "metadata": {},
   "outputs": [],
   "source": [
    "def type_convert(df):\n",
    "    head = df.columns\n",
    "    for item in head : \n",
    "        df[item] = pd.to_numeric(df[item])"
   ]
  },
  {
   "cell_type": "code",
   "execution_count": null,
   "metadata": {},
   "outputs": [],
   "source": [
    "def json_to_df(metric):\n",
    "    head = ['timestamp','Temps écoulé', '4069 state', 'Battery voltage', 'Flow SP',\n",
    "       'Unit Code', 'Flow M', 'Pressure', 'Temperature', 'Latitude',\n",
    "       'Longitude', 'Altitude', 'Head. Rel. True North', 'Pressure.1',\n",
    "       'Temperature.1', 'Humidity', 'MDA Wnd Dir', 'MDA Wnd Speed',\n",
    "       'MWD Wind Dir', 'MWD Wind Speed', 'Gaz Concentration 1',\n",
    "       'Gaz Concentration 2', 'Gaz Concentration 3', 'Gaz Concentration 4',\n",
    "       'SPA 1', 'SPA 2', 'Cellule Photo', 'Temperature.2', 'Pressure.2',\n",
    "       'Flow MassFlow 1', 'NOTUSED Flow MassFlow 2', 'Flow', 'Humidity.1',\n",
    "       'Test', 'Details', 'SPA 3', 'SPA 4', 'CavityPressure', 'CavityTemp',\n",
    "       'CH4', 'CH4_dry', 'C2H6', 'C2H6_dry', '13CH4', 'H2O', 'CO2',\n",
    "       'C2C1Ratio', 'Delta_iCH4_Raw', 'HP_Delta_iCH4_30s',\n",
    "       'HP_Delta_iCH4_2min', 'HP_Delta_iCH4_5min']\n",
    "    \n",
    "    df = pd.DataFrame(columns = head) \n",
    "    head.remove('timestamp')\n",
    "    \n",
    "    for col in head : \n",
    "        #print(col)\n",
    "        response = find_data(metric,col)\n",
    "        #print(response.json())\n",
    "        data_list = []\n",
    "        timestamp = []\n",
    "        data = response.json()['queries'][0]['results'][0]['values']\n",
    "        for item in data:\n",
    "            #print(item)\n",
    "            data_list.append(item[1])     \n",
    "        #print(data_list)\n",
    "        df[col]=data_list\n",
    "        if (col == 'Temps écoulé'):\n",
    "            for item in data:\n",
    "                timestamp.append(item[0])\n",
    "            #print(timestamp)\n",
    "            df['timestamp']=timestamp\n",
    "    return df"
   ]
  },
  {
   "cell_type": "code",
   "execution_count": null,
   "metadata": {},
   "outputs": [],
   "source": [
    "global kairosdb_server \n",
    "kairosdb_server = \"http://localhost:9080\"\n",
    "metric=\"test_eolienne\""
   ]
  },
  {
   "cell_type": "code",
   "execution_count": null,
   "metadata": {},
   "outputs": [],
   "source": [
    "df=json_to_df(metric)\n",
    "type_convert(df)"
   ]
  },
  {
   "cell_type": "code",
   "execution_count": null,
   "metadata": {},
   "outputs": [],
   "source": [
    "df"
   ]
  },
  {
   "cell_type": "code",
   "execution_count": null,
   "metadata": {},
   "outputs": [],
   "source": [
    "x = [datetime.utcfromtimestamp(item/1000).strftime('%Y-%m-%d %H:%M:%S')  for item in df['timestamp']]"
   ]
  },
  {
   "cell_type": "code",
   "execution_count": null,
   "metadata": {},
   "outputs": [],
   "source": [
    "x"
   ]
  },
  {
   "cell_type": "code",
   "execution_count": null,
   "metadata": {},
   "outputs": [],
   "source": [
    "x_ref = df['timestamp'].tolist()\n",
    "fig = go.Figure()\n",
    "fig.add_trace(go.Scatter(\n",
    "                x=x,\n",
    "                y=df[\"Latitude\"],\n",
    "                name=\"Latitude\",\n",
    "                line_color='deepskyblue',\n",
    "                opacity=0.8))\n",
    "\n",
    "fig.add_trace(go.Scatter(\n",
    "                x=x,\n",
    "                y=df[\"Temperature\"],\n",
    "                name=\"Temperature\",\n",
    "                line_color='dimgray',\n",
    "                opacity=0.8))\n",
    "\n",
    "# Use date string to set xaxis range\n",
    "fig.update_layout(xaxis_range=[x_ref[0]-3600*2*1000,x_ref[-1]-3600*2*1000],\n",
    "                  title_text=\"éolienne data series\")\n",
    "fig.show()"
   ]
  },
  {
   "cell_type": "markdown",
   "metadata": {},
   "source": [
    "### C/ Données de polution"
   ]
  },
  {
   "cell_type": "code",
   "execution_count": null,
   "metadata": {},
   "outputs": [],
   "source": []
  },
  {
   "cell_type": "markdown",
   "metadata": {},
   "source": [
    "## II/ Statistiques"
   ]
  },
  {
   "cell_type": "code",
   "execution_count": null,
   "metadata": {},
   "outputs": [],
   "source": [
    "from sklearn.linear_model import LinearRegression\n"
   ]
  },
  {
   "cell_type": "code",
   "execution_count": null,
   "metadata": {},
   "outputs": [],
   "source": [
    "lr_x=df['timestamp'].values.reshape(-1, 1) \n",
    "lr_y=df['Temperature'].values.reshape(-1, 1) "
   ]
  },
  {
   "cell_type": "code",
   "execution_count": null,
   "metadata": {},
   "outputs": [],
   "source": [
    "lrModel = LinearRegression()\n",
    "lrModel.fit(lr_x,lr_y)"
   ]
  },
  {
   "cell_type": "code",
   "execution_count": null,
   "metadata": {},
   "outputs": [],
   "source": [
    "lrModel.score(lr_x,lr_y)"
   ]
  },
  {
   "cell_type": "code",
   "execution_count": null,
   "metadata": {},
   "outputs": [],
   "source": [
    "alpha = lrModel.intercept_[0]\n",
    "alpha"
   ]
  },
  {
   "cell_type": "code",
   "execution_count": null,
   "metadata": {},
   "outputs": [],
   "source": [
    "beta = lrModel.coef_[0][0]\n",
    "beta"
   ]
  },
  {
   "cell_type": "code",
   "execution_count": null,
   "metadata": {},
   "outputs": [],
   "source": [
    "pred = alpha + beta*lr_x\n",
    "pred"
   ]
  },
  {
   "cell_type": "code",
   "execution_count": null,
   "metadata": {},
   "outputs": [],
   "source": [
    "temp = temp_ori - res\n",
    "temp"
   ]
  },
  {
   "cell_type": "code",
   "execution_count": null,
   "metadata": {},
   "outputs": [],
   "source": [
    "fig, ax = plt.subplots(1, 1, figsize=(6, 3))\n",
    "temp.plot(ax=ax, lw=.5)\n",
    "#ax.set_ylim(1.99, 2.02)\n",
    "ax.set_xlabel('Date')\n",
    "ax.set_ylabel('Mean temperature after treatement')"
   ]
  },
  {
   "cell_type": "markdown",
   "metadata": {},
   "source": [
    "## III/ FFT, PSD : analyse en fréquence du signal\n",
    "\n",
    "Notebook [FFTTuto](./fft.ipynb) illustrant l'utilisation des FFT et PSD sur des données temporelles\n"
   ]
  },
  {
   "cell_type": "code",
   "execution_count": null,
   "metadata": {},
   "outputs": [],
   "source": [
    "import scipy as sp\n",
    "import scipy.fftpack"
   ]
  },
  {
   "cell_type": "code",
   "execution_count": null,
   "metadata": {},
   "outputs": [],
   "source": [
    "#Calcul fft\n",
    "temp_fft = sp.fftpack.fft(temp.values)"
   ]
  },
  {
   "cell_type": "code",
   "execution_count": null,
   "metadata": {},
   "outputs": [],
   "source": [
    "#Calcul psd\n",
    "temp_psd = np.abs(temp_fft) ** 2"
   ]
  },
  {
   "cell_type": "code",
   "execution_count": null,
   "metadata": {},
   "outputs": [],
   "source": [
    "fftfreq = sp.fftpack.fftfreq(len(temp_psd), 1. / 365*24*3600)"
   ]
  },
  {
   "cell_type": "code",
   "execution_count": null,
   "metadata": {},
   "outputs": [],
   "source": [
    "i = fftfreq > 0"
   ]
  },
  {
   "cell_type": "code",
   "execution_count": null,
   "metadata": {},
   "outputs": [],
   "source": [
    "fig, ax = plt.subplots(1, 1, figsize=(8, 4))\n",
    "ax.plot(fftfreq[i], 10 * np.log10(temp_psd[i]))\n",
    "#ax.set_xlim(0, 5)\n",
    "ax.set_xlabel('Frequency (1/sec)')\n",
    "ax.set_ylabel('PSD (dB)')"
   ]
  },
  {
   "cell_type": "code",
   "execution_count": null,
   "metadata": {},
   "outputs": [],
   "source": [
    "#Extraction des fréquences les plus importantes (FFT tronquée)\n",
    "temp_fft_bis = temp_fft.copy()\n",
    "temp_fft_bis[np.abs(fftfreq) > 0.0005] = 0"
   ]
  },
  {
   "cell_type": "code",
   "execution_count": null,
   "metadata": {},
   "outputs": [],
   "source": [
    "#Calcul de la courbe de température inverse de la FFT tronquée\n",
    "temp_slow = np.real(sp.fftpack.ifft(temp_fft_bis))\n",
    "fig, ax = plt.subplots(1, 1, figsize=(6, 3))\n",
    "ax.plot_date(date, temp_slow, '-')\n",
    "temp.plot(ax=ax, lw=.5)\n",
    "#ax.set_xlim(df['timestamp'][0],\n",
    "#            df['timestamp'][132])\n",
    "#ax.set_ylim(-10, 40)\n",
    "ax.set_xlabel('Date')\n",
    "ax.set_ylabel('Mean temperature')"
   ]
  },
  {
   "cell_type": "code",
   "execution_count": null,
   "metadata": {},
   "outputs": [],
   "source": []
  },
  {
   "cell_type": "markdown",
   "metadata": {},
   "source": [
    "## IV/ Clustering\n"
   ]
  },
  {
   "cell_type": "code",
   "execution_count": null,
   "metadata": {},
   "outputs": [],
   "source": []
  },
  {
   "cell_type": "markdown",
   "metadata": {},
   "source": [
    "## V/ Apprentissage"
   ]
  },
  {
   "cell_type": "code",
   "execution_count": null,
   "metadata": {},
   "outputs": [],
   "source": []
  }
 ],
 "metadata": {
  "kernelspec": {
   "display_name": "timeseries",
   "language": "python",
   "name": "timeseries"
  },
  "language_info": {
   "codemirror_mode": {
    "name": "ipython",
    "version": 3
   },
   "file_extension": ".py",
   "mimetype": "text/x-python",
   "name": "python",
   "nbconvert_exporter": "python",
   "pygments_lexer": "ipython3",
   "version": "3.7.7"
  }
 },
 "nbformat": 4,
 "nbformat_minor": 4
}
