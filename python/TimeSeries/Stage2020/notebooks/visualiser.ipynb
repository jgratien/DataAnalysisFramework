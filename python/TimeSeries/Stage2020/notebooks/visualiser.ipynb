{
 "cells": [
  {
   "cell_type": "markdown",
   "metadata": {},
   "source": [
    "# Visualisation des données"
   ]
  },
  {
   "cell_type": "code",
   "execution_count": 1,
   "metadata": {},
   "outputs": [],
   "source": [
    "import visdom\n",
    "import numpy as np\n",
    "import sys\n",
    "sys.path.append(\"../TimeSeriesTools\")\n",
    "import utils\n",
    "from cerberus import Validator\n",
    "import chart_studio.plotly as py\n",
    "import plotly.express as px\n",
    "import plotly.tools as tls\n",
    "from plotly.subplots import make_subplots\n",
    "import plotly.graph_objects as go\n",
    "import pandas as pd\n",
    "from datetime import datetime"
   ]
  },
  {
   "cell_type": "markdown",
   "metadata": {},
   "source": [
    "## Lecture des données dans la base\n",
    "Cette fonction est utilisée pour lire tous les documents dans la base de mongodb, mais il reste un problème : mongodb n'est pas une base de données spécialement conçue pour les données de séries temporaires, donc c'est possible d'exister certains données dédoublées avec même timestamps. Soit on définit un règle avant le stockage de mongodb pour supprimer ou modifier les données dédboulées, ou soit on le néglige."
   ]
  },
  {
   "cell_type": "code",
   "execution_count": null,
   "metadata": {},
   "outputs": [],
   "source": [
    "def find_all_data(col):\n",
    "    data_list=[]\n",
    "    for d in collection.find():\n",
    "        data_list.append(d)\n",
    "    print(len(data_list), \" documents found\")\n",
    "    return data_list  "
   ]
  },
  {
   "cell_type": "markdown",
   "metadata": {},
   "source": [
    "## Conversion les dates des données à unix timestamp\n",
    "Les objects de datetime ne peuvent pas directemant utilisés pour tracer l'axis X, donc il faut d'abord convertir les datetime à unix timestamp."
   ]
  },
  {
   "cell_type": "code",
   "execution_count": null,
   "metadata": {},
   "outputs": [],
   "source": [
    "def to_unix_time(dt):\n",
    "    epoch =  datetime.utcfromtimestamp(7200)\n",
    "    return (dt - epoch).total_seconds() * 1000"
   ]
  },
  {
   "cell_type": "markdown",
   "metadata": {},
   "source": [
    "## Nettoyage des données dans la base\n",
    "Normalement cette étape est faite avant le stockage des données, vu que on ne sait pas encore les règles détaillés pour la validation les données, on insère quand même les données corruptibles dans la base. <br>\n",
    "Dans cet exemple, la source des données contient une ligne de données qui manque trois champs pour tester la validation des données.<br>\n",
    "Donc avant visualiser les courbes, on trouve d'abord les données corruptibles et les supprime. \n",
    "Les règles de validation temporaires sont : \n",
    "* tous les champs sont présentés\n",
    "* les types des champs sont string sauf \"_id\" car cerberus ne connaît pas le type `bson.objectid.ObjectId`\n",
    "* tous les champs ne sont pas string vide"
   ]
  },
  {
   "cell_type": "code",
   "execution_count": null,
   "metadata": {},
   "outputs": [],
   "source": [
    "def clean_data(data):\n",
    "    schema =  {\n",
    "    \"_id\":{'required': True},\n",
    "    \"Heure\":{'type': 'string','required': True,'empty': False},\n",
    "    \"Temps écoulé\":{'type': 'string','required': True,'empty': False},\n",
    "    \"Latitude\":{'type': 'string','required': True,'empty': False},\n",
    "    \"Longitude\":{'type': 'string','required': True,'empty': False},\n",
    "    \"Altitude\":{'type': 'string','required': True,'empty': False},\n",
    "    \"Head_Rel_True North\":{'type': 'string','required': True,'empty': False},\n",
    "    \"Pressure\":{'type': 'string','required': True,'empty': False},\n",
    "    \"Temperature\":{'type': 'string','required': True,'empty': False},\n",
    "    \"Humidity\":{'type': 'string','required': True,'empty': False},\n",
    "    \"MDA Wnd Dir\":{'type': 'string','required': True,'empty': False},\n",
    "    \"MDA Wnd Speed\":{'type': 'string','required': True,'empty': False},\n",
    "    \"MWD Wind Dir\":{'type': 'string','required': True,'empty': False},\n",
    "    \"MWD Wind Speed\":{'type': 'string','required': True,'empty': False},\n",
    "    \"CavityPressure\":{'type': 'string','required': True,'empty': False},    \n",
    "    \"CavityTemp\":{'type': 'string','required': True,'empty': False},\n",
    "    \"CH4\":{'type': 'string','required': True,'empty': False},\n",
    "    \"CH4_dry\":{'type': 'string','required': True,'empty': False},\n",
    "    \"C2H6\":{'type': 'string','required': True,'empty': False},\n",
    "    \"C2H6_dry\":{'type': 'string','required': True,'empty': False},\n",
    "    \"13CH4\":{'type': 'string','required': True,'empty': False},\n",
    "    \"H2O\":{'type': 'string','required': True,'empty': False},\n",
    "    \"CO2\":{'type': 'string','required': True,'empty': False},\n",
    "    \"C2C1Ratio\":{'type': 'string','required': True,'empty': False},\n",
    "    \"Delta_iCH4_Raw\":{'type': 'string','required': True,'empty': False},\n",
    "    \"HP_Delta_iCH4_30s\":{'type': 'string','required': True,'empty': False},\n",
    "    \"HP_Delta_iCH4_2min\":{'type': 'string','required': True,'empty': False},\n",
    "    \"HP_Delta_iCH4_5min\":{'type': 'string','required': True,'empty': False}\n",
    "    }\n",
    "    v = Validator(schema)\n",
    "    for index,item in enumerate(data,start=0):\n",
    "        res = v.validate(item)\n",
    "        if (res == False):\n",
    "            print(\"corrupt data in line :\",index,\", error : \",v.errors)\n",
    "            del data[index]"
   ]
  },
  {
   "cell_type": "markdown",
   "metadata": {},
   "source": [
    "### Connecter à la base de test et affichhe le nombre total des données trouvées dans la collection désirée"
   ]
  },
  {
   "cell_type": "code",
   "execution_count": null,
   "metadata": {},
   "outputs": [],
   "source": [
    "domain = \"localhost\"\n",
    "port=27018\n",
    "client = utils.mongodb_connect(domain, port)\n",
    "collection = client.test['eolienne_DT']\n",
    "data = find_all_data(collection)"
   ]
  },
  {
   "cell_type": "markdown",
   "metadata": {},
   "source": [
    "### Néttoyer les données récupérées\n",
    "Les informations des données corruptibles seront affichées dans la console :\n",
    "* position (nbr de ligne)\n",
    "* nom de champs qui a des problème\n",
    "* message d'erreur, pourquoi cette partie de données n'est pas validée"
   ]
  },
  {
   "cell_type": "code",
   "execution_count": null,
   "metadata": {},
   "outputs": [],
   "source": [
    "clean_data(data)"
   ]
  },
  {
   "cell_type": "code",
   "execution_count": null,
   "metadata": {},
   "outputs": [],
   "source": [
    "df = pd.DataFrame(data)\n",
    "df[0:5]"
   ]
  },
  {
   "cell_type": "markdown",
   "metadata": {},
   "source": [
    "### Convertir les string d'heure à datetime object "
   ]
  },
  {
   "cell_type": "code",
   "execution_count": null,
   "metadata": {},
   "outputs": [],
   "source": [
    "dates_list = [datetime.strptime(date, '%d/%m/%Y %H:%M:%S') for date in df['Heure']]\n",
    "dates_list[0:5]"
   ]
  },
  {
   "cell_type": "markdown",
   "metadata": {},
   "source": [
    "### Préparer la figure basée sur la bibliothèque `plotly`\n",
    "Pour éviter les données dédoublées, on recupère les premières 5000 lignes comme la source de données du plot.<br>\n",
    "Dans cet plot les courbes partagent les axis-X et axis-Y, donc on peut observer que les tendances des courbes ne sont pas très claire parce que les plages de valeur des colonnes de données sont très variées.<br>"
   ]
  },
  {
   "cell_type": "code",
   "execution_count": null,
   "metadata": {},
   "outputs": [],
   "source": [
    "x_ref = dates_list[0:5000]\n",
    "x=[str(xx) for xx in x_ref]\n",
    "fig = go.Figure()\n",
    "fig.add_trace(go.Scatter(\n",
    "                x=x,\n",
    "                y=[float(item.replace(',', '.')) for item in df[\"CH4\"][0:5000]],\n",
    "                name=\"CH4\",\n",
    "                line_color='deepskyblue',\n",
    "                opacity=0.8))\n",
    "\n",
    "fig.add_trace(go.Scatter(\n",
    "                x=x,\n",
    "                y=[float(item.replace(',', '.')) for item in df[\"Humidity\"][0:5000]],\n",
    "                name=\"Humidity\",\n",
    "                line_color='dimgray',\n",
    "                opacity=0.8))\n",
    "\n",
    "# Use date string to set xaxis range\n",
    "fig.update_layout(xaxis_range=[to_unix_time(x_ref[0]),\n",
    "                               to_unix_time(x_ref[-1])],\n",
    "                  title_text=\"éolienne data series\")\n",
    "fig.show()"
   ]
  },
  {
   "cell_type": "markdown",
   "metadata": {},
   "source": [
    "Cet plot contient trois subplots, dans la figure, les courbes partagent l'axis-X mais elles possèdent différents axis-Y.<br>\n",
    "On remarque que les tendances des courbes sont plus évidentes que la figure précédente."
   ]
  },
  {
   "cell_type": "code",
   "execution_count": null,
   "metadata": {},
   "outputs": [],
   "source": [
    "fig = make_subplots(\n",
    "    rows=3, cols=1, shared_xaxes=True, vertical_spacing=0.02\n",
    ")\n",
    "\n",
    "fig.add_trace(go.Scatter(\n",
    "                x=x,\n",
    "                y=[float(item.replace(',', '.')) for item in df[\"CH4\"][0:5000]],\n",
    "                name=\"CH4\",\n",
    "                line_color='deepskyblue',\n",
    "                line_width = 2,\n",
    "                opacity=0.8),\n",
    "              row=3, col=1)\n",
    "\n",
    "fig.add_trace(go.Scatter(\n",
    "                x=x,\n",
    "                y=[float(item.replace(',', '.')) for item in df[\"Humidity\"][0:5000]],\n",
    "                name=\"Humidity\",\n",
    "                line_color='dimgray',\n",
    "                opacity=0.8),\n",
    "              row=2, col=1)\n",
    "\n",
    "fig.add_trace(go.Scatter(\n",
    "                x=x,\n",
    "                y=[float(item.replace(',', '.')) for item in df[\"13CH4\"][0:5000]],\n",
    "                name=\"13CH4\",\n",
    "                line_color='rgb(49,130,189)',\n",
    "                line_width = 1.2,\n",
    "                opacity=0.8),\n",
    "              row=1, col=1)\n",
    "\n",
    "fig.update_layout(height=1000, width=1000,\n",
    "                  title_text=\"éolienne data series\")\n",
    "fig.show()"
   ]
  },
  {
   "cell_type": "markdown",
   "metadata": {},
   "source": [
    "### Initialiser visdom et envoyer le plot à visdom via requête Http post\n",
    "Avant cette étape, il faut lancer le service de visdom dans le terminal.\n",
    "```bash\n",
    "> visdom\n",
    "```\n",
    "L'address du web UI de visdom sera affichée dans la console."
   ]
  },
  {
   "cell_type": "code",
   "execution_count": null,
   "metadata": {
    "scrolled": true
   },
   "outputs": [],
   "source": [
    "vis = visdom.Visdom()\n",
    "vis.plotlyplot(fig, win=\"mywin3\")"
   ]
  },
  {
   "cell_type": "markdown",
   "metadata": {},
   "source": [
    "### Ajuster la taille de la fenêtre"
   ]
  },
  {
   "cell_type": "code",
   "execution_count": null,
   "metadata": {},
   "outputs": [],
   "source": [
    "vis.update_window_opts(win = \"mywin3\", opts=dict(width=1200, height=1500))"
   ]
  },
  {
   "cell_type": "markdown",
   "metadata": {},
   "source": [
    "Après l'exécution de ce script, ouvrir le web UI de visdom, le plot est présenté dans une fenêtre intéractive."
   ]
  },
  {
   "cell_type": "code",
   "execution_count": null,
   "metadata": {},
   "outputs": [],
   "source": []
  }
 ],
 "metadata": {
  "kernelspec": {
   "display_name": "timeseries",
   "language": "python",
   "name": "timeseries"
  },
  "language_info": {
   "codemirror_mode": {
    "name": "ipython",
    "version": 3
   },
   "file_extension": ".py",
   "mimetype": "text/x-python",
   "name": "python",
   "nbconvert_exporter": "python",
   "pygments_lexer": "ipython3",
   "version": "3.7.7"
  }
 },
 "nbformat": 4,
 "nbformat_minor": 4
}
