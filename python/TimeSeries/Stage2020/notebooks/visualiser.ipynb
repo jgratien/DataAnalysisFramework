{
 "cells": [
  {
   "cell_type": "markdown",
   "metadata": {},
   "source": [
    "# Visualisation des données"
   ]
  },
  {
   "cell_type": "code",
   "execution_count": 1,
   "metadata": {},
   "outputs": [],
   "source": [
    "import visdom\n",
    "import numpy as np\n",
    "import sys\n",
    "sys.path.append(\"../TimeSeriesTools\")\n",
    "import utils\n",
    "from cerberus import Validator\n",
    "import chart_studio.plotly as py\n",
    "import plotly.express as px\n",
    "import plotly.tools as tls\n",
    "from plotly.subplots import make_subplots\n",
    "import plotly.graph_objects as go\n",
    "import pandas as pd\n",
    "from datetime import datetime"
   ]
  },
  {
   "cell_type": "markdown",
   "metadata": {},
   "source": [
    "## Connexion à la base MongoDB"
   ]
  },
  {
   "cell_type": "code",
   "execution_count": 2,
   "metadata": {},
   "outputs": [
    {
     "name": "stdout",
     "output_type": "stream",
     "text": [
      "Trying to connect to MongoDB server: localhost on port: 27018\n"
     ]
    }
   ],
   "source": [
    "import mongodb_utils\n",
    "db_host= 'localhost'\n",
    "port = '27018'\n",
    "db_name='TimeSeriesBench'\n",
    "mongodb_client = mongodb_utils.mongodb_connect(db_host, port)\n"
   ]
  },
  {
   "cell_type": "code",
   "execution_count": 3,
   "metadata": {},
   "outputs": [],
   "source": [
    "import kairosdb_utils\n",
    "global kairosdb_server \n",
    "kairosdb_server = \"http://localhost:9080\""
   ]
  },
  {
   "cell_type": "code",
   "execution_count": 4,
   "metadata": {},
   "outputs": [
    {
     "name": "stdout",
     "output_type": "stream",
     "text": [
      "Trying to connect to InfluxDB server without proxy: localhost on port: 8086\n",
      "connection sucess!\n"
     ]
    }
   ],
   "source": [
    "import influxdb_utils\n",
    "db_host= 'localhost'\n",
    "port = '8086'\n",
    "db_name='TimeSeriesBench'\n",
    "influxdb_client = influxdb_utils.influxdb_connect(db_host, port)"
   ]
  },
  {
   "cell_type": "code",
   "execution_count": 5,
   "metadata": {},
   "outputs": [],
   "source": [
    "import warp10_utils\n",
    "global warp10_server \n",
    "warp10_server = \"http://localhost:8080\""
   ]
  },
  {
   "cell_type": "markdown",
   "metadata": {},
   "source": [
    "## Lecture des données dans la base\n",
    "Cette fonction est utilisée pour lire tous les documents dans la base de mongodb, mais il reste un problème : mongodb n'est pas une base de données spécialement conçue pour les données de séries temporaires, donc c'est possible d'exister certains données dédoublées avec même timestamps. Soit on définit un règle avant le stockage de mongodb pour supprimer ou modifier les données dédboulées, ou soit on le néglige."
   ]
  },
  {
   "cell_type": "code",
   "execution_count": 6,
   "metadata": {},
   "outputs": [],
   "source": [
    "def get_collection_scheme(db_name,scheme_name):\n",
    "    db = mongodb_client[db_name]\n",
    "    schemes_coll = db['schemes']\n",
    "    scheme = schemes_coll.find({\"name\":scheme_name})\n",
    "    return scheme"
   ]
  },
  {
   "cell_type": "code",
   "execution_count": 7,
   "metadata": {},
   "outputs": [],
   "source": [
    "def mongodb_find_all_data(db_name,coll_name,scheme):\n",
    "    data = mongodb_utils.get_all_data(mongodb_client,db_name,coll_name,scheme)\n",
    "    return data"
   ]
  },
  {
   "cell_type": "code",
   "execution_count": 8,
   "metadata": {},
   "outputs": [],
   "source": [
    "def mongodb_find_data_select_by_tags(db_name,coll_name,tags,scheme):\n",
    "    data = mongodb_utils.get_data_select_by_tags(mongodb_client,db_name,coll_name,tags,scheme)\n",
    "    return data"
   ]
  },
  {
   "cell_type": "code",
   "execution_count": 9,
   "metadata": {},
   "outputs": [],
   "source": [
    "def kairosdb_find_all_data(db_name,coll_name,scheme):\n",
    "    data = kairosdb_utils.get_all_data(kairosdb_server,db_name,coll_name,scheme)\n",
    "    return data"
   ]
  },
  {
   "cell_type": "code",
   "execution_count": 10,
   "metadata": {},
   "outputs": [],
   "source": [
    "def kairosdb_find_data_select_by_tags(db_name,coll_name,tags,scheme):\n",
    "    data = kairosdb_utils.get_data_select_by_tags(kairosdb_server,db_name,coll_name,tags,scheme)\n",
    "    return data"
   ]
  },
  {
   "cell_type": "code",
   "execution_count": 11,
   "metadata": {},
   "outputs": [],
   "source": [
    "def influxdb_find_all_data(db_name,coll_name,scheme):\n",
    "    data = influxdb_utils.get_all_data(influxdb_client,db_name,coll_name,scheme)\n",
    "    return data"
   ]
  },
  {
   "cell_type": "code",
   "execution_count": 12,
   "metadata": {},
   "outputs": [],
   "source": [
    "def influxdb_find_data_select_by_tags(db_name,coll_name,tags,scheme):\n",
    "    data = influxdb_utils.get_data_select_by_tags(influxdb_client,db_name,coll_name,tags,scheme)\n",
    "    return data"
   ]
  },
  {
   "cell_type": "code",
   "execution_count": 30,
   "metadata": {},
   "outputs": [],
   "source": [
    "def warp10_find_data_select_by_tags(db_name,coll_name,tags,scheme):\n",
    "    import json\n",
    "    res = warp10_utils.get_data_select_by_tags(warp10_server,db_name,coll_name,tags)    \n",
    "            \n",
    "    nb_docs = 0\n",
    "    data_list = []\n",
    "    for r in res :\n",
    "        for d in r:\n",
    "            nb_docs += len(d['v'])\n",
    "            for v in d['v']:\n",
    "                data_list.append([v[0], json.loads(v[4])])\n",
    "    tagname = 'TAG'\n",
    "    for i,(k,v) in enumerate(tags.items()):\n",
    "        tagname = tagname+'.'+v\n",
    "\n",
    "    cols = [ k for k in scheme.keys()]\n",
    "    results = []\n",
    "    for d in data_list:\n",
    "        data = d[0]\n",
    "        str_value = str(id)+';'+str(d[0])+';'+tagname+';'+str(d[1][0])+';'+str(d[1][1])\n",
    "        values = str_value.split(';')\n",
    "        results.append({ cols[i]:values[i] for i in range(len(cols))})\n",
    "    return results"
   ]
  },
  {
   "cell_type": "markdown",
   "metadata": {},
   "source": [
    "## Conversion les dates des données à unix timestamp\n",
    "Les objects de datetime ne peuvent pas directemant utilisés pour tracer l'axis X, donc il faut d'abord convertir les datetime à unix timestamp."
   ]
  },
  {
   "cell_type": "code",
   "execution_count": 14,
   "metadata": {},
   "outputs": [],
   "source": [
    "def to_unix_time(dt):\n",
    "    epoch =  datetime.utcfromtimestamp(7200)\n",
    "    return (dt - epoch).total_seconds() * 1000"
   ]
  },
  {
   "cell_type": "code",
   "execution_count": null,
   "metadata": {},
   "outputs": [],
   "source": [
    "def str_to_unix(date):\n",
    "    dt = datetime.strptime(date, '%d/%m/%Y %H:%M:%S')\n",
    "    epoch = datetime.utcfromtimestamp(0)\n",
    "    return int((dt - epoch).total_seconds()) * 1000"
   ]
  },
  {
   "cell_type": "code",
   "execution_count": null,
   "metadata": {},
   "outputs": [],
   "source": []
  },
  {
   "cell_type": "markdown",
   "metadata": {},
   "source": [
    "## Nettoyage des données dans la base\n",
    "Normalement cette étape est faite avant le stockage des données, vu que on ne sait pas encore les règles détaillés pour la validation les données, on insère quand même les données corruptibles dans la base. <br>\n",
    "Dans cet exemple, la source des données contient une ligne de données qui manque trois champs pour tester la validation des données.<br>\n",
    "Donc avant visualiser les courbes, on trouve d'abord les données corruptibles et les supprime. \n",
    "Les règles de validation temporaires sont : \n",
    "* tous les champs sont présentés\n",
    "* les types des champs sont string sauf \"_id\" car cerberus ne connaît pas le type `bson.objectid.ObjectId`\n",
    "* tous les champs ne sont pas string vide"
   ]
  },
  {
   "cell_type": "code",
   "execution_count": 15,
   "metadata": {},
   "outputs": [],
   "source": [
    "def clean_data(scheme,data):\n",
    "    from cerberus import Validator\n",
    "    v = Validator(scheme)\n",
    "    for index,item in enumerate(data,start=0):\n",
    "        res = v.validate(item)\n",
    "        if (res == False):\n",
    "            print(\"corrupt data in line :\",index,\", error : \",v.errors)\n",
    "            del data[index]"
   ]
  },
  {
   "cell_type": "markdown",
   "metadata": {},
   "source": [
    "### Connecter à la base de test et affichhe le nombre total des données trouvées dans la collection désirée"
   ]
  },
  {
   "cell_type": "code",
   "execution_count": 16,
   "metadata": {},
   "outputs": [
    {
     "data": {
      "text/plain": [
       "{'_id': ObjectId('5ed8af9859e948764cadceb2'),\n",
       " 'name': 'SmartGrid',\n",
       " 'value': {'_id': {'required': True},\n",
       "  'timestamp': {'type': 'string', 'required': True, 'empty': False},\n",
       "  'tagname': {'type': 'string', 'required': True, 'empty': False},\n",
       "  'value': {'type': 'string', 'required': True, 'empty': False},\n",
       "  'quality': {'type': 'string', 'required': True, 'empty': False}}}"
      ]
     },
     "execution_count": 16,
     "metadata": {},
     "output_type": "execute_result"
    }
   ],
   "source": [
    "scheme = get_collection_scheme(db_name,'SmartGrid')\n",
    "scheme[0]"
   ]
  },
  {
   "cell_type": "code",
   "execution_count": 17,
   "metadata": {},
   "outputs": [
    {
     "name": "stdout",
     "output_type": "stream",
     "text": [
      "3847990  documents found\n",
      "number of docs 3847990\n",
      "CPU times: user 18.1 s, sys: 2.04 s, total: 20.1 s\n",
      "Wall time: 21.9 s\n"
     ]
    }
   ],
   "source": [
    "%%time\n",
    "coll_name='SmartGridCryolite20190101OneMonthV10000'\n",
    "data = mongodb_find_all_data(db_name,coll_name,scheme[0]['value'])\n",
    "print(\"number of docs\",len(data))"
   ]
  },
  {
   "cell_type": "code",
   "execution_count": 18,
   "metadata": {},
   "outputs": [
    {
     "name": "stdout",
     "output_type": "stream",
     "text": [
      "137920  documents found\n",
      "number of docs 137920\n",
      "CPU times: user 1.21 s, sys: 427 ms, total: 1.64 s\n",
      "Wall time: 4.38 s\n"
     ]
    }
   ],
   "source": [
    "%%time\n",
    "coll_name='SmartGridCryolite20190101OneMonthV10000'\n",
    "tags = { 'Buiding' : 'CRY', 'Device' : 'CENTRALE_SOLAIRE', 'Measure' : 'CRY_act_prod_pow' }\n",
    "data = mongodb_find_data_select_by_tags(db_name,coll_name,tags,scheme[0]['value'])\n",
    "print(\"number of docs\",len(data))"
   ]
  },
  {
   "cell_type": "code",
   "execution_count": 19,
   "metadata": {},
   "outputs": [
    {
     "name": "stdout",
     "output_type": "stream",
     "text": [
      "number of docs 27584\n",
      "CPU times: user 112 ms, sys: 26 ms, total: 138 ms\n",
      "Wall time: 2.79 s\n"
     ]
    }
   ],
   "source": [
    "%%time\n",
    "coll_name='SmartGridCryolite20190101OneMonthV10000'\n",
    "tags = { 'Buiding' : 'CRY', 'Device' : 'CENTRALE_SOLAIRE', 'Measure' : 'CRY_act_prod_pow' }\n",
    "data = kairosdb_find_data_select_by_tags(db_name,coll_name,tags,scheme[0]['value'])\n",
    "#data = kairosdb_find_all_data(db_name,coll_name,scheme[0]['value'])\n",
    "print(\"number of docs\",len(data))"
   ]
  },
  {
   "cell_type": "code",
   "execution_count": 20,
   "metadata": {},
   "outputs": [
    {
     "name": "stdout",
     "output_type": "stream",
     "text": [
      "number of docs 27584\n",
      "CPU times: user 2.54 s, sys: 257 ms, total: 2.79 s\n",
      "Wall time: 9.14 s\n"
     ]
    }
   ],
   "source": [
    "%%time\n",
    "coll_name='SmartGridCryolite20190101OneMonthV10000'\n",
    "tags = { 'Buiding' : 'CRY', 'Device' : 'CENTRALE_SOLAIRE', 'Measure' : 'CRY_act_prod_pow' }\n",
    "data = influxdb_find_data_select_by_tags(db_name,coll_name,tags,scheme[0]['value'])\n",
    "print(\"number of docs\",len(data))"
   ]
  },
  {
   "cell_type": "code",
   "execution_count": 31,
   "metadata": {},
   "outputs": [
    {
     "name": "stdout",
     "output_type": "stream",
     "text": [
      "REQUEST: //store read token in a variable\n",
      "'BcquvKbk0Cd1Egb4ITqytPdXjN1kf6MTaK5hBEQfD.0rM61wEzV76nFogWt608XNQ8NCZYybDntMXSDugaTQx21jAv4qW59BM68wR.xUQxnMVwRW1Xe0q3eQw2l2swJxGe_uK2gwXGIydx_l5D5K.m8BfhSR0NQSz7Zx8ClQPhhRNFQocY_ZuV' 'Rt' STORE\n",
      "[  $Rt   'SmartGridCryolite20190101OneMonthV10000'\n",
      "  { 'Buiding' 'CRY' 'Device' 'CENTRALE_SOLAIRE' 'Measure' 'CRY_act_prod_pow' } NOW MINLONG 1 + ] FETCH\n",
      "Status code: 200\n",
      "number of docs 27584\n",
      "CPU times: user 241 ms, sys: 17.8 ms, total: 258 ms\n",
      "Wall time: 357 ms\n"
     ]
    }
   ],
   "source": [
    "%%time\n",
    "coll_name='SmartGridCryolite20190101OneMonthV10000'\n",
    "tags = { 'Buiding' : 'CRY', 'Device' : 'CENTRALE_SOLAIRE', 'Measure' : 'CRY_act_prod_pow' }\n",
    "data = warp10_find_data_select_by_tags(db_name,coll_name,tags,scheme[0]['value'])\n",
    "print(\"number of docs\",len(data))"
   ]
  },
  {
   "cell_type": "markdown",
   "metadata": {},
   "source": [
    "### Nettoyer les données récupérées\n",
    "Les informations des données corruptibles seront affichées dans la console :\n",
    "* position (nbr de ligne)\n",
    "* nom de champs qui a des problème\n",
    "* message d'erreur, pourquoi cette partie de données n'est pas validée"
   ]
  },
  {
   "cell_type": "code",
   "execution_count": null,
   "metadata": {},
   "outputs": [],
   "source": [
    "clean_data(scheme[0]['value'],data)"
   ]
  },
  {
   "cell_type": "code",
   "execution_count": null,
   "metadata": {},
   "outputs": [],
   "source": [
    "%%time\n",
    "df = pd.DataFrame(data)\n",
    "df[0:5]"
   ]
  },
  {
   "cell_type": "code",
   "execution_count": null,
   "metadata": {},
   "outputs": [],
   "source": [
    "df['value']"
   ]
  },
  {
   "cell_type": "code",
   "execution_count": null,
   "metadata": {},
   "outputs": [],
   "source": [
    "df.tagname.unique()"
   ]
  },
  {
   "cell_type": "code",
   "execution_count": null,
   "metadata": {},
   "outputs": [],
   "source": [
    "df2 = df.loc[df['tagname'] == 'CRY.CENTRALE_SOLAIRE.CRY_act_prod_pow']\n",
    "df2[0:10]"
   ]
  },
  {
   "cell_type": "markdown",
   "metadata": {},
   "source": [
    "### Convertir les string d'heure à datetime object "
   ]
  },
  {
   "cell_type": "code",
   "execution_count": null,
   "metadata": {},
   "outputs": [],
   "source": [
    "# convertir cas MongoDB\n",
    "df['timestamp'] = df['timestamp'].apply(str_to_unix)"
   ]
  },
  {
   "cell_type": "markdown",
   "metadata": {},
   "source": [
    "### Préparer la figure basée sur la bibliothèque `plotly`\n",
    "Pour éviter les données dédoublées, on recupère les premières 5000 lignes comme la source de données du plot.<br>\n",
    "Dans cet plot les courbes partagent les axis-X et axis-Y, donc on peut observer que les tendances des courbes ne sont pas très claire parce que les plages de valeur des colonnes de données sont très variées.<br>"
   ]
  },
  {
   "cell_type": "code",
   "execution_count": null,
   "metadata": {},
   "outputs": [],
   "source": [
    "# Cas MongoDB\n",
    "x = df2['timestamp'].values\n",
    "nb_pts = len(x)\n",
    "nb_pts"
   ]
  },
  {
   "cell_type": "code",
   "execution_count": null,
   "metadata": {},
   "outputs": [],
   "source": [
    "y_value=[float(item) for item in df2[\"value\"]]\n",
    "y_quality=[float(item)/100 for item in df2[\"quality\"]]"
   ]
  },
  {
   "cell_type": "code",
   "execution_count": null,
   "metadata": {},
   "outputs": [],
   "source": [
    "x = df['timestamp'].values\n",
    "nb_pts = len(x)\n",
    "nb_pts"
   ]
  },
  {
   "cell_type": "code",
   "execution_count": null,
   "metadata": {},
   "outputs": [],
   "source": [
    "y_value=[float(item) for item in df[\"value\"]]\n",
    "y_quality=[float(item)/100 for item in df[\"quality\"]]"
   ]
  },
  {
   "cell_type": "code",
   "execution_count": null,
   "metadata": {},
   "outputs": [],
   "source": [
    "%matplotlib inline\n",
    "#nb_pts=700000\n",
    "fig = go.Figure()\n",
    "fig.add_trace(go.Scatter(\n",
    "                x=x,\n",
    "                y=y_value,\n",
    "                name=\"value\",\n",
    "                line_color='deepskyblue',\n",
    "                opacity=0.8))\n",
    "\n",
    "fig.add_trace(go.Scatter(\n",
    "                x=x,\n",
    "                y=y_quality,\n",
    "                name=\"quality\",\n",
    "                line_color='dimgray',\n",
    "                opacity=0.8))\n",
    "\n",
    "# Use date string to set xaxis range\n",
    "fig.update_layout(xaxis_range=[x[0],\n",
    "                               x[nb_pts-1]],\n",
    "                  title_text=\"smartgrid data series\")\n",
    "fig.show()"
   ]
  },
  {
   "cell_type": "markdown",
   "metadata": {},
   "source": [
    "Cet plot contient trois subplots, dans la figure, les courbes partagent l'axis-X mais elles possèdent différents axis-Y.<br>\n",
    "On remarque que les tendances des courbes sont plus évidentes que la figure précédente."
   ]
  },
  {
   "cell_type": "code",
   "execution_count": null,
   "metadata": {},
   "outputs": [],
   "source": [
    "fig = make_subplots(\n",
    "    rows=1, cols=1, shared_xaxes=True, vertical_spacing=0.02\n",
    ")\n",
    "\n",
    "fig.add_trace(go.Scatter(\n",
    "                x=x,\n",
    "                y=y_value,\n",
    "                name=\"value\",\n",
    "                line_color='deepskyblue',\n",
    "                line_width = 2,\n",
    "                opacity=0.8),\n",
    "              row=1, col=1)\n",
    "\n",
    "fig.update_layout(height=1000, width=1000,\n",
    "                  title_text=\"smartgrid data series\")\n",
    "fig.show()"
   ]
  },
  {
   "cell_type": "markdown",
   "metadata": {},
   "source": [
    "### Initialiser visdom et envoyer le plot à visdom via requête Http post\n",
    "Avant cette étape, il faut lancer le service de visdom dans le terminal.\n",
    "```bash\n",
    "> visdom\n",
    "```\n",
    "L'address du web UI de visdom sera affichée dans la console."
   ]
  },
  {
   "cell_type": "code",
   "execution_count": null,
   "metadata": {
    "scrolled": true
   },
   "outputs": [],
   "source": [
    "vis = visdom.Visdom()\n",
    "vis.plotlyplot(fig, win=\"mywin3\")"
   ]
  },
  {
   "cell_type": "markdown",
   "metadata": {},
   "source": [
    "### Ajuster la taille de la fenêtre"
   ]
  },
  {
   "cell_type": "code",
   "execution_count": null,
   "metadata": {},
   "outputs": [],
   "source": [
    "vis.update_window_opts(win = \"mywin3\", opts=dict(width=1200, height=1500))"
   ]
  },
  {
   "cell_type": "markdown",
   "metadata": {},
   "source": [
    "Après l'exécution de ce script, ouvrir le web UI de visdom, le plot est présenté dans une fenêtre intéractive."
   ]
  },
  {
   "cell_type": "code",
   "execution_count": null,
   "metadata": {},
   "outputs": [],
   "source": []
  }
 ],
 "metadata": {
  "kernelspec": {
   "display_name": "timeseries",
   "language": "python",
   "name": "timeseries"
  },
  "language_info": {
   "codemirror_mode": {
    "name": "ipython",
    "version": 3
   },
   "file_extension": ".py",
   "mimetype": "text/x-python",
   "name": "python",
   "nbconvert_exporter": "python",
   "pygments_lexer": "ipython3",
   "version": "3.7.7"
  }
 },
 "nbformat": 4,
 "nbformat_minor": 4
}
