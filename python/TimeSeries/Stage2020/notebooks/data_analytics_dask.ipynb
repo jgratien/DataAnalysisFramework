{
 "cells": [
  {
   "cell_type": "markdown",
   "metadata": {},
   "source": [
    "# TimeSeries DataAnalytics Tutorial\n",
    "\n"
   ]
  },
  {
   "cell_type": "code",
   "execution_count": null,
   "metadata": {},
   "outputs": [],
   "source": [
    "%matplotlib inline\n",
    "\n",
    "import visdom\n",
    "import numpy as np\n",
    "import chart_studio.plotly as py\n",
    "import plotly.express as px\n",
    "import plotly.tools as tls\n",
    "from plotly.subplots import make_subplots\n",
    "import plotly.graph_objects as go\n",
    "import pandas as pd\n",
    "from datetime import datetime\n",
    "import requests\n",
    "import json\n",
    "import matplotlib.pyplot as plt"
   ]
  },
  {
   "cell_type": "code",
   "execution_count": null,
   "metadata": {},
   "outputs": [],
   "source": [
    "import sys\n",
    "sys.path.append(\"../TimeSeriesTools\")\n",
    "import mongodb_utils\n",
    "db_host= 'localhost'\n",
    "port = '27018'\n",
    "db_name='TimeSeriesBench'\n",
    "mongodb_client = mongodb_utils.mongodb_connect(db_host, port)"
   ]
  },
  {
   "cell_type": "code",
   "execution_count": null,
   "metadata": {},
   "outputs": [],
   "source": [
    "import kairosdb_utils\n",
    "global kairosdb_server \n",
    "kairosdb_server = \"http://localhost:9080\""
   ]
  },
  {
   "cell_type": "code",
   "execution_count": null,
   "metadata": {},
   "outputs": [],
   "source": [
    "import influxdb_utils\n",
    "db_host= 'localhost'\n",
    "port = '8086'\n",
    "db_name='TimeSeriesBench'\n",
    "influxdb_client = influxdb_utils.influxdb_connect(db_host, port)"
   ]
  },
  {
   "cell_type": "code",
   "execution_count": null,
   "metadata": {},
   "outputs": [],
   "source": [
    "def get_collection_scheme(db_name,scheme_name):\n",
    "    db = mongodb_client[db_name]\n",
    "    schemes_coll = db['schemes']\n",
    "    scheme = schemes_coll.find({\"name\":scheme_name})\n",
    "    return scheme"
   ]
  },
  {
   "cell_type": "code",
   "execution_count": null,
   "metadata": {},
   "outputs": [],
   "source": [
    "def mongodb_find_all_data(db_name,coll_name,scheme):\n",
    "    data = mongodb_utils.get_all_data(mongodb_client,db_name,coll_name,scheme)\n",
    "    return data"
   ]
  },
  {
   "cell_type": "code",
   "execution_count": null,
   "metadata": {},
   "outputs": [],
   "source": [
    "def mongodb_find_data_select_by_tags(db_name,coll_name,tags,scheme):\n",
    "    data = mongodb_utils.get_data_select_by_tags(mongodb_client,db_name,coll_name,tags,scheme)\n",
    "    return data"
   ]
  },
  {
   "cell_type": "code",
   "execution_count": null,
   "metadata": {},
   "outputs": [],
   "source": [
    "def kairosdb_find_all_data(db_name,coll_name,scheme):\n",
    "    data = kairosdb_utils.get_all_data(kairosdb_server,db_name,coll_name,scheme)\n",
    "    return data"
   ]
  },
  {
   "cell_type": "code",
   "execution_count": null,
   "metadata": {},
   "outputs": [],
   "source": [
    "def influxdb_find_all_data(db_name,coll_name,scheme):\n",
    "    data = influxdb_utils.get_all_data(influxdb_client,db_name,coll_name,scheme)\n",
    "    return data"
   ]
  },
  {
   "cell_type": "code",
   "execution_count": null,
   "metadata": {},
   "outputs": [],
   "source": [
    "def clean_data(scheme,data):\n",
    "    from cerberus import Validator\n",
    "    v = Validator(scheme)\n",
    "    for index,item in enumerate(data,start=0):\n",
    "        res = v.validate(item)\n",
    "        if (res == False):\n",
    "            print(\"corrupt data in line :\",index,\", error : \",v.errors)\n",
    "            del data[index]"
   ]
  },
  {
   "cell_type": "code",
   "execution_count": null,
   "metadata": {},
   "outputs": [],
   "source": [
    "def str_to_unix(date):\n",
    "    dt = datetime.strptime(date, '%d/%m/%Y %H:%M:%S')\n",
    "    epoch = datetime.utcfromtimestamp(0)\n",
    "    return int((dt - epoch).total_seconds()) * 1000"
   ]
  },
  {
   "cell_type": "code",
   "execution_count": null,
   "metadata": {},
   "outputs": [],
   "source": [
    "def to_unix_time(dt):\n",
    "    epoch =  datetime.utcfromtimestamp(7200)\n",
    "    return (dt - epoch).total_seconds() * 1000"
   ]
  },
  {
   "cell_type": "code",
   "execution_count": null,
   "metadata": {},
   "outputs": [],
   "source": [
    "def type_convert(df):\n",
    "    head = df.columns\n",
    "    for i in range(1,len(head)) : \n",
    "        df[head[i]] = pd.to_numeric(df[head[i]])"
   ]
  },
  {
   "cell_type": "markdown",
   "metadata": {},
   "source": [
    "## I/ Requete des données\n",
    "\n",
    "### A/ Données SmartGrid"
   ]
  },
  {
   "cell_type": "code",
   "execution_count": null,
   "metadata": {},
   "outputs": [],
   "source": [
    "scheme = get_collection_scheme(db_name,'SmartGrid')"
   ]
  },
  {
   "cell_type": "code",
   "execution_count": null,
   "metadata": {},
   "outputs": [],
   "source": [
    "scheme[0]['value']"
   ]
  },
  {
   "cell_type": "code",
   "execution_count": null,
   "metadata": {},
   "outputs": [],
   "source": [
    "%%time\n",
    "coll_name='SmartGridCryolite20190101OneMonthBS10000d'\n",
    "data = mongodb_find_all_data(db_name,coll_name,scheme[0]['value'])\n",
    "print(\"number of docs\",len(data))"
   ]
  },
  {
   "cell_type": "code",
   "execution_count": null,
   "metadata": {},
   "outputs": [],
   "source": [
    "%%time\n",
    "coll_name='SmartGridCryolite20190101OneMonthBS10000d'\n",
    "tags = { 'Buiding' : 'CRY', 'Device' : 'CENTRALE_SOLAIRE', 'Measure' : 'CRY_act_prod_pow' }\n",
    "data = mongodb_find_data_select_by_tags(db_name,coll_name,tags,scheme[0]['value'])\n",
    "print(\"number of docs\",len(data))"
   ]
  },
  {
   "cell_type": "markdown",
   "metadata": {},
   "source": [
    "### A/ Standard method with Pandas"
   ]
  },
  {
   "cell_type": "code",
   "execution_count": null,
   "metadata": {},
   "outputs": [],
   "source": [
    "%%time\n",
    "df = pd.DataFrame(data)\n",
    "df[0:5]"
   ]
  },
  {
   "cell_type": "code",
   "execution_count": null,
   "metadata": {},
   "outputs": [],
   "source": [
    "df.tagname.unique()"
   ]
  },
  {
   "cell_type": "code",
   "execution_count": null,
   "metadata": {},
   "outputs": [],
   "source": [
    "def str_to_timestamp(date):\n",
    "    dt = datetime.strptime(date, '%d/%m/%Y %H:%M:%S')\n",
    "    d0 = datetime(2019,1,1,0,0,0,0)\n",
    "    return int((dt - epoch).total_seconds())"
   ]
  },
  {
   "cell_type": "code",
   "execution_count": null,
   "metadata": {},
   "outputs": [],
   "source": [
    "df['timestamp'] = df['timestamp'].apply(str_to_timestamp)"
   ]
  },
  {
   "cell_type": "code",
   "execution_count": null,
   "metadata": {},
   "outputs": [],
   "source": [
    "df['day-id'] = df['timestamp']//(3600*24)"
   ]
  },
  {
   "cell_type": "code",
   "execution_count": null,
   "metadata": {},
   "outputs": [],
   "source": [
    "df['hour-id'] = df['timestamp'] % (3600*24) // 3600"
   ]
  },
  {
   "cell_type": "code",
   "execution_count": null,
   "metadata": {},
   "outputs": [],
   "source": [
    "df['value'] = pd.to_numeric(df['value'])"
   ]
  },
  {
   "cell_type": "code",
   "execution_count": null,
   "metadata": {},
   "outputs": [],
   "source": [
    "import matplotlib.colors as mcolors\n",
    "color_names = [ c for c in mcolors.CSS4_COLORS.keys()]"
   ]
  },
  {
   "cell_type": "code",
   "execution_count": null,
   "metadata": {},
   "outputs": [],
   "source": [
    "df.tagname.unique()"
   ]
  },
  {
   "cell_type": "code",
   "execution_count": null,
   "metadata": {},
   "outputs": [],
   "source": [
    "tagnames = ['CRY.CENTRALE_SOLAIRE.CRY_act_prod_pow','CRY.CENTRALE_SOLAIRE.CRY_app_prod_pow','CRY.CENTRALE_SOLAIRE.CRY_rea_prod_pow']\n",
    "#tagnames = df.tagname.unique()"
   ]
  },
  {
   "cell_type": "code",
   "execution_count": null,
   "metadata": {},
   "outputs": [],
   "source": [
    "%%time\n",
    "results =[]\n",
    "for tag_id,tagname in enumerate(tagnames):\n",
    "    for day_id in range(30):\n",
    "        results.append(compute_curve(df,day_id,tagname))"
   ]
  },
  {
   "cell_type": "markdown",
   "metadata": {},
   "source": [
    "### B/ Using DASK"
   ]
  },
  {
   "cell_type": "code",
   "execution_count": null,
   "metadata": {},
   "outputs": [],
   "source": [
    "def compute_curve(tag_df,day_id):\n",
    "    day_df = tag_df.loc[(df['day-id'] == day_id)]\n",
    "    vh_df = day_df[['hour-id','value']].groupby('hour-id').mean().reset_index().sort_values(by='hour-id')\n",
    "    x = vh_df['hour-id']\n",
    "    y = vh_df['value']\n",
    "    return x,y"
   ]
  },
  {
   "cell_type": "code",
   "execution_count": null,
   "metadata": {},
   "outputs": [],
   "source": [
    "import dask as da\n",
    "from dask.distributed import Client\n",
    "from dask import delayed, compute\n",
    "client = Client(n_workers=4)"
   ]
  },
  {
   "cell_type": "code",
   "execution_count": null,
   "metadata": {},
   "outputs": [],
   "source": [
    "%%time\n",
    "arrays =[]\n",
    "for tag_id,tagname in enumerate(tagnames):\n",
    "    tag_df = df.loc[df['tagname'] == tagname]\n",
    "    for day_id in range(30):\n",
    "        arrays.append(compute_curve(tag_df,day_id))"
   ]
  },
  {
   "cell_type": "code",
   "execution_count": null,
   "metadata": {},
   "outputs": [],
   "source": [
    "%%time\n",
    "import dask.dataframe as dd\n",
    "dask_df = dd.from_pandas(df,npartitions=16)"
   ]
  },
  {
   "cell_type": "code",
   "execution_count": null,
   "metadata": {},
   "outputs": [],
   "source": [
    "tag_id = 0\n",
    "tag_name = tagnames[tag_id]\n",
    "tag_df = dask_df[dask_df['tagname'] == tagname]"
   ]
  },
  {
   "cell_type": "code",
   "execution_count": null,
   "metadata": {},
   "outputs": [],
   "source": [
    "day_df = tag_df[(tag_df['day-id'] == day_id)]"
   ]
  },
  {
   "cell_type": "code",
   "execution_count": null,
   "metadata": {},
   "outputs": [],
   "source": [
    "vh_df = day_df[['hour-id','value']].groupby('hour-id').mean()"
   ]
  },
  {
   "cell_type": "code",
   "execution_count": null,
   "metadata": {},
   "outputs": [],
   "source": [
    "vh_df.compute()"
   ]
  },
  {
   "cell_type": "code",
   "execution_count": null,
   "metadata": {},
   "outputs": [],
   "source": [
    "%%time\n",
    "results = da.compute(*arrays)"
   ]
  },
  {
   "cell_type": "code",
   "execution_count": null,
   "metadata": {},
   "outputs": [],
   "source": []
  }
 ],
 "metadata": {
  "kernelspec": {
   "display_name": "timeseries",
   "language": "python",
   "name": "timeseries"
  },
  "language_info": {
   "codemirror_mode": {
    "name": "ipython",
    "version": 3
   },
   "file_extension": ".py",
   "mimetype": "text/x-python",
   "name": "python",
   "nbconvert_exporter": "python",
   "pygments_lexer": "ipython3",
   "version": "3.7.7"
  }
 },
 "nbformat": 4,
 "nbformat_minor": 4
}
