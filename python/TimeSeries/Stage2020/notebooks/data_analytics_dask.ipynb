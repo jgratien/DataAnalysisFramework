{
 "cells": [
  {
   "cell_type": "markdown",
   "metadata": {},
   "source": [
    "# TimeSeries DataAnalytics Tutorial\n",
    "\n"
   ]
  },
  {
   "cell_type": "code",
   "execution_count": 1,
   "metadata": {},
   "outputs": [],
   "source": [
    "import visdom\n",
    "import numpy as np\n",
    "import chart_studio.plotly as py\n",
    "import plotly.express as px\n",
    "import plotly.tools as tls\n",
    "from plotly.subplots import make_subplots\n",
    "import plotly.graph_objects as go\n",
    "import pandas as pd\n",
    "from datetime import datetime\n",
    "import requests\n",
    "import json\n",
    "import matplotlib.pyplot as plt"
   ]
  },
  {
   "cell_type": "code",
   "execution_count": 2,
   "metadata": {},
   "outputs": [
    {
     "name": "stdout",
     "output_type": "stream",
     "text": [
      "Trying to connect to MongoDB server: localhost on port: 27018\n"
     ]
    }
   ],
   "source": [
    "import sys\n",
    "sys.path.append(\"../TimeSeriesTools\")\n",
    "import mongodb_utils\n",
    "db_host= 'localhost'\n",
    "port = '27018'\n",
    "db_name='TimeSeriesBench'\n",
    "mongodb_client = mongodb_utils.mongodb_connect(db_host, port)"
   ]
  },
  {
   "cell_type": "code",
   "execution_count": 3,
   "metadata": {},
   "outputs": [],
   "source": [
    "def get_collection_scheme(db_name,scheme_name):\n",
    "    db = mongodb_client[db_name]\n",
    "    schemes_coll = db['schemes']\n",
    "    scheme = schemes_coll.find({\"name\":scheme_name})\n",
    "    return scheme"
   ]
  },
  {
   "cell_type": "code",
   "execution_count": 4,
   "metadata": {},
   "outputs": [],
   "source": [
    "def mongodb_find_all_data(db_name,coll_name,scheme):\n",
    "    data = mongodb_utils.get_all_data(mongodb_client,db_name,coll_name,scheme)\n",
    "    return data"
   ]
  },
  {
   "cell_type": "code",
   "execution_count": 5,
   "metadata": {},
   "outputs": [],
   "source": [
    "def mongodb_find_data_select_by_tags(db_name,coll_name,tags,scheme):\n",
    "    data = mongodb_utils.get_data_select_by_tags(mongodb_client,db_name,coll_name,tags,scheme)\n",
    "    return data"
   ]
  },
  {
   "cell_type": "markdown",
   "metadata": {},
   "source": [
    "## I/ Requete des données\n",
    "\n",
    "### A/ Données SmartGrid"
   ]
  },
  {
   "cell_type": "code",
   "execution_count": 6,
   "metadata": {},
   "outputs": [],
   "source": [
    "scheme = get_collection_scheme(db_name,'SmartGrid')"
   ]
  },
  {
   "cell_type": "code",
   "execution_count": 7,
   "metadata": {},
   "outputs": [
    {
     "data": {
      "text/plain": [
       "{'_id': {'required': True},\n",
       " 'timestamp': {'type': 'string', 'required': True, 'empty': False},\n",
       " 'tagname': {'type': 'string', 'required': True, 'empty': False},\n",
       " 'value': {'type': 'string', 'required': True, 'empty': False},\n",
       " 'quality': {'type': 'string', 'required': True, 'empty': False}}"
      ]
     },
     "execution_count": 7,
     "metadata": {},
     "output_type": "execute_result"
    }
   ],
   "source": [
    "scheme[0]['value']"
   ]
  },
  {
   "cell_type": "code",
   "execution_count": 8,
   "metadata": {},
   "outputs": [
    {
     "name": "stdout",
     "output_type": "stream",
     "text": [
      "769598  documents found\n",
      "number of docs 769598\n",
      "CPU times: user 3.65 s, sys: 432 ms, total: 4.09 s\n",
      "Wall time: 4.37 s\n"
     ]
    }
   ],
   "source": [
    "%%time\n",
    "coll_name='SmartGridCryolite20190101OneMonthBS10000d'\n",
    "data = mongodb_find_all_data(db_name,coll_name,scheme[0]['value'])\n",
    "print(\"number of docs\",len(data))"
   ]
  },
  {
   "cell_type": "markdown",
   "metadata": {},
   "source": [
    "### B/ Standard method with Pandas"
   ]
  },
  {
   "cell_type": "code",
   "execution_count": 9,
   "metadata": {},
   "outputs": [
    {
     "name": "stdout",
     "output_type": "stream",
     "text": [
      "CPU times: user 909 ms, sys: 41.1 ms, total: 950 ms\n",
      "Wall time: 947 ms\n"
     ]
    },
    {
     "data": {
      "text/html": [
       "<div>\n",
       "<style scoped>\n",
       "    .dataframe tbody tr th:only-of-type {\n",
       "        vertical-align: middle;\n",
       "    }\n",
       "\n",
       "    .dataframe tbody tr th {\n",
       "        vertical-align: top;\n",
       "    }\n",
       "\n",
       "    .dataframe thead th {\n",
       "        text-align: right;\n",
       "    }\n",
       "</style>\n",
       "<table border=\"1\" class=\"dataframe\">\n",
       "  <thead>\n",
       "    <tr style=\"text-align: right;\">\n",
       "      <th></th>\n",
       "      <th>_id</th>\n",
       "      <th>timestamp</th>\n",
       "      <th>tagname</th>\n",
       "      <th>value</th>\n",
       "      <th>quality</th>\n",
       "    </tr>\n",
       "  </thead>\n",
       "  <tbody>\n",
       "    <tr>\n",
       "      <th>0</th>\n",
       "      <td>5ee31951b4320c151b0560db</td>\n",
       "      <td>01/01/2019 09:15:12</td>\n",
       "      <td>CRY.CENTRALE_SOLAIRE.CRY_act_prod_pow</td>\n",
       "      <td>1.000000000</td>\n",
       "      <td>100.0</td>\n",
       "    </tr>\n",
       "    <tr>\n",
       "      <th>1</th>\n",
       "      <td>5ee31951b4320c151b0560dc</td>\n",
       "      <td>01/01/2019 09:15:18</td>\n",
       "      <td>CRY.CENTRALE_SOLAIRE.CRY_act_prod_pow</td>\n",
       "      <td>0.000000000</td>\n",
       "      <td>100.0</td>\n",
       "    </tr>\n",
       "    <tr>\n",
       "      <th>2</th>\n",
       "      <td>5ee31951b4320c151b0560dd</td>\n",
       "      <td>01/01/2019 09:15:37</td>\n",
       "      <td>CRY.CENTRALE_SOLAIRE.CRY_act_prod_pow</td>\n",
       "      <td>1.000000000</td>\n",
       "      <td>100.0</td>\n",
       "    </tr>\n",
       "    <tr>\n",
       "      <th>3</th>\n",
       "      <td>5ee31951b4320c151b0560de</td>\n",
       "      <td>01/01/2019 09:15:43</td>\n",
       "      <td>CRY.CENTRALE_SOLAIRE.CRY_act_prod_pow</td>\n",
       "      <td>0.000000000</td>\n",
       "      <td>100.0</td>\n",
       "    </tr>\n",
       "    <tr>\n",
       "      <th>4</th>\n",
       "      <td>5ee31951b4320c151b0560df</td>\n",
       "      <td>01/01/2019 09:15:53</td>\n",
       "      <td>CRY.CENTRALE_SOLAIRE.CRY_act_prod_pow</td>\n",
       "      <td>1.000000000</td>\n",
       "      <td>100.0</td>\n",
       "    </tr>\n",
       "  </tbody>\n",
       "</table>\n",
       "</div>"
      ],
      "text/plain": [
       "                        _id            timestamp  \\\n",
       "0  5ee31951b4320c151b0560db  01/01/2019 09:15:12   \n",
       "1  5ee31951b4320c151b0560dc  01/01/2019 09:15:18   \n",
       "2  5ee31951b4320c151b0560dd  01/01/2019 09:15:37   \n",
       "3  5ee31951b4320c151b0560de  01/01/2019 09:15:43   \n",
       "4  5ee31951b4320c151b0560df  01/01/2019 09:15:53   \n",
       "\n",
       "                                 tagname        value quality  \n",
       "0  CRY.CENTRALE_SOLAIRE.CRY_act_prod_pow  1.000000000   100.0  \n",
       "1  CRY.CENTRALE_SOLAIRE.CRY_act_prod_pow  0.000000000   100.0  \n",
       "2  CRY.CENTRALE_SOLAIRE.CRY_act_prod_pow  1.000000000   100.0  \n",
       "3  CRY.CENTRALE_SOLAIRE.CRY_act_prod_pow  0.000000000   100.0  \n",
       "4  CRY.CENTRALE_SOLAIRE.CRY_act_prod_pow  1.000000000   100.0  "
      ]
     },
     "execution_count": 9,
     "metadata": {},
     "output_type": "execute_result"
    }
   ],
   "source": [
    "%%time\n",
    "df = pd.DataFrame(data)\n",
    "df[0:5]"
   ]
  },
  {
   "cell_type": "code",
   "execution_count": 10,
   "metadata": {},
   "outputs": [
    {
     "data": {
      "text/plain": [
       "array(['CRY.CENTRALE_SOLAIRE.CRY_act_prod_pow',\n",
       "       'CRY.CENTRALE_SOLAIRE.CRY_app_prod_pow',\n",
       "       'CRY.CENTRALE_SOLAIRE.CRY_rea_prod_pow',\n",
       "       'CRY.TGBT_NORMAL.CRY_act_cons_pow',\n",
       "       'CRY.TGBT_NORMAL.CRY_app_cons_pow',\n",
       "       'CRY.TGBT_NORMAL.CRY_rapp_cons_ene',\n",
       "       'CRY.TGBT_NORMAL.CRY_rea_cons_pow'], dtype=object)"
      ]
     },
     "execution_count": 10,
     "metadata": {},
     "output_type": "execute_result"
    }
   ],
   "source": [
    "df.tagname.unique()"
   ]
  },
  {
   "cell_type": "code",
   "execution_count": 11,
   "metadata": {},
   "outputs": [],
   "source": [
    "def str_to_timestamp(date):\n",
    "    dt = datetime.strptime(date, '%d/%m/%Y %H:%M:%S')\n",
    "    d0 = datetime(2019,1,1,0,0,0,0)\n",
    "    return int((dt - d0).total_seconds())"
   ]
  },
  {
   "cell_type": "code",
   "execution_count": 12,
   "metadata": {},
   "outputs": [],
   "source": [
    "df['timestamp'] = df['timestamp'].apply(str_to_timestamp)"
   ]
  },
  {
   "cell_type": "code",
   "execution_count": 13,
   "metadata": {},
   "outputs": [],
   "source": [
    "df['day-id'] = df['timestamp']//(3600*24)"
   ]
  },
  {
   "cell_type": "code",
   "execution_count": 14,
   "metadata": {},
   "outputs": [],
   "source": [
    "df['hour-id'] = df['timestamp'] % (3600*24) // 3600"
   ]
  },
  {
   "cell_type": "code",
   "execution_count": 15,
   "metadata": {},
   "outputs": [],
   "source": [
    "df['value'] = pd.to_numeric(df['value'])"
   ]
  },
  {
   "cell_type": "code",
   "execution_count": 16,
   "metadata": {},
   "outputs": [],
   "source": [
    "tagnames = df.tagname.unique()"
   ]
  },
  {
   "cell_type": "code",
   "execution_count": 17,
   "metadata": {},
   "outputs": [],
   "source": [
    "def compute_curve(df,day_id,tagname):\n",
    "    day_df = df.loc[(df['day-id'] == day_id) & (df['tagname'] == tagname )]\n",
    "    vh_df = day_df[['hour-id','value']].groupby('hour-id').mean().reset_index().sort_values(by='hour-id')\n",
    "    x = vh_df['hour-id']\n",
    "    y = vh_df['value']\n",
    "    return x,y"
   ]
  },
  {
   "cell_type": "code",
   "execution_count": 18,
   "metadata": {},
   "outputs": [
    {
     "name": "stdout",
     "output_type": "stream",
     "text": [
      "CPU times: user 10.3 s, sys: 24.2 ms, total: 10.3 s\n",
      "Wall time: 10.5 s\n"
     ]
    }
   ],
   "source": [
    "%%time\n",
    "results =[]\n",
    "for tag_id,tagname in enumerate(tagnames):\n",
    "    for day_id in range(30):\n",
    "        results.append(compute_curve(df,day_id,tagname))"
   ]
  },
  {
   "cell_type": "markdown",
   "metadata": {},
   "source": [
    "### C/ Parallel computation using DASK"
   ]
  },
  {
   "cell_type": "code",
   "execution_count": 19,
   "metadata": {},
   "outputs": [],
   "source": [
    "def str_to_timestamp(date):\n",
    "    dt = datetime.strptime(date, '%d/%m/%Y %H:%M:%S')\n",
    "    d0 = datetime(2019,1,1,0,0,0,0)\n",
    "    return int((dt - d0).total_seconds())"
   ]
  },
  {
   "cell_type": "code",
   "execution_count": 20,
   "metadata": {},
   "outputs": [],
   "source": [
    "import dask as da\n",
    "from dask.distributed import Client\n",
    "from dask import delayed, compute\n",
    "client = Client(n_workers=4)"
   ]
  },
  {
   "cell_type": "code",
   "execution_count": 21,
   "metadata": {},
   "outputs": [
    {
     "name": "stdout",
     "output_type": "stream",
     "text": [
      "769598  documents found\n",
      "number of docs 769598\n"
     ]
    }
   ],
   "source": [
    "coll_name='SmartGridCryolite20190101OneMonthBS10000d'\n",
    "data = mongodb_find_all_data(db_name,coll_name,scheme[0]['value'])\n",
    "print(\"number of docs\",len(data))"
   ]
  },
  {
   "cell_type": "code",
   "execution_count": 22,
   "metadata": {},
   "outputs": [],
   "source": [
    "for i, d in enumerate(data):\n",
    "    d['_id'] = i"
   ]
  },
  {
   "cell_type": "code",
   "execution_count": 23,
   "metadata": {},
   "outputs": [
    {
     "name": "stdout",
     "output_type": "stream",
     "text": [
      "CPU times: user 986 ms, sys: 33 ms, total: 1.02 s\n",
      "Wall time: 1.01 s\n"
     ]
    },
    {
     "data": {
      "text/html": [
       "<div>\n",
       "<style scoped>\n",
       "    .dataframe tbody tr th:only-of-type {\n",
       "        vertical-align: middle;\n",
       "    }\n",
       "\n",
       "    .dataframe tbody tr th {\n",
       "        vertical-align: top;\n",
       "    }\n",
       "\n",
       "    .dataframe thead th {\n",
       "        text-align: right;\n",
       "    }\n",
       "</style>\n",
       "<table border=\"1\" class=\"dataframe\">\n",
       "  <thead>\n",
       "    <tr style=\"text-align: right;\">\n",
       "      <th></th>\n",
       "      <th>_id</th>\n",
       "      <th>timestamp</th>\n",
       "      <th>tagname</th>\n",
       "      <th>value</th>\n",
       "      <th>quality</th>\n",
       "    </tr>\n",
       "  </thead>\n",
       "  <tbody>\n",
       "    <tr>\n",
       "      <th>0</th>\n",
       "      <td>0</td>\n",
       "      <td>01/01/2019 09:15:12</td>\n",
       "      <td>CRY.CENTRALE_SOLAIRE.CRY_act_prod_pow</td>\n",
       "      <td>1.000000000</td>\n",
       "      <td>100.0</td>\n",
       "    </tr>\n",
       "    <tr>\n",
       "      <th>1</th>\n",
       "      <td>1</td>\n",
       "      <td>01/01/2019 09:15:18</td>\n",
       "      <td>CRY.CENTRALE_SOLAIRE.CRY_act_prod_pow</td>\n",
       "      <td>0.000000000</td>\n",
       "      <td>100.0</td>\n",
       "    </tr>\n",
       "    <tr>\n",
       "      <th>2</th>\n",
       "      <td>2</td>\n",
       "      <td>01/01/2019 09:15:37</td>\n",
       "      <td>CRY.CENTRALE_SOLAIRE.CRY_act_prod_pow</td>\n",
       "      <td>1.000000000</td>\n",
       "      <td>100.0</td>\n",
       "    </tr>\n",
       "    <tr>\n",
       "      <th>3</th>\n",
       "      <td>3</td>\n",
       "      <td>01/01/2019 09:15:43</td>\n",
       "      <td>CRY.CENTRALE_SOLAIRE.CRY_act_prod_pow</td>\n",
       "      <td>0.000000000</td>\n",
       "      <td>100.0</td>\n",
       "    </tr>\n",
       "    <tr>\n",
       "      <th>4</th>\n",
       "      <td>4</td>\n",
       "      <td>01/01/2019 09:15:53</td>\n",
       "      <td>CRY.CENTRALE_SOLAIRE.CRY_act_prod_pow</td>\n",
       "      <td>1.000000000</td>\n",
       "      <td>100.0</td>\n",
       "    </tr>\n",
       "  </tbody>\n",
       "</table>\n",
       "</div>"
      ],
      "text/plain": [
       "   _id            timestamp                                tagname  \\\n",
       "0    0  01/01/2019 09:15:12  CRY.CENTRALE_SOLAIRE.CRY_act_prod_pow   \n",
       "1    1  01/01/2019 09:15:18  CRY.CENTRALE_SOLAIRE.CRY_act_prod_pow   \n",
       "2    2  01/01/2019 09:15:37  CRY.CENTRALE_SOLAIRE.CRY_act_prod_pow   \n",
       "3    3  01/01/2019 09:15:43  CRY.CENTRALE_SOLAIRE.CRY_act_prod_pow   \n",
       "4    4  01/01/2019 09:15:53  CRY.CENTRALE_SOLAIRE.CRY_act_prod_pow   \n",
       "\n",
       "         value quality  \n",
       "0  1.000000000   100.0  \n",
       "1  0.000000000   100.0  \n",
       "2  1.000000000   100.0  \n",
       "3  0.000000000   100.0  \n",
       "4  1.000000000   100.0  "
      ]
     },
     "execution_count": 23,
     "metadata": {},
     "output_type": "execute_result"
    }
   ],
   "source": [
    "%%time\n",
    "df = pd.DataFrame(data)\n",
    "df[0:5]"
   ]
  },
  {
   "cell_type": "code",
   "execution_count": 24,
   "metadata": {},
   "outputs": [
    {
     "data": {
      "text/plain": [
       "{'CRY.CENTRALE_SOLAIRE.CRY_act_prod_pow': 0,\n",
       " 'CRY.CENTRALE_SOLAIRE.CRY_app_prod_pow': 1,\n",
       " 'CRY.CENTRALE_SOLAIRE.CRY_rea_prod_pow': 2,\n",
       " 'CRY.TGBT_NORMAL.CRY_act_cons_pow': 3,\n",
       " 'CRY.TGBT_NORMAL.CRY_app_cons_pow': 4,\n",
       " 'CRY.TGBT_NORMAL.CRY_rapp_cons_ene': 5,\n",
       " 'CRY.TGBT_NORMAL.CRY_rea_cons_pow': 6}"
      ]
     },
     "execution_count": 24,
     "metadata": {},
     "output_type": "execute_result"
    }
   ],
   "source": [
    "tagnames = df.tagname.unique()\n",
    "tag_ids = { tags:i for i,tags in enumerate(tagnames) }\n",
    "tag_ids"
   ]
  },
  {
   "cell_type": "code",
   "execution_count": 25,
   "metadata": {},
   "outputs": [
    {
     "name": "stdout",
     "output_type": "stream",
     "text": [
      "CPU times: user 501 ms, sys: 50.2 ms, total: 551 ms\n",
      "Wall time: 591 ms\n"
     ]
    }
   ],
   "source": [
    "%%time\n",
    "import dask.dataframe as dd\n",
    "dask_df = dd.from_pandas(df,npartitions=32)"
   ]
  },
  {
   "cell_type": "code",
   "execution_count": 26,
   "metadata": {},
   "outputs": [
    {
     "name": "stdout",
     "output_type": "stream",
     "text": [
      "CPU times: user 1.62 s, sys: 195 ms, total: 1.81 s\n",
      "Wall time: 8.14 s\n"
     ]
    }
   ],
   "source": [
    "%%time\n",
    "timestamp_sec = dask_df['timestamp'].apply(lambda x : str_to_timestamp(x), meta=('x', str)).compute()\n",
    "tag_id = dask_df['tagname'].apply(lambda x : tag_ids[x], meta=('x', str)).compute()\n",
    "day_id = timestamp_sec // (3600 * 24)\n",
    "hour_id = timestamp_sec % (3600 * 24) // 3600\n",
    "dask_df['tag_hour_id'] = 24 * tag_id + hour_id\n",
    "dask_df['value_d'] = dask_df.value.astype(np.float)\n",
    "dask_mean = dask_df[['tag_hour_id', 'value_d']].groupby('tag_hour_id').mean()"
   ]
  },
  {
   "cell_type": "code",
   "execution_count": 27,
   "metadata": {},
   "outputs": [
    {
     "name": "stdout",
     "output_type": "stream",
     "text": [
      "CPU times: user 828 ms, sys: 81.5 ms, total: 910 ms\n",
      "Wall time: 1.37 s\n"
     ]
    }
   ],
   "source": [
    "%%time\n",
    "results = dask_mean.compute()"
   ]
  },
  {
   "cell_type": "code",
   "execution_count": 28,
   "metadata": {},
   "outputs": [
    {
     "data": {
      "text/html": [
       "<div>\n",
       "<style scoped>\n",
       "    .dataframe tbody tr th:only-of-type {\n",
       "        vertical-align: middle;\n",
       "    }\n",
       "\n",
       "    .dataframe tbody tr th {\n",
       "        vertical-align: top;\n",
       "    }\n",
       "\n",
       "    .dataframe thead th {\n",
       "        text-align: right;\n",
       "    }\n",
       "</style>\n",
       "<table border=\"1\" class=\"dataframe\">\n",
       "  <thead>\n",
       "    <tr style=\"text-align: right;\">\n",
       "      <th></th>\n",
       "      <th>value_d</th>\n",
       "    </tr>\n",
       "    <tr>\n",
       "      <th>tag_hour_id</th>\n",
       "      <th></th>\n",
       "    </tr>\n",
       "  </thead>\n",
       "  <tbody>\n",
       "    <tr>\n",
       "      <th>8</th>\n",
       "      <td>0.830727</td>\n",
       "    </tr>\n",
       "    <tr>\n",
       "      <th>9</th>\n",
       "      <td>3.514209</td>\n",
       "    </tr>\n",
       "    <tr>\n",
       "      <th>10</th>\n",
       "      <td>10.662128</td>\n",
       "    </tr>\n",
       "    <tr>\n",
       "      <th>11</th>\n",
       "      <td>15.661135</td>\n",
       "    </tr>\n",
       "    <tr>\n",
       "      <th>12</th>\n",
       "      <td>18.249163</td>\n",
       "    </tr>\n",
       "    <tr>\n",
       "      <th>...</th>\n",
       "      <td>...</td>\n",
       "    </tr>\n",
       "    <tr>\n",
       "      <th>163</th>\n",
       "      <td>0.049523</td>\n",
       "    </tr>\n",
       "    <tr>\n",
       "      <th>164</th>\n",
       "      <td>0.172178</td>\n",
       "    </tr>\n",
       "    <tr>\n",
       "      <th>165</th>\n",
       "      <td>-0.035105</td>\n",
       "    </tr>\n",
       "    <tr>\n",
       "      <th>166</th>\n",
       "      <td>0.012671</td>\n",
       "    </tr>\n",
       "    <tr>\n",
       "      <th>167</th>\n",
       "      <td>0.017286</td>\n",
       "    </tr>\n",
       "  </tbody>\n",
       "</table>\n",
       "<p>128 rows × 1 columns</p>\n",
       "</div>"
      ],
      "text/plain": [
       "               value_d\n",
       "tag_hour_id           \n",
       "8             0.830727\n",
       "9             3.514209\n",
       "10           10.662128\n",
       "11           15.661135\n",
       "12           18.249163\n",
       "...                ...\n",
       "163           0.049523\n",
       "164           0.172178\n",
       "165          -0.035105\n",
       "166           0.012671\n",
       "167           0.017286\n",
       "\n",
       "[128 rows x 1 columns]"
      ]
     },
     "execution_count": 28,
     "metadata": {},
     "output_type": "execute_result"
    },
    {
     "name": "stderr",
     "output_type": "stream",
     "text": [
      "distributed.utils - ERROR - 'start'\n",
      "Traceback (most recent call last):\n",
      "  File \"/work/irlin355_1/gratienj/local/anaconda3/envs/timeseries/lib/python3.7/site-packages/distributed/utils.py\", line 656, in log_errors\n",
      "    yield\n",
      "  File \"/work/irlin355_1/gratienj/local/anaconda3/envs/timeseries/lib/python3.7/site-packages/distributed/dashboard/components/shared.py\", line 312, in update\n",
      "    ts = metadata[\"keys\"][self.key]\n",
      "KeyError: 'start'\n",
      "tornado.application - ERROR - Exception in callback functools.partial(<function wrap.<locals>.null_wrapper at 0x2b18f6a88dd0>, <Task finished coro=<_needs_document_lock.<locals>._needs_document_lock_wrapper() done, defined at /work/irlin355_1/gratienj/local/anaconda3/envs/timeseries/lib/python3.7/site-packages/bokeh/server/session.py:51> exception=KeyError('start')>)\n",
      "Traceback (most recent call last):\n",
      "  File \"/work/irlin355_1/gratienj/local/anaconda3/envs/timeseries/lib/python3.7/site-packages/tornado/ioloop.py\", line 758, in _run_callback\n",
      "    ret = callback()\n",
      "  File \"/work/irlin355_1/gratienj/local/anaconda3/envs/timeseries/lib/python3.7/site-packages/tornado/stack_context.py\", line 300, in null_wrapper\n",
      "    return fn(*args, **kwargs)\n",
      "  File \"/work/irlin355_1/gratienj/local/anaconda3/envs/timeseries/lib/python3.7/site-packages/tornado/ioloop.py\", line 779, in _discard_future_result\n",
      "    future.result()\n",
      "  File \"/work/irlin355_1/gratienj/local/anaconda3/envs/timeseries/lib/python3.7/site-packages/bokeh/server/session.py\", line 67, in _needs_document_lock_wrapper\n",
      "    result = func(self, *args, **kwargs)\n",
      "  File \"/work/irlin355_1/gratienj/local/anaconda3/envs/timeseries/lib/python3.7/site-packages/bokeh/server/session.py\", line 195, in with_document_locked\n",
      "    return func(*args, **kwargs)\n",
      "  File \"/work/irlin355_1/gratienj/local/anaconda3/envs/timeseries/lib/python3.7/site-packages/bokeh/document/document.py\", line 1164, in wrapper\n",
      "    return doc._with_self_as_curdoc(invoke)\n",
      "  File \"/work/irlin355_1/gratienj/local/anaconda3/envs/timeseries/lib/python3.7/site-packages/bokeh/document/document.py\", line 1150, in _with_self_as_curdoc\n",
      "    return f()\n",
      "  File \"/work/irlin355_1/gratienj/local/anaconda3/envs/timeseries/lib/python3.7/site-packages/bokeh/document/document.py\", line 1163, in invoke\n",
      "    return f(*args, **kwargs)\n",
      "  File \"/work/irlin355_1/gratienj/local/anaconda3/envs/timeseries/lib/python3.7/site-packages/bokeh/document/document.py\", line 953, in remove_then_invoke\n",
      "    return callback(*args, **kwargs)\n",
      "  File \"/work/irlin355_1/gratienj/local/anaconda3/envs/timeseries/lib/python3.7/site-packages/distributed/dashboard/components/shared.py\", line 333, in <lambda>\n",
      "    self.doc().add_next_tick_callback(lambda: self.update(prof, metadata))\n",
      "  File \"/work/irlin355_1/gratienj/local/anaconda3/envs/timeseries/lib/python3.7/site-packages/bokeh/core/property/validation.py\", line 93, in func\n",
      "    return input_function(*args, **kwargs)\n",
      "  File \"/work/irlin355_1/gratienj/local/anaconda3/envs/timeseries/lib/python3.7/site-packages/distributed/dashboard/components/shared.py\", line 312, in update\n",
      "    ts = metadata[\"keys\"][self.key]\n",
      "KeyError: 'start'\n"
     ]
    }
   ],
   "source": [
    "results"
   ]
  },
  {
   "cell_type": "code",
   "execution_count": null,
   "metadata": {},
   "outputs": [],
   "source": [
    "client.stop()"
   ]
  }
 ],
 "metadata": {
  "kernelspec": {
   "display_name": "timeseries",
   "language": "python",
   "name": "timeseries"
  },
  "language_info": {
   "codemirror_mode": {
    "name": "ipython",
    "version": 3
   },
   "file_extension": ".py",
   "mimetype": "text/x-python",
   "name": "python",
   "nbconvert_exporter": "python",
   "pygments_lexer": "ipython3",
   "version": "3.7.7"
  }
 },
 "nbformat": 4,
 "nbformat_minor": 4
}
