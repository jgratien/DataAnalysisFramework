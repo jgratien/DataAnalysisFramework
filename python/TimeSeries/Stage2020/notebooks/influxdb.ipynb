{
 "cells": [
  {
   "cell_type": "markdown",
   "metadata": {},
   "source": [
    "# InfluxDB NoteBook"
   ]
  },
  {
   "cell_type": "markdown",
   "metadata": {},
   "source": [
    "## I/ Installation et configuration\n",
    "#### En cas d'utiliser systèm Ubuntu, ajoutez le référentiel InfluxData avec les commandes suivantes:\n",
    "```bash\n",
    "> wget -qO- https://repos.influxdata.com/influxdb.key | sudo apt-key add -\n",
    "source /etc/lsb-release\n",
    "echo \"deb https://repos.influxdata.com/${DISTRIB_ID,,} ${DISTRIB_CODENAME} stable\" | sudo tee /etc/apt/sources.list.d/influxdb.list\n",
    "```\n",
    "Installer InfluxDB directement avec sudo apt-get : \n",
    "```bash\n",
    "sudo apt-get update && sudo apt-get install influxdb\n",
    "```\n",
    "#### En cas d'installer InfluxDB en utilisant l'archive :\n",
    "Télécharger le package dans la [page officielle](https://portal.influxdata.com/downloads/) et le désarchiver : \n",
    "\n",
    "```bash\n",
    "wget https://dl.influxdata.com/influxdb/releases/influxdb-1.7.10-static_linux_amd64.tar.gz\n",
    "tar xvfz influxdb-1.7.10-static_linux_amd64.tar.gz\n",
    "```\n",
    "### Configurer le fichier de config\n",
    "La location du fichier de config est `/etc/influxdb/influxdb.conf`.\n",
    "\n",
    "Configurer les paramètres suivants: \n",
    "\n",
    "`meta`\n",
    "- dir = \"/home/ymo/local/var/influxdb/meta\"\n",
    "  \n",
    "`data`\n",
    "- dir = \"/home/ymo/local/var/influxdb/data\"\n",
    "- wal-dir = \"/home/ymo/local/var/influxdb/wal\"\n",
    "\n",
    "`http` : \n",
    "- enabled = true\n",
    "- flux-enabled = true\n",
    "- bind-address = \":8086\"\n",
    "\n",
    "### Tester l'installation de InfluxDB\n",
    "\n",
    "Lancer InfluxDB selon le fichier de configuration avec command suivant:\n",
    "```\n",
    "> sudo influxd -config /etc/influxdb/influxdb.conf\n",
    "```\n",
    "\n",
    "### Installer le client python\n",
    "Pour utiliser le client python de l'InfluxDB, il faut installer le package `influxdb` en utilisant la ligne commande suivante : \n",
    "\n",
    "```bash\n",
    "> pip install influxdb\n",
    "```\n",
    "avec anaconda : \n",
    "```bash\n",
    "> conda install -c pdrops influxdb\n",
    "```\n",
    "\n",
    "## II/ Information des dépendances \n",
    "| Dépendances | Version |\n",
    "| ------ | -----------: |\n",
    "| InfluxDB | 1.7.0 |\n",
    "| influxdb (client python) | 5.2.3 |\n"
   ]
  },
  {
   "cell_type": "code",
   "execution_count": null,
   "metadata": {},
   "outputs": [],
   "source": []
  }
 ],
 "metadata": {
  "kernelspec": {
   "display_name": "timeseries",
   "language": "python",
   "name": "timeseries"
  },
  "language_info": {
   "codemirror_mode": {
    "name": "ipython",
    "version": 3
   },
   "file_extension": ".py",
   "mimetype": "text/x-python",
   "name": "python",
   "nbconvert_exporter": "python",
   "pygments_lexer": "ipython3",
   "version": "3.7.7"
  }
 },
 "nbformat": 4,
 "nbformat_minor": 4
}
