{
 "cells": [
  {
   "cell_type": "markdown",
   "metadata": {},
   "source": [
    "# TimeSeries DataBase Evaluation Project\n",
    "\n",
    "## I/ Objectif du projet\n",
    "\n",
    "## II/ Présentation des Bases de données de type Time Series étudiées\n",
    "\n",
    "### A/ MongoDB\n",
    "\n",
    "#### Notebook [TutoMongoDB](./mongodb.ipynb)\n",
    "\n",
    "### B/ KairosDB\n",
    "\n",
    "#### Notebook [TutoKairosDB](./kairosdb.ipynb)\n",
    "\n",
    "### C/ InfluxDB\n",
    "\n",
    "#### Notebook [TutoInfluxDB](./influxdb.ipynb)\n",
    "\n",
    "### D/ Warp10\n",
    "\n",
    "#### Notebook [TutoWarp10](./warp10.ipynb)\n",
    "\n",
    "### E/ M3DB\n",
    "\n",
    "#### Notebook [TutoM3DB](./m3db.ipynb)\n",
    "\n",
    "\n",
    "## III/ Présentation des jeux de données étudiés\n",
    "\n",
    "### A/ Données SmartGrid\n",
    "\n",
    "Données issues de la base de données hystorian\n",
    "\n",
    "Il s'agit des données transmises par des capteurs du batiement Cryolite.\n",
    "\n",
    "Trois fichiers csv correspondant à :\n",
    "- Un jour de collecte\n",
    "- Une semaine de collecte\n",
    "- Un mois de collecte\n",
    "\n",
    "### B/ Données Eolienne\n",
    "\n",
    "### C/ Données de polution\n",
    "\n",
    "## IV/ Présentation de l' architecture du framework données\n",
    "\n",
    "## V/ Collecte des données\n",
    "\n",
    "Le notebook [KafkaDataCollection](data_producer.ipynb) illustre les méchanismes de collecte des données pour les 3 use case:\n",
    "- Données SmartGrid\n",
    "- Données Eolienne\n",
    "- Données de polution\n"
   ]
  },
  {
   "cell_type": "markdown",
   "metadata": {},
   "source": [
    "## VI/ Exploration des données et visualisation\n",
    "\n",
    "Le notebook [DataExploration](./visualiser.ipynb) illustre les mécanismes de requétage des données stokées en base et comment visualiser ces données avec matplotlib ou des outils comme wisdom dans des navigateurs web"
   ]
  },
  {
   "cell_type": "markdown",
   "metadata": {},
   "source": [
    "## VII/ Analyse de données et Machine learning\n",
    "\n",
    "Le notebook [MachineLearning](./data_analytics.ipynb) illustre comment requéter des données pour appliquer des algorithmes d'analyse de données et de machine learning."
   ]
  },
  {
   "cell_type": "code",
   "execution_count": null,
   "metadata": {},
   "outputs": [],
   "source": []
  }
 ],
 "metadata": {
  "kernelspec": {
   "display_name": "timeseries",
   "language": "python",
   "name": "timeseries"
  },
  "language_info": {
   "codemirror_mode": {
    "name": "ipython",
    "version": 3
   },
   "file_extension": ".py",
   "mimetype": "text/x-python",
   "name": "python",
   "nbconvert_exporter": "python",
   "pygments_lexer": "ipython3",
   "version": "3.7.7"
  }
 },
 "nbformat": 4,
 "nbformat_minor": 4
}
