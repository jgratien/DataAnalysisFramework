{
 "cells": [
  {
   "cell_type": "markdown",
   "metadata": {},
   "source": [
    "# Data producer NoteBook\n",
    "\n",
    "## I/ Objectifs\n",
    "\n",
    "L'objectif du notebook est d'illustrer comment connecter des producteurs de données à des Broker Kafka en streaming pour les 3 cas d'utilisations :\n",
    "- SmartGrid\n",
    "- Données éolienne\n",
    "- Données de pollution\n"
   ]
  },
  {
   "cell_type": "code",
   "execution_count": null,
   "metadata": {},
   "outputs": [],
   "source": [
    "import os\n",
    "data_dir='/home/irsrvshare2/R11/dgt_sandb/data/TimeSeries'\n",
    "kafka_server=\"localhost:9092\""
   ]
  },
  {
   "cell_type": "code",
   "execution_count": null,
   "metadata": {},
   "outputs": [],
   "source": [
    "import pprint\n",
    "import json\n",
    "import time\n",
    "import os\n",
    "import pandas as pd\n",
    "from kafka import KafkaProducer\n",
    "import glob\n",
    "def readFiles(path):\n",
    "    all_files =  glob.glob(os.path.join(path,\"*.csv\"))\n",
    "    li = []\n",
    "    for filename in all_files:\n",
    "        print(filename)\n",
    "        df = pd.read_csv(filename, header=0, encoding='latin-1')\n",
    "        li.append(df)\n",
    "    frame = pd.concat(li, axis=0, ignore_index=True)\n",
    "    return frame\n",
    "\n",
    "def readOneFile(filename):\n",
    "    print(filename)\n",
    "    df = pd.read_csv(filename, header=0, encoding='latin-1')\n",
    "    return df"
   ]
  },
  {
   "cell_type": "markdown",
   "metadata": {},
   "source": [
    "## II/ Données SmartGrid"
   ]
  },
  {
   "cell_type": "code",
   "execution_count": null,
   "metadata": {},
   "outputs": [],
   "source": [
    "def smartgrid_data_producer(df,topic,broker_server):\n",
    "    producer = KafkaProducer(bootstrap_servers=broker_server)\n",
    "    while True:\n",
    "        for index,row in df.iterrows():\n",
    "            count=str(row.name)\n",
    "            msg= str(row[0])\n",
    "            for i in range(1,len(row)):\n",
    "                msg = msg + \";\"+ str(row[i])\n",
    "            #Configuration of broker:auto.create.topics.enable\n",
    "            msg=count+\":\"+msg\n",
    "            producer.send(topic,msg.encode('utf8'))\n",
    "            #print(\"{} Produced records[{}] : {}\".format(time.time(), index,msg))\n",
    "            time.sleep(0.1)\n",
    "        time.sleep(10000)"
   ]
  },
  {
   "cell_type": "code",
   "execution_count": null,
   "metadata": {},
   "outputs": [],
   "source": [
    "case_name = 'SmartGridData/Cryolite/20190101'\n",
    "test_name = 'OneDay'\n",
    "path = os.path.join(data_dir,case_name,test_name)\n",
    "topic = 'SmartGridDataCryolite20190101'+test_name+'Topic'"
   ]
  },
  {
   "cell_type": "code",
   "execution_count": null,
   "metadata": {},
   "outputs": [],
   "source": [
    "df = readOneFile(path)\n",
    "smartgrid_data_producer(df,topic,kafka_server)"
   ]
  },
  {
   "cell_type": "markdown",
   "metadata": {},
   "source": [
    "## III/ Données Eolienne"
   ]
  },
  {
   "cell_type": "code",
   "execution_count": null,
   "metadata": {},
   "outputs": [],
   "source": [
    "def windprop_data_producer(df,topic,broker_server):\n",
    "    producer = KafkaProducer(bootstrap_servers=broker_server)\n",
    "    while True:\n",
    "        for index,row in df.iterrows():\n",
    "            count=str(row.name)\n",
    "            msg= str(row[0])\n",
    "            for i in range(1,len(row)):\n",
    "                msg = msg + \";\"+ str(row[i])\n",
    "            #Configuration of broker:auto.create.topics.enable\n",
    "            msg=count+\":\"+msg\n",
    "            producer.send(topic,msg.encode('utf8'))\n",
    "            #print(\"{} Produced records[{}] : {}\".format(time.time(), index,msg))\n",
    "            time.sleep(0.1)\n",
    "        time.sleep(10000)"
   ]
  },
  {
   "cell_type": "code",
   "execution_count": null,
   "metadata": {},
   "outputs": [],
   "source": [
    "case_name = 'WindPropData'\n",
    "test_name = 'Lacq_1day'\n",
    "path = os.path.join(data_dir,case_name,test_name)\n",
    "topic = casename+test_name+'Topic'"
   ]
  },
  {
   "cell_type": "code",
   "execution_count": null,
   "metadata": {},
   "outputs": [],
   "source": [
    "df = readFiles(path)\n",
    "windprop_data_producer(df,topic,kafka_server)"
   ]
  },
  {
   "cell_type": "markdown",
   "metadata": {},
   "source": [
    "## IV/ Données de pollution"
   ]
  },
  {
   "cell_type": "code",
   "execution_count": null,
   "metadata": {},
   "outputs": [],
   "source": [
    "def pollution_data_producer(df,topic,broker_server):\n",
    "    producer = KafkaProducer(bootstrap_servers=broker_server)\n",
    "    while True:\n",
    "        for index,row in df.iterrows():\n",
    "            count=str(row.name)\n",
    "            msg= str(row[0])\n",
    "            for i in range(1,len(row)):\n",
    "                msg = msg + \";\"+ str(row[i])\n",
    "            #Configuration of broker:auto.create.topics.enable\n",
    "            msg=count+\":\"+msg\n",
    "            producer.send(topic,msg.encode('utf8'))\n",
    "            #print(\"{} Produced records[{}] : {}\".format(time.time(), index,msg))\n",
    "            time.sleep(0.1)\n",
    "        time.sleep(10000)"
   ]
  },
  {
   "cell_type": "code",
   "execution_count": null,
   "metadata": {},
   "outputs": [],
   "source": [
    "case_name = 'PollutionData'\n",
    "test_name = 'Test1'\n",
    "path = os.path.join(data_dir,case_name,test_name)\n",
    "topic = casename+test_name+'Topic'"
   ]
  },
  {
   "cell_type": "code",
   "execution_count": null,
   "metadata": {},
   "outputs": [],
   "source": [
    "df = readFiles(path)\n",
    "pollution_data_producer(df,topic,kafka_server)"
   ]
  }
 ],
 "metadata": {
  "kernelspec": {
   "display_name": "timeseries",
   "language": "python",
   "name": "timeseries"
  },
  "language_info": {
   "codemirror_mode": {
    "name": "ipython",
    "version": 3
   },
   "file_extension": ".py",
   "mimetype": "text/x-python",
   "name": "python",
   "nbconvert_exporter": "python",
   "pygments_lexer": "ipython3",
   "version": "3.7.7"
  }
 },
 "nbformat": 4,
 "nbformat_minor": 4
}
