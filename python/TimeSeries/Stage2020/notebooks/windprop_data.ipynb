{
 "cells": [
  {
   "cell_type": "markdown",
   "metadata": {},
   "source": [
    "# Présentation des données éoliennes"
   ]
  },
  {
   "cell_type": "code",
   "execution_count": 1,
   "metadata": {},
   "outputs": [],
   "source": [
    "import os\n",
    "import pandas as pd"
   ]
  },
  {
   "cell_type": "code",
   "execution_count": 2,
   "metadata": {},
   "outputs": [],
   "source": [
    "data_dir = '/work/irlin355_1/gratienj/BigData/DigitalSandBox/Data/TimeSeries'\n",
    "test_dir = 'WindPropData/Lacq/OneDayP25'\n",
    "test_name = 'myTestCsv_0.csv'"
   ]
  },
  {
   "cell_type": "code",
   "execution_count": 7,
   "metadata": {},
   "outputs": [
    {
     "data": {
      "text/html": [
       "<div>\n",
       "<style scoped>\n",
       "    .dataframe tbody tr th:only-of-type {\n",
       "        vertical-align: middle;\n",
       "    }\n",
       "\n",
       "    .dataframe tbody tr th {\n",
       "        vertical-align: top;\n",
       "    }\n",
       "\n",
       "    .dataframe thead th {\n",
       "        text-align: right;\n",
       "    }\n",
       "</style>\n",
       "<table border=\"1\" class=\"dataframe\">\n",
       "  <thead>\n",
       "    <tr style=\"text-align: right;\">\n",
       "      <th></th>\n",
       "      <th>Heure :</th>\n",
       "      <th>Temps écoulé</th>\n",
       "      <th>4069 state</th>\n",
       "      <th>Battery voltage</th>\n",
       "      <th>Flow SP</th>\n",
       "      <th>Unit Code</th>\n",
       "      <th>Flow M</th>\n",
       "      <th>Pressure</th>\n",
       "      <th>Temperature</th>\n",
       "      <th>Latitude</th>\n",
       "      <th>...</th>\n",
       "      <th>C2H6</th>\n",
       "      <th>C2H6_dry</th>\n",
       "      <th>13CH4</th>\n",
       "      <th>H2O</th>\n",
       "      <th>CO2</th>\n",
       "      <th>C2C1Ratio</th>\n",
       "      <th>Delta_iCH4_Raw</th>\n",
       "      <th>HP_Delta_iCH4_30s</th>\n",
       "      <th>HP_Delta_iCH4_2min</th>\n",
       "      <th>HP_Delta_iCH4_5min</th>\n",
       "    </tr>\n",
       "  </thead>\n",
       "  <tbody>\n",
       "    <tr>\n",
       "      <th>0</th>\n",
       "      <td>02/10/2019 09:11:02</td>\n",
       "      <td>0</td>\n",
       "      <td>1,010000</td>\n",
       "      <td>888888,00</td>\n",
       "      <td>9,00</td>\n",
       "      <td>17,00</td>\n",
       "      <td>0,00</td>\n",
       "      <td>1,008</td>\n",
       "      <td>19,933</td>\n",
       "      <td>43,247596</td>\n",
       "      <td>...</td>\n",
       "      <td>0,00</td>\n",
       "      <td>0,00</td>\n",
       "      <td>0,00</td>\n",
       "      <td>0,00</td>\n",
       "      <td>0,00</td>\n",
       "      <td>0,00</td>\n",
       "      <td>0,00</td>\n",
       "      <td>0,00</td>\n",
       "      <td>0,00</td>\n",
       "      <td>0,00</td>\n",
       "    </tr>\n",
       "    <tr>\n",
       "      <th>1</th>\n",
       "      <td>02/10/2019 09:11:03</td>\n",
       "      <td>1</td>\n",
       "      <td>1,010000</td>\n",
       "      <td>888888,00</td>\n",
       "      <td>9,00</td>\n",
       "      <td>17,00</td>\n",
       "      <td>0,00</td>\n",
       "      <td>1,008</td>\n",
       "      <td>19,955</td>\n",
       "      <td>43,247597</td>\n",
       "      <td>...</td>\n",
       "      <td>0,00</td>\n",
       "      <td>0,00</td>\n",
       "      <td>0,00</td>\n",
       "      <td>0,00</td>\n",
       "      <td>0,00</td>\n",
       "      <td>0,00</td>\n",
       "      <td>0,00</td>\n",
       "      <td>0,00</td>\n",
       "      <td>0,00</td>\n",
       "      <td>0,00</td>\n",
       "    </tr>\n",
       "  </tbody>\n",
       "</table>\n",
       "<p>2 rows × 51 columns</p>\n",
       "</div>"
      ],
      "text/plain": [
       "               Heure :  Temps écoulé 4069 state Battery voltage Flow SP  \\\n",
       "0  02/10/2019 09:11:02             0   1,010000       888888,00    9,00   \n",
       "1  02/10/2019 09:11:03             1   1,010000       888888,00    9,00   \n",
       "\n",
       "  Unit Code Flow M Pressure Temperature   Latitude  ...  C2H6 C2H6_dry 13CH4  \\\n",
       "0     17,00   0,00    1,008      19,933  43,247596  ...  0,00     0,00  0,00   \n",
       "1     17,00   0,00    1,008      19,955  43,247597  ...  0,00     0,00  0,00   \n",
       "\n",
       "    H2O   CO2 C2C1Ratio Delta_iCH4_Raw HP_Delta_iCH4_30s HP_Delta_iCH4_2min  \\\n",
       "0  0,00  0,00      0,00           0,00              0,00               0,00   \n",
       "1  0,00  0,00      0,00           0,00              0,00               0,00   \n",
       "\n",
       "  HP_Delta_iCH4_5min  \n",
       "0               0,00  \n",
       "1               0,00  \n",
       "\n",
       "[2 rows x 51 columns]"
      ]
     },
     "execution_count": 7,
     "metadata": {},
     "output_type": "execute_result"
    }
   ],
   "source": [
    "filename = os.path.join(data_dir,test_dir,test_name)\n",
    "df = pd.read_csv(filename,sep=',')\n",
    "df[0:2]"
   ]
  },
  {
   "cell_type": "code",
   "execution_count": null,
   "metadata": {},
   "outputs": [],
   "source": []
  }
 ],
 "metadata": {
  "kernelspec": {
   "display_name": "timeseries",
   "language": "python",
   "name": "timeseries"
  },
  "language_info": {
   "codemirror_mode": {
    "name": "ipython",
    "version": 3
   },
   "file_extension": ".py",
   "mimetype": "text/x-python",
   "name": "python",
   "nbconvert_exporter": "python",
   "pygments_lexer": "ipython3",
   "version": "3.7.7"
  }
 },
 "nbformat": 4,
 "nbformat_minor": 4
}
