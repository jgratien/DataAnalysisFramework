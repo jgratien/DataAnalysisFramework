{
 "cells": [
  {
   "cell_type": "code",
   "execution_count": 3,
   "metadata": {},
   "outputs": [
    {
     "name": "stdout",
     "output_type": "stream",
     "text": [
      "3.14162604\n"
     ]
    }
   ],
   "source": [
    "import findspark\n",
    "findspark.init()\n",
    "\n",
    "import pyspark\n",
    "import random\n",
    "\n",
    "sc = pyspark.SparkContext(appName=\"Pi\")\n",
    "num_samples = 100000000\n",
    "\n",
    "def inside(p):     \n",
    "    x, y = random.random(), random.random()\n",
    "    return x*x + y*y < 1\n",
    "\n",
    "count = sc.parallelize(range(0, num_samples)).filter(inside).count()\n",
    "\n",
    "pi = 4 * count / num_samples\n",
    "print(pi)\n"
   ]
  },
  {
   "cell_type": "code",
   "execution_count": 8,
   "metadata": {},
   "outputs": [
    {
     "data": {
      "text/plain": [
       "[[0], [2], [3], [4], [6]]"
      ]
     },
     "execution_count": 8,
     "metadata": {},
     "output_type": "execute_result"
    }
   ],
   "source": [
    "sc.parallelize([0, 2, 3, 4, 6], 5).glom().collect()"
   ]
  },
  {
   "cell_type": "code",
   "execution_count": 11,
   "metadata": {},
   "outputs": [],
   "source": [
    "import os\n",
    "import glob\n",
    "import numpy as np\n",
    "import cv2\n",
    "import pymongo\n",
    "import gridfs\n",
    "from pymongo import MongoClient\n",
    "\n",
    "def writeImageToDataBase(folder,collection,gfs):\n",
    "    img_data = [img for img in glob.glob(os.path.join(folder,'*png'))]\n",
    "    for idx,img_path in enumerate(img_data):\n",
    "        print('IMAGE :',idx,img_path)\n",
    "        img = cv2.imread(img_path, cv2.IMREAD_COLOR)\n",
    "        img_data_id = gfs.put(img.tobytes())\n",
    "        name=os.path.basename(img_path)\n",
    "        img_doc = {\"name\":name,'id':idx,'data_id':img_data_id,'shape':{'nx':img.shape[0],'ny':img.shape[1],'nz':img.shape[2]}}\n",
    "        img_id = collection.insert_one(img_doc).inserted_id\n",
    "        print('DOC : ',img_id)    \n",
    "\n",
    "def getImageCollectionFromDataBase(collection,gfs):\n",
    "    import pprint\n",
    "    for img in collection.find():\n",
    "        pprint.pprint(img)\n",
    "        print('ID:',img['id'])\n",
    "        shape=img['shape']\n",
    "        print('SHAPE',shape['nx'],shape['ny'],shape['nz'])\n",
    "        data_file = gfs.find_one({\"_id\":img['data_id']})\n",
    "        bytes_data = data_file.read()\n",
    "        print('NB BYTES',bytes_data.__len__(),np.dtype('uint8').itemsize)\n",
    "        array_data = np.frombuffer(bytes_data,dtype='uint8',count=int(bytes_data.__len__()/np.dtype('uint8').itemsize))\n",
    "        array3D_data =np.reshape(array_data,(shape['nx'],shape['ny'],shape['nz']))\n",
    "        print('SHAPE2 :',array3D_data.shape)"
   ]
  },
  {
   "cell_type": "code",
   "execution_count": 12,
   "metadata": {},
   "outputs": [
    {
     "name": "stdout",
     "output_type": "stream",
     "text": [
      "ID: 0\n",
      "SHAPE 101 101 3\n",
      "NB BYTES 30603 1\n",
      "SHAPE2 : (101, 101, 3)\n"
     ]
    }
   ],
   "source": [
    "client = MongoClient('mongodb://%s:%s@islin-hdpnod1.ifp.fr' % (\"gratienj\", \"gratienj2019!\"))\n",
    "\n",
    "#\n",
    "# GETTING a Database\n",
    "db = client['tgs-img']\n",
    "grid_fs = gridfs.GridFS(db,'bdata')\n",
    "\n",
    "# GETTING a collection\n",
    "img_collection = db['img-collection']\n",
    "img=img_collection.find_one({\"id\":0})\n",
    "print('ID:',img['id'])\n",
    "shape=img['shape']\n",
    "print('SHAPE',shape['nx'],shape['ny'],shape['nz'])\n",
    "data_file = grid_fs.find_one({\"_id\":img['data_id']})\n",
    "bytes_data = data_file.read()\n",
    "print('NB BYTES',bytes_data.__len__(),np.dtype('uint8').itemsize)\n",
    "array_data = np.frombuffer(bytes_data,dtype='uint8',count=int(bytes_data.__len__()/np.dtype('uint8').itemsize))\n",
    "array3D_data =np.reshape(array_data,(shape['nx'],shape['ny'],shape['nz']))\n",
    "print('SHAPE2 :',array3D_data.shape)"
   ]
  },
  {
   "cell_type": "code",
   "execution_count": 46,
   "metadata": {},
   "outputs": [
    {
     "name": "stdout",
     "output_type": "stream",
     "text": [
      "NUM PARTITION :  32\n"
     ]
    }
   ],
   "source": [
    "def countPartionSize(row_iterator):\n",
    "    count = 0\n",
    "    for row in row_iterator:\n",
    "        count = count+1\n",
    "    yield count\n",
    "rdd = sc.parallelize(array3D_data)\n",
    "print(\"NUM PARTITION : \",rdd.getNumPartitions())"
   ]
  },
  {
   "cell_type": "code",
   "execution_count": 47,
   "metadata": {},
   "outputs": [
    {
     "name": "stdout",
     "output_type": "stream",
     "text": [
      "(101, 3)\n",
      "[(101, 3), (101, 3), (101, 3), (101, 3), (101, 3), (101, 3), (101, 3), (101, 3), (101, 3), (101, 3), (101, 3), (101, 3), (101, 3), (101, 3), (101, 3), (101, 3), (101, 3), (101, 3), (101, 3), (101, 3), (101, 3), (101, 3), (101, 3), (101, 3), (101, 3), (101, 3), (101, 3), (101, 3), (101, 3), (101, 3), (101, 3), (101, 3), (101, 3), (101, 3), (101, 3), (101, 3), (101, 3), (101, 3), (101, 3), (101, 3), (101, 3), (101, 3), (101, 3), (101, 3), (101, 3), (101, 3), (101, 3), (101, 3), (101, 3), (101, 3), (101, 3), (101, 3), (101, 3), (101, 3), (101, 3), (101, 3), (101, 3), (101, 3), (101, 3), (101, 3), (101, 3), (101, 3), (101, 3), (101, 3), (101, 3), (101, 3), (101, 3), (101, 3), (101, 3), (101, 3), (101, 3), (101, 3), (101, 3), (101, 3), (101, 3), (101, 3), (101, 3), (101, 3), (101, 3), (101, 3), (101, 3), (101, 3), (101, 3), (101, 3), (101, 3), (101, 3), (101, 3), (101, 3), (101, 3), (101, 3), (101, 3), (101, 3), (101, 3), (101, 3), (101, 3), (101, 3), (101, 3), (101, 3), (101, 3), (101, 3), (101, 3)]\n"
     ]
    }
   ],
   "source": [
    "print(rdd.first().shape)\n",
    "nrdd=rdd.map(lambda x: (x.shape[0], x.shape[1])).collect()\n",
    "print(nrdd)"
   ]
  },
  {
   "cell_type": "code",
   "execution_count": 48,
   "metadata": {},
   "outputs": [
    {
     "name": "stdout",
     "output_type": "stream",
     "text": [
      "[3, 3, 3, 3, 3, 3, 3, 3, 3, 3, 3, 3, 3, 3, 3, 6, 3, 3, 3, 3, 3, 3, 3, 3, 3, 3, 3, 3, 3, 3, 3, 5]\n"
     ]
    }
   ],
   "source": [
    "rdd2=rdd.mapPartitions(countPartionSize).collect()\n",
    "print(rdd2)"
   ]
  },
  {
   "cell_type": "code",
   "execution_count": null,
   "metadata": {},
   "outputs": [],
   "source": []
  }
 ],
 "metadata": {
  "kernelspec": {
   "display_name": "Python 3",
   "language": "python",
   "name": "python3"
  },
  "language_info": {
   "codemirror_mode": {
    "name": "ipython",
    "version": 3
   },
   "file_extension": ".py",
   "mimetype": "text/x-python",
   "name": "python",
   "nbconvert_exporter": "python",
   "pygments_lexer": "ipython3",
   "version": "3.7.1"
  }
 },
 "nbformat": 4,
 "nbformat_minor": 2
}
